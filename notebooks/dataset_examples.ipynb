{
 "cells": [
  {
   "cell_type": "code",
   "execution_count": 2,
   "metadata": {},
   "outputs": [],
   "source": [
    "import tensorflow as tf"
   ]
  },
  {
   "cell_type": "code",
   "execution_count": 3,
   "metadata": {},
   "outputs": [
    {
     "name": "stderr",
     "output_type": "stream",
     "text": [
      "2023-03-01 10:32:48.835055: E tensorflow/stream_executor/cuda/cuda_driver.cc:271] failed call to cuInit: CUDA_ERROR_NO_DEVICE: no CUDA-capable device is detected\n",
      "2023-03-01 10:32:48.835133: I tensorflow/stream_executor/cuda/cuda_diagnostics.cc:156] kernel driver does not appear to be running on this host (cccxl014): /proc/driver/nvidia/version does not exist\n"
     ]
    },
    {
     "name": "stdout",
     "output_type": "stream",
     "text": [
      "Output b'abc'\n",
      "Output b'efg'\n"
     ]
    }
   ],
   "source": [
    "# option 1: Single element approach:  Add single element at a time:\n",
    "\n",
    "element_list = [None]  # only ever holds 1 element at a time\n",
    "dataset = tf.data.Dataset.from_generator(lambda: element_list, tf.string)\n",
    "\n",
    "element_list[0] = \"abc\"\n",
    "\n",
    "print(\"Output\", dataset.get_single_element().numpy())\n",
    "\n",
    "element_list[0] = \"efg\"\n",
    "\n",
    "print(\"Output\", dataset.get_single_element().numpy())\n"
   ]
  },
  {
   "cell_type": "code",
   "execution_count": 4,
   "metadata": {},
   "outputs": [
    {
     "name": "stdout",
     "output_type": "stream",
     "text": [
      "Old variable 0\n",
      "New variable 100\n",
      "Output 0\n",
      "Old variable 100\n",
      "New variable 200\n",
      "Output 0\n"
     ]
    }
   ],
   "source": [
    "# this works for functions which change global state as well\n",
    "class MyModel:\n",
    "    def __init__(self):\n",
    "        self.variable = tf.Variable(0)\n",
    "\n",
    "    def change_variable(self, x):\n",
    "        tf.print(\"Old variable\", self.variable)\n",
    "        self.variable.assign(x)\n",
    "        tf.print(\"New variable\", self.variable)\n",
    "        return 0  # just to return a dummy value\n",
    "\n",
    "model = MyModel()\n",
    "\n",
    "element_list = [None]  # only ever holds 1 element at a time\n",
    "dataset = tf.data.Dataset.from_generator(lambda: element_list, tf.int32)\n",
    "dataset = dataset.map(model.change_variable)\n",
    "\n",
    "element_list[0] = 100\n",
    "\n",
    "print(\"Output\", dataset.get_single_element().numpy())\n",
    "\n",
    "element_list[0] = 200\n",
    "\n",
    "print(\"Output\", dataset.get_single_element().numpy())"
   ]
  },
  {
   "cell_type": "code",
   "execution_count": 5,
   "metadata": {},
   "outputs": [
    {
     "name": "stdout",
     "output_type": "stream",
     "text": [
      "b'abc'\n",
      "b'efg'\n",
      "\n",
      "b'hij'\n",
      "b'klm'\n",
      "b'nop'\n"
     ]
    }
   ],
   "source": [
    "# Option 2: Go through list of objects of arbitrary size and return numpy objects\n",
    "\n",
    "element_list = []  # only every holds 1 element at a time\n",
    "dataset = tf.data.Dataset.from_generator(lambda: element_list, tf.string)\n",
    "\n",
    "# have to change element_list in place\n",
    "element_list.clear()\n",
    "element_list.extend([\"abc\", \"efg\"])\n",
    "\n",
    "for e in dataset.as_numpy_iterator():\n",
    "    print(e)\n",
    "\n",
    "print()\n",
    "# have to change element_list in place\n",
    "element_list.clear()\n",
    "element_list.extend([\"hij\", \"klm\", \"nop\"])\n",
    "for e in dataset.as_numpy_iterator():\n",
    "    print(e)"
   ]
  },
  {
   "cell_type": "code",
   "execution_count": 6,
   "metadata": {},
   "outputs": [
    {
     "name": "stdout",
     "output_type": "stream",
     "text": [
      "Old variable 0\n",
      "New variable 100\n",
      "0\n",
      "Old variable 100\n",
      "New variable 200\n",
      "0\n",
      "\n",
      "Old variable 200\n",
      "New variable 300\n",
      "0\n",
      "Old variable 300\n",
      "New variable 400\n",
      "0\n",
      "Old variable 400\n",
      "New variable 500\n",
      "0\n"
     ]
    }
   ],
   "source": [
    "# this also works for functions which change global state\n",
    "class MyModel:\n",
    "    def __init__(self):\n",
    "        self.variable = tf.Variable(0)\n",
    "\n",
    "    def change_variable(self, x):\n",
    "        tf.print(\"Old variable\", self.variable)\n",
    "        self.variable.assign(x)\n",
    "        tf.print(\"New variable\", self.variable)\n",
    "        return 0  # just to return a dummy value\n",
    "\n",
    "model = MyModel()\n",
    "\n",
    "element_list = [None]  # only ever holds 1 element at a time\n",
    "dataset = tf.data.Dataset.from_generator(lambda: element_list, tf.int32)\n",
    "dataset = dataset.map(model.change_variable)\n",
    "\n",
    "# have to change element_list in place\n",
    "element_list.clear()\n",
    "element_list.extend([100, 200])\n",
    "\n",
    "for e in dataset.as_numpy_iterator():\n",
    "    print(e)\n",
    "\n",
    "print()\n",
    "# have to change element_list in place\n",
    "element_list.clear()\n",
    "element_list.extend([300, 400, 500])\n",
    "for e in dataset.as_numpy_iterator():\n",
    "    print(e)"
   ]
  },
  {
   "cell_type": "code",
   "execution_count": null,
   "metadata": {},
   "outputs": [],
   "source": []
  }
 ],
 "metadata": {
  "kernelspec": {
   "display_name": "Python 3",
   "language": "python",
   "name": "python3"
  },
  "language_info": {
   "codemirror_mode": {
    "name": "ipython",
    "version": 3
   },
   "file_extension": ".py",
   "mimetype": "text/x-python",
   "name": "python",
   "nbconvert_exporter": "python",
   "pygments_lexer": "ipython3",
   "version": "3.10.9"
  },
  "orig_nbformat": 4,
  "vscode": {
   "interpreter": {
    "hash": "d5afdd76ea872a953656f1a83797b652f8efe0d105903c44aab5281fdf8da6e5"
   }
  }
 },
 "nbformat": 4,
 "nbformat_minor": 2
}
