{
 "cells": [
  {
   "cell_type": "code",
   "execution_count": 1,
   "id": "5b944f52-f551-4806-8d18-1649a64d4a15",
   "metadata": {
    "tags": []
   },
   "outputs": [],
   "source": [
    "    dataset_path = \"/home/mirek/data/stdlib-lgraph-intermediate-v9-global\"\n",
    "weights_path = \"/home/mirek/graph2tac/graph2tac/tf2/weights/checkpoint__epoch299\"\n",
    "params_path = \"/home/mirek/graph2tac/graph2tac/tf2/trained_params\""
   ]
  },
  {
   "cell_type": "code",
   "execution_count": 2,
   "id": "779a776c-e697-42c9-8ec2-74d722698c10",
   "metadata": {},
   "outputs": [],
   "source": [
    "from pathlib import Path\n",
    "from tqdm import tqdm\n",
    "import tensorflow as tf\n",
    "import numpy as np\n",
    "from tensorflow import keras\n",
    "\n",
    "from graph2tac.tf2.train import TrainingParams\n",
    "from graph2tac.tf2.predict import Predict\n",
    "from graph2tac.loader.data_server import DataServer\n",
    "from graph2tac.tf2.graph_nn_def_batch import make_flat_def_batch_np\n",
    "from graph2tac.tf2.model import np_to_tensor_def"
   ]
  },
  {
   "cell_type": "code",
   "execution_count": 3,
   "id": "6122c682-affc-4759-a9f4-90c28fcdf509",
   "metadata": {},
   "outputs": [],
   "source": [
    "def run_update_embeddings(predict, d, extra_iterations = 0):\n",
    "    embeddings = predict.model_wrapper.node_and_def_emb._embedding_layer.embeddings\n",
    "    emb0 = np.array(predict.model_wrapper.node_and_def_emb._embedding_layer.embeddings.numpy())\n",
    "    start_def = predict.dataset_consts.base_node_type_num\n",
    "    emb_def = embeddings[start_def:]\n",
    "    print(\"emb_zeros_ori\", tf.math.reduce_all(tf.equal(predict.model_wrapper.node_and_def_emb._embedding_layer.embeddings[start_def:], 0.)))\n",
    "    emb_def.assign(tf.zeros_like(emb_def))\n",
    "    print(\"emb_zeros\", tf.math.reduce_all(tf.equal(predict.model_wrapper.node_and_def_emb._embedding_layer.embeddings[start_def:], 0.)))\n",
    "    # recalculate the embeddings by their definitions\n",
    "    clusters = d.def_cluster_subgraphs(tf_gnn=False)\n",
    "    #print(\"Update embeddings\")\n",
    "    for cluster in tqdm(clusters, desc = \"Update embedding\"):\n",
    "    #for cluster in clusters:\n",
    "        nodes_c = np.array(cluster[0])\n",
    "        root_nums = cluster[2]\n",
    "        roots = nodes_c[:root_nums]\n",
    "        nodes_c = nodes_c[root_nums:]\n",
    "        #print(np.max(nodes_c), \"->\", roots)\n",
    "        predict.compute_new_definitions([cluster])\n",
    "    print(\"emb_updated_zeros\", tf.math.reduce_all(tf.equal(predict.model_wrapper.node_and_def_emb._embedding_layer.embeddings[start_def:], 0.)))\n",
    "    emb1 = np.array(predict.model_wrapper.node_and_def_emb._embedding_layer.embeddings.numpy())\n",
    "    print(\"emb0 == emb1\", np.max(np.abs(emb0 - emb1)))\n",
    "    for i in range(extra_iterations):\n",
    "        for cluster in tqdm(clusters, desc = \"Update embedding{}\".format(i+2)):\n",
    "            predict.compute_new_definitions([cluster])\n",
    "        emb2 = np.array(predict.model_wrapper.node_and_def_emb._embedding_layer.embeddings.numpy())\n",
    "        print(\"emb{} == emb{}\".format(i+1, i+2), np.max(np.abs(emb1 - emb2)))\n",
    "        emb1 = emb2"
   ]
  },
  {
   "cell_type": "code",
   "execution_count": 4,
   "id": "b74c35b9-cbc1-49b8-b74c-60f81dbce672",
   "metadata": {},
   "outputs": [],
   "source": [
    "def check_def_loss(predict, d):\n",
    "    def squared_norm_diff(\n",
    "        emb1,  # [batch, dim]\n",
    "        emb2,  # [batch, dim]\n",
    "    ):  # -> [batch]\n",
    "        diff = emb1 - emb2  # [batch, dim]\n",
    "        norm_squared = tf.math.reduce_sum(tf.square(diff), axis=-1)  # [batch]\n",
    "        return norm_squared  # [batch]\n",
    "\n",
    "    def_loss_mean = tf.keras.metrics.Mean()\n",
    "    @tf.function(input_signature=(predict.model_wrapper.def_input_spec,))\n",
    "    def def_loss_step(batch):\n",
    "        def_body_embs, def_id_embs = predict.model_wrapper.model_def(batch, training=False)\n",
    "        def_loss = squared_norm_diff(def_body_embs.values, def_id_embs.values)\n",
    "        #print(def_loss.numpy())\n",
    "        def_loss_mean(def_loss)\n",
    "    clusters = d.def_cluster_subgraphs(tf_gnn=False)\n",
    "    for cluster in tqdm(clusters, desc = \"Check def loss\"):\n",
    "        flat_batch_np = make_flat_def_batch_np([cluster])\n",
    "        flat_batch = np_to_tensor_def(flat_batch_np)\n",
    "        def_loss_step(flat_batch)\n",
    "    print(\"Def loss:\", def_loss_mean.result().numpy())"
   ]
  },
  {
   "cell_type": "code",
   "execution_count": 5,
   "id": "292cf908-9b36-46cc-8edb-edf4c8887122",
   "metadata": {},
   "outputs": [],
   "source": [
    "def check_predict_accuracy(predict, d, restrict_tactics = False, restrict_globargs = False, global_equiv = None):\n",
    "    allowed_model_tactics = list(range(len(d.graph_constants().tactic_index_to_hash)))\n",
    "    available_global = None\n",
    "    score = {\n",
    "        \"no_arg\" : [0,0],\n",
    "        \"local\" : [0,0],\n",
    "        \"global\" : [0,0],\n",
    "        \"both\" : [0,0],\n",
    "        \"none\" : [0,0],\n",
    "    }\n",
    "    correct = 0\n",
    "    total = 0\n",
    "    print(f\"Restrictions: tactics {restrict_tactics}, globargs {restrict_globargs}\")\n",
    "    data = d.data_valid()\n",
    "    data = tqdm(data, desc = \"Valid check\")\n",
    "    for state, action, _ in data:\n",
    "        if restrict_tactics:\n",
    "            allowed_model_tactics = [action[0]]\n",
    "        if restrict_globargs:\n",
    "            _, args, mask_args = action\n",
    "            args = args[mask_args]\n",
    "            arg_is_global = args[:,0] == 1\n",
    "            arg_vals = args[:,1]\n",
    "            glob_args = arg_vals[arg_is_global]\n",
    "            #available_global = np.array([\n",
    "            #    predict.dataset_consts.global_context.index(x)\n",
    "            #    for x in sorted(set(glob_args))\n",
    "            #], dtype = int)\n",
    "            available_global = np.array(sorted(set(glob_args)), dtype = int)\n",
    "        ranked_actions, ranked_values = predict.ranked_predictions(\n",
    "            state, allowed_model_tactics, available_global = available_global,\n",
    "            tactic_expand_bound=1, total_expand_bound=1,\n",
    "        )\n",
    "        real_tactic_label, real_args, mask_args = action\n",
    "        real_args_valid = real_args[mask_args]\n",
    "        if len(ranked_actions) > 0: action = ranked_actions[0]\n",
    "        else: action = None\n",
    "        arg_types = real_args_valid[:,0]\n",
    "        arg_values = real_args_valid[:,1]\n",
    "        ctx_len = len(state[3])\n",
    "        if arg_types.size == 0: cur_type = \"no_arg\"\n",
    "        elif ((arg_types == 0) & (arg_values == ctx_len)).any(): cur_type = \"none\"\n",
    "        elif (arg_types == 0).all(): cur_type = \"local\"\n",
    "        elif (arg_types == 1).all(): cur_type = \"global\"\n",
    "        else: cur_type = \"both\"\n",
    "        score_t = score[cur_type]\n",
    "        score_t[0] += 1\n",
    "        #print(\"cur_type:\", cur_type)\n",
    "        #print(\"real_tactic_label:\", real_tactic_label)\n",
    "        #print(\"real_args_valid:\", real_args_valid)\n",
    "        #print(\"action:\", action)\n",
    "        #print()\n",
    "        if action is not None:\n",
    "            args_pred = action[1:]\n",
    "            global_ctx = np.array(predict.dataset_consts.global_context)\n",
    "            if global_equiv is not None:\n",
    "                global_equiv = np.array(global_equiv)\n",
    "                def convert_args(args):\n",
    "                    args_t, args_val = args.T\n",
    "                    args_glob = args_val[args_t == 1]\n",
    "                    args_glob = global_equiv[global_ctx[args_glob]] # conversion\n",
    "                    args_val[args_t == 1] = args_glob\n",
    "                #print(\"----------------\")\n",
    "                #print(real_args_valid.shape, args_pred.shape)\n",
    "                convert_args(real_args_valid)\n",
    "                convert_args(args_pred)\n",
    "                #print(real_args_valid.shape, args_pred.shape)\n",
    "            if real_tactic_label == action[0,0] and (real_args_valid == args_pred).all():\n",
    "                score_t[1] += 1\n",
    "    print(\"Validation accuracy:\")\n",
    "    for t, score_t in score.items():\n",
    "        print(f\"  {t}: {score_t[1]} / {score_t[0]}\")    "
   ]
  },
  {
   "cell_type": "code",
   "execution_count": 6,
   "id": "d93a4bb8-a498-4835-8642-667d76761537",
   "metadata": {},
   "outputs": [
    {
     "name": "stderr",
     "output_type": "stream",
     "text": [
      "/home/mirek/miniconda3/envs/omicron/lib/python3.9/site-packages/dataclasses_json-0.5.6-py3.9.egg/dataclasses_json/core.py:171: RuntimeWarning: `NoneType` object value of non-optional type num_proc detected when decoding TrainingParams.\n",
      "  warnings.warn(f\"`NoneType` object {warning}.\", RuntimeWarning)\n"
     ]
    }
   ],
   "source": [
    "params = TrainingParams.from_yaml_file(Path(params_path))"
   ]
  },
  {
   "cell_type": "code",
   "execution_count": 7,
   "id": "2087e357-8f5d-4141-bb94-739aeeec2e83",
   "metadata": {},
   "outputs": [
    {
     "data": {
      "text/plain": [
       "TrainingParams(data_params=DataParams(split_seed=0, cv_fold=0, shuffle_def=True, bfs_option=False, max_subgraph_size=1024), optimizer_params=OptimizerParams(optimizer='adam', learning_rate=None, clipvalue=None, clipnorm=None, global_clipnorm=None, loss_weights=LossWeightParams(tactic_base=1.0, tactic_args=1.0, def_task=100.0, def_id_to_body=1.0, def_body_to_id=1.0), def_task=True), model_params=ModelParams(dataset_consts=None, ignore_definitions=False, normalize_def_embeddings=True, single_edge_type=False, symmetric_edges=True, self_edges=True, total_hops=10, node_dim=128, message_passing_layer='conv2', norm_msgs=False, nonlin_position=None, nonlin_type='relu', residuals=True, residual_dropout=True, residual_norm='layer_norm', final_collapse=True, aggreg_max=False, use_same_graph_nn_weights_for_def_training=True), tf_seed=42, tf_eager=False, enable_op_determinism=False, batch_size=50, num_epochs=300, num_proc=None)"
      ]
     },
     "execution_count": 7,
     "metadata": {},
     "output_type": "execute_result"
    }
   ],
   "source": [
    "params"
   ]
  },
  {
   "cell_type": "code",
   "execution_count": 8,
   "id": "d89fa12c-3681-467b-bc55-4f12eb3a0701",
   "metadata": {},
   "outputs": [],
   "source": [
    "import os\n",
    "os.environ[\"G2T_LOG_LEVEL\"] = \"40\""
   ]
  },
  {
   "cell_type": "code",
   "execution_count": 9,
   "id": "7816efb0-3a10-4fb0-b378-dd52aad185c4",
   "metadata": {
    "scrolled": true,
    "tags": []
   },
   "outputs": [
    {
     "name": "stdout",
     "output_type": "stream",
     "text": [
      "Data: using be613e for processed data storage\n",
      "LOADING | \n",
      "LOADING | 526\n",
      "LOADING | c_data call complete\n",
      "LOADING | building dataset complete in 34.3323290348053 seconds\n",
      "LOADING | splitting data to train, valid, test complete in 0.702211856842041 seconds\n",
      "LOADING | building def clusters complete 0.49122166633605957 seconds\n"
     ]
    }
   ],
   "source": [
    "d = DataServer(\n",
    "    Path(dataset_path),\n",
    "    Path('.'),\n",
    "    cross_valid_fold=params.data_params.cv_fold,\n",
    "    bfs_option=params.data_params.bfs_option,\n",
    "    max_subgraph_size=params.data_params.max_subgraph_size,\n",
    "    split_random_seed=params.data_params.split_seed,\n",
    "    split=(0,1,0),\n",
    "    global_args = True,\n",
    "    num_proc=params.num_proc\n",
    ")"
   ]
  },
  {
   "cell_type": "code",
   "execution_count": 10,
   "id": "0dffff64-c2a8-4f4c-8b2b-d8f93c96db34",
   "metadata": {},
   "outputs": [],
   "source": [
    "predict = Predict(Path(weights_path))"
   ]
  },
  {
   "cell_type": "code",
   "execution_count": 11,
   "id": "c9246948-292c-4fce-889e-1aafdd120dd9",
   "metadata": {},
   "outputs": [
    {
     "name": "stdout",
     "output_type": "stream",
     "text": [
      "LOADING | requested 16630\n"
     ]
    },
    {
     "name": "stderr",
     "output_type": "stream",
     "text": [
      "100%|██████████████████████████████████████████████████████| 16630/16630 [00:01<00:00, 10686.33it/s]\n",
      "Check def loss: 100%|█████████████████████████████████████████| 16630/16630 [08:31<00:00, 32.54it/s]\n"
     ]
    },
    {
     "name": "stdout",
     "output_type": "stream",
     "text": [
      "Def loss: 0.0014793068\n"
     ]
    }
   ],
   "source": [
    "check_def_loss(predict, d)"
   ]
  },
  {
   "cell_type": "code",
   "execution_count": 12,
   "id": "223f6f35-2150-46b6-850d-9244cd4d758f",
   "metadata": {},
   "outputs": [
    {
     "name": "stdout",
     "output_type": "stream",
     "text": [
      "Restrictions: tactics False, globargs False\n"
     ]
    },
    {
     "name": "stderr",
     "output_type": "stream",
     "text": [
      "Valid check: 100%|████████████████████████████████████████| 198207/198207 [2:36:57<00:00, 21.05it/s]"
     ]
    },
    {
     "name": "stdout",
     "output_type": "stream",
     "text": [
      "Validation accuracy:\n",
      "  no_arg: 82501 / 98146\n",
      "  local: 21475 / 31200\n",
      "  global: 34901 / 59958\n",
      "  both: 2469 / 5207\n",
      "  none: 0 / 3696\n"
     ]
    },
    {
     "name": "stderr",
     "output_type": "stream",
     "text": [
      "\n"
     ]
    }
   ],
   "source": [
    "check_predict_accuracy(predict, d, restrict_tactics = False, restrict_globargs = False)"
   ]
  },
  {
   "cell_type": "code",
   "execution_count": 13,
   "id": "0b0a5c83-ae4a-494a-85aa-fcecd6f0ba7c",
   "metadata": {},
   "outputs": [
    {
     "name": "stdout",
     "output_type": "stream",
     "text": [
      "Restrictions: tactics True, globargs True\n"
     ]
    },
    {
     "name": "stderr",
     "output_type": "stream",
     "text": [
      "Valid check: 100%|████████████████████████████████████████| 198207/198207 [2:36:48<00:00, 21.07it/s]"
     ]
    },
    {
     "name": "stdout",
     "output_type": "stream",
     "text": [
      "Validation accuracy:\n",
      "  no_arg: 98146 / 98146\n",
      "  local: 28425 / 31200\n",
      "  global: 56920 / 59958\n",
      "  both: 4590 / 5207\n",
      "  none: 0 / 3696\n"
     ]
    },
    {
     "name": "stderr",
     "output_type": "stream",
     "text": [
      "\n"
     ]
    }
   ],
   "source": [
    "check_predict_accuracy(predict, d, restrict_tactics = True, restrict_globargs = True)"
   ]
  },
  {
   "cell_type": "code",
   "execution_count": 14,
   "id": "9011e4d4-57dc-4389-957e-6da5f2d5d9a4",
   "metadata": {},
   "outputs": [
    {
     "name": "stdout",
     "output_type": "stream",
     "text": [
      "Restrictions: tactics True, globargs False\n"
     ]
    },
    {
     "name": "stderr",
     "output_type": "stream",
     "text": [
      "Valid check: 100%|████████████████████████████████████████| 198207/198207 [2:34:04<00:00, 21.44it/s]"
     ]
    },
    {
     "name": "stdout",
     "output_type": "stream",
     "text": [
      "Validation accuracy:\n",
      "  no_arg: 98146 / 98146\n",
      "  local: 27755 / 31200\n",
      "  global: 46048 / 59958\n",
      "  both: 3649 / 5207\n",
      "  none: 0 / 3696\n"
     ]
    },
    {
     "name": "stderr",
     "output_type": "stream",
     "text": [
      "\n"
     ]
    }
   ],
   "source": [
    "check_predict_accuracy(predict, d, restrict_tactics = True, restrict_globargs = False)"
   ]
  },
  {
   "cell_type": "code",
   "execution_count": 15,
   "id": "500bc81f-26b9-43bd-98f2-2624b09e9e06",
   "metadata": {},
   "outputs": [
    {
     "name": "stdout",
     "output_type": "stream",
     "text": [
      "Restrictions: tactics False, globargs True\n"
     ]
    },
    {
     "name": "stderr",
     "output_type": "stream",
     "text": [
      "Valid check: 100%|████████████████████████████████████████| 198207/198207 [2:23:32<00:00, 23.01it/s]"
     ]
    },
    {
     "name": "stdout",
     "output_type": "stream",
     "text": [
      "Validation accuracy:\n",
      "  no_arg: 82501 / 98146\n",
      "  local: 21793 / 31200\n",
      "  global: 41250 / 59958\n",
      "  both: 2959 / 5207\n",
      "  none: 0 / 3696\n"
     ]
    },
    {
     "name": "stderr",
     "output_type": "stream",
     "text": [
      "\n"
     ]
    }
   ],
   "source": [
    "check_predict_accuracy(predict, d, restrict_tactics = False, restrict_globargs = True)"
   ]
  },
  {
   "cell_type": "code",
   "execution_count": 16,
   "id": "527c0626-274b-4099-9023-c8bce438b58c",
   "metadata": {},
   "outputs": [
    {
     "name": "stdout",
     "output_type": "stream",
     "text": [
      "emb_zeros_ori tf.Tensor(False, shape=(), dtype=bool)\n",
      "emb_zeros tf.Tensor(True, shape=(), dtype=bool)\n",
      "LOADING | requested 16630\n"
     ]
    },
    {
     "name": "stderr",
     "output_type": "stream",
     "text": [
      "Update embedding: 100%|███████████████████████████████████████| 16630/16630 [08:55<00:00, 31.05it/s]"
     ]
    },
    {
     "name": "stdout",
     "output_type": "stream",
     "text": [
      "emb_updated_zeros tf.Tensor(False, shape=(), dtype=bool)\n",
      "emb0 == emb1 4.303076\n"
     ]
    },
    {
     "name": "stderr",
     "output_type": "stream",
     "text": [
      "\n"
     ]
    }
   ],
   "source": [
    "run_update_embeddings(predict, d)"
   ]
  },
  {
   "cell_type": "code",
   "execution_count": 17,
   "id": "31622e87-aafb-46e6-8c7d-7f8253b477f2",
   "metadata": {},
   "outputs": [
    {
     "name": "stdout",
     "output_type": "stream",
     "text": [
      "LOADING | requested 16630\n"
     ]
    },
    {
     "name": "stderr",
     "output_type": "stream",
     "text": [
      "Check def loss: 100%|█████████████████████████████████████████| 16630/16630 [08:40<00:00, 31.95it/s]\n"
     ]
    },
    {
     "name": "stdout",
     "output_type": "stream",
     "text": [
      "Def loss: 1.821816e-14\n"
     ]
    }
   ],
   "source": [
    "check_def_loss(predict, d)"
   ]
  },
  {
   "cell_type": "code",
   "execution_count": 18,
   "id": "b298c583-f07f-44cf-aef8-f0b361323888",
   "metadata": {
    "scrolled": true,
    "tags": []
   },
   "outputs": [],
   "source": [
    "nt_to_name = predict.dataset_consts.node_type_to_name\n",
    "emb = np.array(predict.model_wrapper.node_and_def_emb._embedding_layer.embeddings.numpy())"
   ]
  },
  {
   "cell_type": "code",
   "execution_count": 36,
   "id": "41c77a7e-2459-4b12-8dc0-780cda7763db",
   "metadata": {
    "scrolled": true,
    "tags": []
   },
   "outputs": [
    {
     "name": "stderr",
     "output_type": "stream",
     "text": [
      "100%|████████████████████████████████████████████████████████| 17512/17512 [01:33<00:00, 188.21it/s]\n"
     ]
    }
   ],
   "source": [
    "radius = 1e-6\n",
    "nt_to_eqc = np.arange(emb.shape[0])\n",
    "for n in tqdm(range(1, len(nt_to_eqc))):\n",
    "    dists = np.abs(emb[n] - emb[:n])\n",
    "    dists = np.max(dists, axis = 1)\n",
    "    min_dist_n = np.argmin(dists)\n",
    "    min_dist = dists[min_dist_n]\n",
    "    if min_dist <= radius:\n",
    "        nt_to_eqc[n] = nt_to_eqc[min_dist_n]"
   ]
  },
  {
   "cell_type": "code",
   "execution_count": 37,
   "id": "b54cec92-668f-42ee-8764-a5a320cd3563",
   "metadata": {
    "scrolled": true,
    "tags": []
   },
   "outputs": [
    {
     "data": {
      "text/plain": [
       "array([    0,     1,     2, ..., 17510, 17511, 17512])"
      ]
     },
     "execution_count": 37,
     "metadata": {},
     "output_type": "execute_result"
    }
   ],
   "source": [
    "nt_to_eqc"
   ]
  },
  {
   "cell_type": "code",
   "execution_count": 38,
   "id": "7df6a824-afd1-48f8-b781-52a120113489",
   "metadata": {},
   "outputs": [
    {
     "data": {
      "text/plain": [
       "15943"
      ]
     },
     "execution_count": 38,
     "metadata": {},
     "output_type": "execute_result"
    }
   ],
   "source": [
    "nt_eq_classes = dict()\n",
    "for n,c in enumerate(nt_to_eqc):\n",
    "    if c in nt_eq_classes: nt_eq_classes[c].append(n)\n",
    "    else: nt_eq_classes[c] = [n]\n",
    "nt_eq_classes = sorted(nt_eq_classes.values(), key = lambda x: (-len(x), x))\n",
    "len(nt_eq_classes)"
   ]
  },
  {
   "cell_type": "code",
   "execution_count": 39,
   "id": "beed14fe-cc3e-405d-82e1-0f1eed7a3ebb",
   "metadata": {
    "scrolled": true,
    "tags": []
   },
   "outputs": [
    {
     "name": "stdout",
     "output_type": "stream",
     "text": [
      "['Coq.Init.Byte.xae', 'Coq.Init.Byte.x9d', 'Coq.Init.Byte.xe4', 'Coq.Init.Byte.x5d', 'Coq.Init.Byte.x98', 'Coq.Init.Byte.x0d', 'Coq.Init.Byte.x85', 'Coq.Init.Byte.x78', 'Coq.Init.Byte.x3f', 'Coq.Init.Byte.x1f', 'Coq.Init.Byte.xdf', 'Coq.Init.Byte.x62', 'Coq.Init.Byte.x65', 'Coq.Init.Byte.x1b', 'Coq.Init.Byte.xee', 'Coq.Init.Byte.xc1', 'Coq.Init.Byte.x48', 'Coq.Init.Byte.xb6', 'Coq.Init.Byte.x49', 'Coq.Init.Byte.x00', 'Coq.Init.Byte.x82', 'Coq.Init.Byte.xd4', 'Coq.Init.Byte.xb8', 'Coq.Init.Byte.xe3', 'Coq.Init.Byte.x41', 'Coq.Init.Byte.x84', 'Coq.Init.Byte.x24', 'Coq.Init.Byte.xbb', 'Coq.Init.Byte.x03', 'Coq.Init.Byte.xf7', 'Coq.Init.Byte.xb0', 'Coq.Init.Byte.x45', 'Coq.Init.Byte.x4c', 'Coq.Init.Byte.xb1', 'Coq.Init.Byte.x89', 'Coq.Init.Byte.x8e', 'Coq.Init.Byte.x08', 'Coq.Init.Byte.xe9', 'Coq.Init.Byte.xa3', 'Coq.Init.Byte.xa8', 'Coq.Init.Byte.x56', 'Coq.Init.Byte.x74', 'Coq.Init.Byte.x33', 'Coq.Init.Byte.x52', 'Coq.Init.Byte.x76', 'Coq.Init.Byte.xba', 'Coq.Init.Byte.x12', 'Coq.Init.Byte.x0f', 'Coq.Init.Byte.x77', 'Coq.Init.Byte.xc2', 'Coq.Init.Byte.x6e', 'Coq.Init.Byte.x46', 'Coq.Init.Byte.x2f', 'Coq.Init.Byte.x36', 'Coq.Init.Byte.x97', 'Coq.Init.Byte.xd8', 'Coq.Init.Byte.x25', 'Coq.Init.Byte.xcb', 'Coq.Init.Byte.xf4', 'Coq.Init.Byte.xa5', 'Coq.Init.Byte.x04', 'Coq.Init.Byte.x2c', 'Coq.Init.Byte.x11', 'Coq.Init.Byte.xbd', 'Coq.Init.Byte.x0b', 'Coq.Init.Byte.xe6', 'Coq.Init.Byte.xc5', 'Coq.Init.Byte.xcc', 'Coq.Init.Byte.x87', 'Coq.Init.Byte.x5a', 'Coq.Init.Byte.x35', 'Coq.Init.Byte.x8b', 'Coq.Init.Byte.xfb', 'Coq.Init.Byte.xe2', 'Coq.Init.Byte.xdb', 'Coq.Init.Byte.x72', 'Coq.Init.Byte.xca', 'Coq.Init.Byte.xcd', 'Coq.Init.Byte.x02', 'Coq.Init.Byte.x20', 'Coq.Init.Byte.xa1', 'Coq.Init.Byte.x5c', 'Coq.Init.Byte.x53', 'Coq.Init.Byte.x70', 'Coq.Init.Byte.x8a', 'Coq.Init.Byte.xa6', 'Coq.Init.Byte.x7d', 'Coq.Init.Byte.xce', 'Coq.Init.Byte.xf9', 'Coq.Init.Byte.x8f', 'Coq.Init.Byte.xc9', 'Coq.Init.Byte.x44', 'Coq.Init.Byte.x47', 'Coq.Init.Byte.x28', 'Coq.Init.Byte.xc0', 'Coq.Init.Byte.x43', 'Coq.Init.Byte.x39', 'Coq.Init.Byte.x64', 'Coq.Init.Byte.x80', 'Coq.Init.Byte.x8c', 'Coq.Init.Byte.xbe', 'Coq.Init.Byte.x75', 'Coq.Init.Byte.x19', 'Coq.Init.Byte.x5e', 'Coq.Init.Byte.xf0', 'Coq.Init.Byte.x21', 'Coq.Init.Byte.x94', 'Coq.Init.Byte.xbf', 'Coq.Init.Byte.xed', 'Coq.Init.Byte.x01', 'Coq.Init.Byte.xfe', 'Coq.Init.Byte.x29', 'Coq.Init.Byte.xde', 'Coq.Init.Byte.xe0', 'Coq.Init.Byte.x5b', 'Coq.Init.Byte.x27', 'Coq.Init.Byte.x79', 'Coq.Init.Byte.x58', 'Coq.Init.Byte.x66', 'Coq.Init.Byte.xa9', 'Coq.Init.Byte.x4e', 'Coq.Init.Byte.x2e', 'Coq.Init.Byte.x68', 'Coq.Init.Byte.xda', 'Coq.Init.Byte.x30', 'Coq.Init.Byte.xf5', 'Coq.Init.Byte.x10', 'Coq.Init.Byte.x6d', 'Coq.Init.Byte.x57', 'Coq.Init.Byte.xab', 'Coq.Init.Byte.xc4', 'Coq.Init.Byte.x59', 'Coq.Init.Byte.xdd', 'Coq.Init.Byte.x1c', 'Coq.Init.Byte.x3b', 'Coq.Init.Byte.xa4', 'Coq.Init.Byte.xad', 'Coq.Init.Byte.x96', 'Coq.Init.Byte.x16', 'Coq.Init.Byte.x38', 'Coq.Init.Byte.x3d', 'Coq.Init.Byte.xd0', 'Coq.Init.Byte.x91', 'Coq.Init.Byte.x51', 'Coq.Init.Byte.x55', 'Coq.Init.Byte.x54', 'Coq.Init.Byte.xac', 'Coq.Init.Byte.x9e', 'Coq.Init.Byte.x4b', 'Coq.Init.Byte.xa0', 'Coq.Init.Byte.x9c', 'Coq.Init.Byte.x6f', 'Coq.Init.Byte.x60', 'Coq.Init.Byte.x9f', 'Coq.Init.Byte.xb2', 'Coq.Init.Byte.x34', 'Coq.Init.Byte.xf3', 'Coq.Init.Byte.x13', 'Coq.Init.Byte.x3e', 'Coq.Init.Byte.xcf', 'Coq.Init.Byte.x71', 'Coq.Init.Byte.xeb', 'Coq.Init.Byte.x1d', 'Coq.Init.Byte.xd7', 'Coq.Init.Byte.xd6', 'Coq.Init.Byte.x9a', 'Coq.Init.Byte.xd2', 'Coq.Init.Byte.xc7', 'Coq.Init.Byte.x23', 'Coq.Init.Byte.xe5', 'Coq.Init.Byte.x93', 'Coq.Init.Byte.x17', 'Coq.Init.Byte.x92', 'Coq.Init.Byte.x09', 'Coq.Init.Byte.x9b', 'Coq.Init.Byte.x69', 'Coq.Init.Byte.x88', 'Coq.Init.Byte.x6a', 'Coq.Init.Byte.x8d', 'Coq.Init.Byte.x63', 'Coq.Init.Byte.x1e', 'Coq.Init.Byte.x32', 'Coq.Init.Byte.xfd', 'Coq.Init.Byte.xb7', 'Coq.Init.Byte.xb5', 'Coq.Init.Byte.x0a', 'Coq.Init.Byte.xc6', 'Coq.Init.Byte.x7a', 'Coq.Init.Byte.x83', 'Coq.Init.Byte.x7b', 'Coq.Init.Byte.xd9', 'Coq.Init.Byte.x2a', 'Coq.Init.Byte.x26', 'Coq.Init.Byte.xbc', 'Coq.Init.Byte.x22', 'Coq.Init.Byte.x5f', 'Coq.Init.Byte.xfa', 'Coq.Init.Byte.x14', 'Coq.Init.Byte.xff', 'Coq.Init.Byte.x4d', 'Coq.Init.Byte.x6c', 'Coq.Init.Byte.xaf', 'Coq.Init.Byte.xa2', 'Coq.Init.Byte.x95', 'Coq.Init.Byte.x18', 'Coq.Init.Byte.x40', 'Coq.Init.Byte.x2b', 'Coq.Init.Byte.xf8', 'Coq.Init.Byte.xaa', 'Coq.Init.Byte.x42', 'Coq.Init.Byte.x07', 'Coq.Init.Byte.x15', 'Coq.Init.Byte.x7f', 'Coq.Init.Byte.x7e', 'Coq.Init.Byte.xec', 'Coq.Init.Byte.x73', 'Coq.Init.Byte.x3c', 'Coq.Init.Byte.xea', 'Coq.Init.Byte.x4f', 'Coq.Init.Byte.xd1', 'Coq.Init.Byte.x3a', 'Coq.Init.Byte.x05', 'Coq.Init.Byte.xc3', 'Coq.Init.Byte.xe1', 'Coq.Init.Byte.x50', 'Coq.Init.Byte.x2d', 'Coq.Init.Byte.x37', 'Coq.Init.Byte.xd5', 'Coq.Init.Byte.xe8', 'Coq.Init.Byte.xd3', 'Coq.Init.Byte.x81', 'Coq.Init.Byte.xfc', 'Coq.Init.Byte.x06', 'Coq.Init.Byte.x4a', 'Coq.Init.Byte.x31', 'Coq.Init.Byte.x67', 'Coq.Init.Byte.xef', 'Coq.Init.Byte.x1a', 'Coq.Init.Byte.x6b', 'Coq.Init.Byte.xe7', 'Coq.Init.Byte.x0c', 'Coq.Init.Byte.xb9', 'Coq.Init.Byte.xc8', 'Coq.Init.Byte.xa7', 'Coq.Init.Byte.xf2', 'Coq.Init.Byte.xdc', 'Coq.Init.Byte.xf6', 'Coq.Init.Byte.x61', 'Coq.Init.Byte.x7c', 'Coq.Init.Byte.x90', 'Coq.Init.Byte.xf1', 'Coq.Init.Byte.xb4', 'Coq.Init.Byte.xb3', 'Coq.Init.Byte.x0e', 'Coq.Init.Byte.x99', 'Coq.Init.Byte.x86']\n",
      "['Coq.Numbers.Cyclic.Abstract.CyclicAxioms.ZnZ.spec_div_gt', 'Coq.Numbers.Cyclic.Abstract.CyclicAxioms.ZnZ.spec_pred_c', 'Coq.Numbers.Cyclic.Abstract.CyclicAxioms.ZnZ.spec_sub_carry_c', 'Coq.Numbers.Cyclic.Abstract.CyclicAxioms.ZnZ.spec_succ_c', 'Coq.Numbers.Cyclic.Abstract.CyclicAxioms.ZnZ.spec_sub_carry', 'Coq.Numbers.Cyclic.Abstract.CyclicAxioms.ZnZ.spec_add_c', 'Coq.Numbers.Cyclic.Abstract.CyclicAxioms.ZnZ.spec_mul_c', 'Coq.Numbers.Cyclic.Abstract.CyclicAxioms.ZnZ.spec_sub_c', 'Coq.Numbers.Cyclic.Abstract.CyclicAxioms.ZnZ.spec_square_c', 'Coq.Numbers.Cyclic.Abstract.CyclicAxioms.ZnZ.spec_opp_carry', 'Coq.Numbers.Cyclic.Abstract.CyclicAxioms.ZnZ.spec_pred', 'Coq.Numbers.Cyclic.Abstract.CyclicAxioms.ZnZ.spec_succ', 'Coq.Numbers.Cyclic.Abstract.CyclicAxioms.ZnZ.spec_div', 'Coq.Numbers.Cyclic.Abstract.CyclicAxioms.ZnZ.spec_mul', 'Coq.Numbers.Cyclic.Abstract.CyclicAxioms.ZnZ.spec_sub', 'Coq.Numbers.Cyclic.Abstract.CyclicAxioms.ZnZ.spec_add_carry', 'Coq.Numbers.Cyclic.Abstract.CyclicAxioms.ZnZ.spec_modulo_gt']\n",
      "['Coq.Floats.PrimFloat.add', 'Coq.Floats.PrimFloat.div', 'Coq.Floats.PrimFloat.mul', 'Coq.Floats.PrimFloat.sub', 'Coq.Numbers.Cyclic.Int63.Int63.add', 'Coq.Numbers.Cyclic.Int63.Int63.div', 'Coq.Numbers.Cyclic.Int63.Int63.lor', 'Coq.Numbers.Cyclic.Int63.Int63.lsl', 'Coq.Numbers.Cyclic.Int63.Int63.lsr', 'Coq.Numbers.Cyclic.Int63.Int63.mod', 'Coq.Numbers.Cyclic.Int63.Int63.mul', 'Coq.Numbers.Cyclic.Int63.Int63.sub', 'Coq.Numbers.Cyclic.Int63.Int63.land', 'Coq.Numbers.Cyclic.Int63.Int63.lxor']\n",
      "['Coq.Init.Decimal.D5', 'Coq.Init.Decimal.D2', 'Coq.Init.Decimal.D6', 'Coq.Init.Decimal.D4', 'Coq.Init.Decimal.D3', 'Coq.Init.Decimal.D9', 'Coq.Init.Decimal.D7', 'Coq.Init.Decimal.D1', 'Coq.Init.Decimal.D0', 'Coq.Init.Decimal.D8']\n",
      "['Coq.setoid_ring.Ring_theory.IDphi', 'Coq.setoid_ring.Ring_theory.SRopp', 'Coq.ssr.ssrfun.idfun', 'Coq.ssr.ssreflect.protect_term', 'Coq.Program.Tactics.fix_proto', 'Coq.Program.Tactics.obligation', 'Coq.setoid_ring.Ncring_polynom.cI', 'Coq.setoid_ring.Ncring_polynom.cO', 'Coq.Program.Equality.block']\n",
      "['Coq.setoid_ring.InitialRing.ropp_ext', 'Coq.setoid_ring.Field_theory.ropp_ext', 'Coq.micromega.EnvRing.ropp_ext', 'Coq.setoid_ring.Ring_polynom.ropp_ext', 'Coq.setoid_ring.Ring_theory.copp_ext', 'Coq.setoid_ring.InitialRing.ropp_ext3', 'Coq.setoid_ring.InitialRing.ropp_ext5', 'Coq.setoid_ring.Ring_theory.ropp_ext2', 'Coq.setoid_ring.Field_theory.ropp_ext3']\n",
      "['Coq.setoid_ring.InitialRing.radd_ext3_Proper', 'Coq.setoid_ring.Field_theory.radd_ext3_Proper', 'Coq.setoid_ring.Ring_theory.radd_ext2_Proper', 'Coq.setoid_ring.Ring_theory.cadd_ext_Proper', 'Coq.setoid_ring.InitialRing.radd_ext_Proper', 'Coq.setoid_ring.Field_theory.radd_ext_Proper', 'Coq.micromega.EnvRing.radd_ext_Proper', 'Coq.setoid_ring.InitialRing.radd_ext5_Proper', 'Coq.setoid_ring.Ring_polynom.radd_ext_Proper']\n",
      "['Coq.setoid_ring.InitialRing.R_setoid3_relation', 'Coq.setoid_ring.InitialRing.R_setoid5_relation', 'Coq.setoid_ring.Field_theory.R_setoid3_relation', 'Coq.setoid_ring.InitialRing.R_set1_relation', 'Coq.micromega.OrderedRing.sor_setoid_relation', 'Coq.micromega.RingMicromega.micomega_sor_setoid_relation', 'Coq.setoid_ring.Ring_theory.C_setoid_relation', 'Coq.setoid_ring.InitialRing.R_setoid4_relation', 'Coq.micromega.ZCoeff.sor_setoid_relation']\n",
      "['Coq.micromega.EnvRing.rmul_ext_Proper', 'Coq.setoid_ring.InitialRing.rmul_ext3_Proper', 'Coq.setoid_ring.Ring_polynom.rmul_ext_Proper', 'Coq.setoid_ring.Field_theory.rmul_ext3_Proper', 'Coq.setoid_ring.Ring_theory.rmul_ext2_Proper', 'Coq.setoid_ring.InitialRing.rmul_ext5_Proper', 'Coq.setoid_ring.Ring_theory.cmul_ext_Proper', 'Coq.setoid_ring.InitialRing.rmul_ext_Proper', 'Coq.setoid_ring.Field_theory.rmul_ext_Proper']\n",
      "['Coq.Floats.FloatClass.PNormal', 'Coq.Floats.FloatClass.PInf', 'Coq.Floats.FloatClass.NInf', 'Coq.Floats.FloatClass.NNormal', 'Coq.Floats.FloatClass.NSubn', 'Coq.Floats.FloatClass.PZero', 'Coq.Floats.FloatClass.NaN', 'Coq.Floats.FloatClass.PSubn', 'Coq.Floats.FloatClass.NZero']\n",
      "['Coq.setoid_ring.Field_theory.rmul_ext', 'Coq.micromega.EnvRing.rmul_ext', 'Coq.setoid_ring.InitialRing.rmul_ext3', 'Coq.setoid_ring.InitialRing.rmul_ext5', 'Coq.setoid_ring.Ring_theory.rmul_ext2', 'Coq.setoid_ring.Ring_polynom.rmul_ext', 'Coq.setoid_ring.Field_theory.rmul_ext3', 'Coq.setoid_ring.Ring_theory.cmul_ext', 'Coq.setoid_ring.InitialRing.rmul_ext']\n",
      "['Coq.setoid_ring.InitialRing.ropp_ext3_Proper', 'Coq.setoid_ring.Field_theory.ropp_ext3_Proper', 'Coq.setoid_ring.Ring_polynom.ropp_ext_Proper', 'Coq.setoid_ring.Ring_theory.ropp_ext2_Proper', 'Coq.setoid_ring.InitialRing.ropp_ext5_Proper', 'Coq.setoid_ring.Ring_theory.copp_ext_Proper', 'Coq.setoid_ring.InitialRing.ropp_ext_Proper', 'Coq.setoid_ring.Field_theory.ropp_ext_Proper', 'Coq.micromega.EnvRing.ropp_ext_Proper']\n",
      "['Coq.setoid_ring.InitialRing.radd_ext', 'Coq.setoid_ring.Field_theory.radd_ext', 'Coq.setoid_ring.InitialRing.radd_ext3', 'Coq.setoid_ring.InitialRing.radd_ext5', 'Coq.micromega.EnvRing.radd_ext', 'Coq.setoid_ring.Ring_theory.radd_ext2', 'Coq.setoid_ring.Field_theory.radd_ext3', 'Coq.setoid_ring.Ring_polynom.radd_ext', 'Coq.setoid_ring.Ring_theory.cadd_ext']\n",
      "['Coq.micromega.RingMicromega.NonEqual', 'Coq.micromega.RingMicromega.NonStrict', 'Coq.Floats.PrimFloat.FEq', 'Coq.micromega.RingMicromega.Strict', 'Coq.Floats.PrimFloat.FGt', 'Coq.micromega.RingMicromega.Equal', 'Coq.Floats.PrimFloat.FNotComparable', 'Coq.Floats.PrimFloat.FLt']\n",
      "['Coq.Classes.CMorphisms.normalization_done', 'Coq.Classes.CMorphisms.apply_subrelation', 'Coq.Classes.Morphisms.PartialApplication', 'Coq.Classes.Morphisms.normalization_done', 'Coq.Classes.Morphisms.apply_subrelation', 'Coq.Classes.CMorphisms.PartialApplication', 'Coq.Init.Logic.True']\n",
      "['Coq.Floats.PrimFloat.neg_infinity', 'Coq.Floats.PrimFloat.neg_zero', 'Coq.Floats.PrimFloat.infinity', 'Coq.Floats.PrimFloat.nan', 'Coq.Floats.PrimFloat.one', 'Coq.Floats.PrimFloat.two', 'Coq.Floats.PrimFloat.zero']\n",
      "['Coq.Classes.CMorphisms.do_subrelation', 'Coq.Classes.Morphisms.did_normalization', 'Coq.Classes.CMorphisms.Build_PartialApplication', 'Coq.Init.Logic.I', 'Coq.Classes.Morphisms.Build_PartialApplication', 'Coq.Classes.Morphisms.do_subrelation', 'Coq.Classes.CMorphisms.did_normalization']\n",
      "['Coq.Floats.PrimFloat.next_down', 'Coq.Floats.PrimFloat.abs', 'Coq.Floats.PrimFloat.opp', 'Coq.Floats.PrimFloat.sqrt', 'Coq.Floats.PrimFloat.next_up', 'Coq.Numbers.Cyclic.Int63.Int63.head0', 'Coq.Numbers.Cyclic.Int63.Int63.tail0']\n",
      "['Coq.Numbers.Cyclic.Int31.Int31.D1', 'Coq.MSets.MSetRBT.Black', 'Coq.Init.Datatypes.false', 'Coq.Init.Datatypes.true', 'Coq.Numbers.Cyclic.Int31.Int31.D0', 'Coq.MSets.MSetRBT.Red']\n",
      "['Coq.Structures.OrdersTac.OLE', 'Coq.Init.Datatypes.Eq', 'Coq.Init.Datatypes.Gt', 'Coq.Init.Datatypes.Lt', 'Coq.Structures.OrdersTac.OEQ', 'Coq.Structures.OrdersTac.OLT']\n",
      "['Coq.extraction.ExtrOcamlIntConv.int_succ', 'Coq.extraction.ExtrOcamlBigIntConv.bigint_twice', 'Coq.extraction.ExtrOcamlIntConv.int_twice', 'Coq.extraction.ExtrOcamlBigIntConv.bigint_succ', 'Coq.extraction.ExtrOcamlBigIntConv.bigint_opp', 'Coq.extraction.ExtrOcamlIntConv.int_opp']\n",
      "['Coq.Structures.OrderedTypeEx.Positive_as_OT.eq', 'Coq.FSets.FMapPositive.PositiveMap.ME.MO.TO.eq', 'Coq.Structures.OrdersEx.PositiveOrderedTypeBits.eq', 'Coq.Structures.OrderedTypeEx.PositiveOrderedTypeBits.eq', 'Coq.PArith.POrderedType.PositiveOrder.TO.eq', 'Coq.PArith.BinPos.Pos.eq']\n",
      "['Coq.micromega.RingMicromega.OpGe', 'Coq.micromega.RingMicromega.OpLt', 'Coq.micromega.RingMicromega.OpLe', 'Coq.micromega.RingMicromega.OpGt', 'Coq.micromega.RingMicromega.OpEq', 'Coq.micromega.RingMicromega.OpNEq']\n",
      "['Coq.ZArith.BinIntDef.Z.geb', 'Coq.ZArith.BinIntDef.Z.gtb', 'Coq.ZArith.BinIntDef.Z.leb', 'Coq.ZArith.BinIntDef.Z.ltb', 'Coq.ZArith.Zbool.Zeq_bool', 'Coq.ZArith.Zbool.Zneq_bool']\n",
      "['Coq.Floats.PrimFloat.eqb', 'Coq.Floats.PrimFloat.leb', 'Coq.Floats.PrimFloat.ltb', 'Coq.Numbers.Cyclic.Int63.Int63.eqb', 'Coq.Numbers.Cyclic.Int63.Int63.leb', 'Coq.Numbers.Cyclic.Int63.Int63.ltb']\n",
      "['Coq.setoid_ring.InitialRing.R_set1_Transitive', 'Coq.setoid_ring.InitialRing.R_setoid3_Transitive', 'Coq.setoid_ring.InitialRing.R_setoid4_Transitive', 'Coq.setoid_ring.InitialRing.R_setoid5_Transitive', 'Coq.setoid_ring.Field_theory.R_setoid3_Transitive']\n",
      "['Coq.setoid_ring.InitialRing.R_set1', 'Coq.setoid_ring.InitialRing.R_setoid3', 'Coq.setoid_ring.InitialRing.R_setoid4', 'Coq.setoid_ring.InitialRing.R_setoid5', 'Coq.setoid_ring.Field_theory.R_setoid3']\n",
      "['Coq.setoid_ring.InitialRing.R_set1_Symmetric', 'Coq.setoid_ring.InitialRing.R_setoid3_Symmetric', 'Coq.setoid_ring.InitialRing.R_setoid4_Symmetric', 'Coq.setoid_ring.InitialRing.R_setoid5_Symmetric', 'Coq.setoid_ring.Field_theory.R_setoid3_Symmetric']\n",
      "['Coq.FSets.FMapPositive.PositiveMap.ME.MO.TO.t', 'Coq.FSets.FMapPositive.PositiveMap.key', 'Coq.FSets.FSetPositive.PositiveSet.elt', 'Coq.PArith.POrderedType.PositiveOrder.TO.t', 'Coq.MSets.MSetPositive.PositiveSet.elt']\n",
      "['Coq.Logic.Eqdep.EqdepTheory.eq_rect_eq', 'Coq.Logic.ProofIrrelevance.ProofIrrelevanceTheory.Eq_rect_eq.eq_rect_eq', 'Coq.Logic.ProofIrrelevance.ProofIrrelevanceTheory.EqdepTheory.eq_rect_eq', 'Coq.Logic.Classical_Prop.Eq_rect_eq.eq_rect_eq', 'Coq.Logic.Classical_Prop.EqdepTheory.eq_rect_eq']\n",
      "['Coq.setoid_ring.InitialRing.R_set1_Reflexive', 'Coq.setoid_ring.InitialRing.R_setoid3_Reflexive', 'Coq.setoid_ring.InitialRing.R_setoid4_Reflexive', 'Coq.setoid_ring.InitialRing.R_setoid5_Reflexive', 'Coq.setoid_ring.Field_theory.R_setoid3_Reflexive']\n",
      "['Coq.ZArith.BinInt.Z.lt_irrefl', 'Coq.ZArith.Zorder.Zgt_irrefl', 'Coq.ZArith.BinInt.Z.Private_OrderTac.Tac.lt_irrefl', 'Coq.ZArith.BinInt.Z.Private_Tac.lt_irrefl']\n",
      "['Coq.setoid_ring.Field_theory.FEsub', 'Coq.setoid_ring.Field_theory.FEmul', 'Coq.setoid_ring.Field_theory.FEdiv', 'Coq.setoid_ring.Field_theory.FEadd']\n",
      "['Coq.ZArith.Zbool.Zge_cases', 'Coq.ZArith.Zbool.Zle_cases', 'Coq.ZArith.Zbool.Zgt_cases', 'Coq.ZArith.Zbool.Zlt_cases']\n",
      "['Coq.Numbers.Cyclic.Int63.Int63.add_assoc', 'Coq.Numbers.Cyclic.Int63.Int63.lorA', 'Coq.Numbers.Cyclic.Int63.Int63.landA', 'Coq.Numbers.Cyclic.Int63.Int63.lxorA']\n",
      "['Coq.Numbers.Cyclic.Int63.Int63.addcarryc', 'Coq.Numbers.Cyclic.Int63.Int63.subcarryc', 'Coq.Numbers.Cyclic.Int63.Int63.addc', 'Coq.Numbers.Cyclic.Int63.Int63.subc']\n",
      "['Coq.micromega.EnvRing.vmon', 'Coq.micromega.EnvRing.zmon', 'Coq.setoid_ring.Ring_polynom.vmon', 'Coq.setoid_ring.Ring_polynom.zmon']\n",
      "['Coq.micromega.EnvRing.P0', 'Coq.micromega.EnvRing.P1', 'Coq.setoid_ring.Ring_polynom.P0', 'Coq.setoid_ring.Ring_polynom.P1']\n",
      "['Coq.MSets.MSetPositive.PositiveSet.ct_lgx', 'Coq.FSets.FSetPositive.PositiveSet.ct_glx', 'Coq.MSets.MSetPositive.PositiveSet.ct_glx', 'Coq.FSets.FSetPositive.PositiveSet.ct_lgx']\n",
      "['Coq.micromega.EnvRing.PaddC', 'Coq.micromega.EnvRing.PsubC', 'Coq.setoid_ring.Ring_polynom.PaddC', 'Coq.setoid_ring.Ring_polynom.PsubC']\n",
      "['Coq.Structures.OrderedTypeEx.Positive_as_OT.t', 'Coq.Structures.OrdersEx.PositiveOrderedTypeBits.t', 'Coq.Structures.OrderedTypeEx.PositiveOrderedTypeBits.t', 'Coq.PArith.BinPosDef.Pos.t']\n",
      "['Coq.Reals.RIneq.Rle_refl', 'Coq.Reals.Rminmax.R.Private_Tac.le_refl', 'Coq.Reals.ROrderedType.ROrder.le_refl', 'Coq.Reals.RIneq.Rge_refl']\n",
      "['Coq.Numbers.Cyclic.ZModulo.ZModulo.t', 'Coq.ZArith.BinIntDef.Z.t', 'Coq.ZArith.Int.Z_as_Int.t', 'Coq.Structures.OrderedTypeEx.Z_as_OT.t']\n",
      "['Coq.Numbers.Cyclic.Int63.Int63.lor0_r', 'Coq.Numbers.Cyclic.Int63.Int63.lsl0_r', 'Coq.Numbers.Cyclic.Int63.Int63.lsr_0_r', 'Coq.Numbers.Cyclic.Int63.Int63.lxor0_r']\n",
      "['Coq.MSets.MSetPositive.PositiveSet.ct_gxg', 'Coq.MSets.MSetPositive.PositiveSet.ct_lxl', 'Coq.FSets.FSetPositive.PositiveSet.ct_gxg', 'Coq.FSets.FSetPositive.PositiveSet.ct_lxl']\n",
      "['Coq.MSets.MSetPositive.PositiveSet.ct_xgg', 'Coq.MSets.MSetPositive.PositiveSet.ct_xll', 'Coq.FSets.FSetPositive.PositiveSet.ct_xgg', 'Coq.FSets.FSetPositive.PositiveSet.ct_xll']\n",
      "['Coq.ZArith.BinInt.Z.even_pred', 'Coq.ZArith.BinInt.Z.even_succ', 'Coq.ZArith.BinInt.Z.odd_pred', 'Coq.ZArith.BinInt.Z.odd_succ']\n",
      "['Coq.Logic.EqdepFacts.eq_indd', 'Coq.Init.Datatypes.identity_ind', 'Coq.Logic.ChoiceFacts.eq_indd', 'Coq.Logic.ProofIrrelevance.ProofIrrelevanceTheory.eq_indd']\n",
      "['Coq.Numbers.Cyclic.Int63.Int63.add_comm', 'Coq.Numbers.Cyclic.Int63.Int63.lorC', 'Coq.Numbers.Cyclic.Int63.Int63.landC', 'Coq.Numbers.Cyclic.Int63.Int63.lxorC']\n",
      "['Coq.ssr.ssrbool.orbN', 'Coq.ssr.ssrbool.andbN', 'Coq.Bool.Bool.orb_negb_r', 'Coq.Bool.Bool.andb_negb_r']\n",
      "['Coq.Bool.Bool.negb_orb', 'Coq.ssr.ssrbool.negb_or', 'Coq.ssr.ssrbool.negb_and', 'Coq.Bool.Bool.negb_andb']\n",
      "['Coq.QArith.Qminmax.QHasMinMax.QMM.max', 'Coq.QArith.Qminmax.QHasMinMax.QMM.min', 'Coq.QArith.Qminmax.Qmax', 'Coq.QArith.Qminmax.Qmin']\n",
      "['Coq.Init.Logic.eq_sym', 'Coq.Init.Logic_Type.identity_sym', 'Coq.Logic.EqdepFacts.internal_eq_sym_internal1', 'Coq.Logic.EqdepFacts.internal_eq_sym_internal2']\n",
      "['Coq.ZArith.BinInt.Z.succ_max_distr', 'Coq.ZArith.BinInt.Z.pred_max_distr', 'Coq.ZArith.BinInt.Z.succ_min_distr', 'Coq.ZArith.BinInt.Z.pred_min_distr']\n",
      "['Coq.ZArith.Zdiv.Zmod_1_l', 'Coq.ZArith.BinInt.Z.Private_NZDiv.mod_1_l', 'Coq.ZArith.BinInt.Z.mod_1_l']\n",
      "['Coq.Relations.Relation_Definitions.reflexive', 'Coq.Sets.Relations_1.Reflexive', 'Coq.Classes.RelationClasses.Reflexive']\n",
      "['Coq.Classes.EquivDec.swap_sumbool', 'Coq.Bool.Sumbool.sumbool_not', 'Coq.Classes.SetoidDec.swap_sumbool']\n",
      "['Coq.Arith.PeanoNat.Nat.Private_Tac.le_refl', 'Coq.Arith.PeanoNat.Nat.Private_OrderTac.Tac.le_refl', 'Coq.Arith.PeanoNat.Nat.le_refl']\n",
      "['Coq.Arith.PeanoNat.Nat.Private_Tac.le_antisym', 'Coq.Arith.PeanoNat.Nat.Private_OrderTac.Tac.le_antisym', 'Coq.Arith.PeanoNat.Nat.le_antisymm']\n",
      "['Coq.micromega.OrderedRing.rminus_morph', 'Coq.micromega.RingMicromega.rminus_morph', 'Coq.micromega.ZCoeff.rminus_morph']\n",
      "['Coq.micromega.OrderedRing.rtimes_morph_Proper', 'Coq.micromega.RingMicromega.rtimes_morph_Proper', 'Coq.micromega.ZCoeff.rtimes_morph_Proper']\n",
      "['Coq.micromega.ZCoeff.rle_morph_Proper', 'Coq.micromega.OrderedRing.rle_morph_Proper', 'Coq.micromega.RingMicromega.rle_morph_Proper']\n",
      "['Coq.Program.Basics.arrow', 'Coq.Classes.CRelationClasses.arrow', 'Coq.setoid_ring.Algebra_syntax.Bracket']\n",
      "['Coq.ZArith.Zdigits.bit_value', 'Coq.micromega.ZifyBool.Z_of_bool', 'Coq.ZArith.BinInt.Z.b2z']\n",
      "['Coq.rtauto.Rtauto.Disjunct', 'Coq.rtauto.Rtauto.Arrow', 'Coq.rtauto.Rtauto.Conjunct']\n",
      "['Coq.NArith.BinNat.N.Private_OrderTac.Tac.le_refl', 'Coq.NArith.BinNat.N.le_refl', 'Coq.NArith.BinNat.N.Private_Tac.le_refl']\n",
      "['Coq.micromega.OrderedRing.rminus_morph_Proper', 'Coq.micromega.RingMicromega.rminus_morph_Proper', 'Coq.micromega.ZCoeff.rminus_morph_Proper']\n",
      "['Coq.QArith.QOrderedType.Q_as_DT.eq', 'Coq.QArith.QOrderedType.QOrder.TO.eq', 'Coq.QArith.Qminmax.Q.OT.eq']\n",
      "['Coq.NArith.BinNat.N.Private_OrderTac.Tac.le_antisym', 'Coq.NArith.BinNat.N.Private_Tac.le_antisym', 'Coq.NArith.BinNat.N.le_antisymm']\n",
      "['Coq.PArith.BinPos.Peqb_true_eq', 'Coq.NArith.Ndec.Peqb_complete', 'Coq.rtauto.Rtauto.pos_eq_refl']\n",
      "['Coq.Classes.RelationClasses.Symmetric', 'Coq.Relations.Relation_Definitions.symmetric', 'Coq.Sets.Relations_1.Symmetric']\n",
      "['Coq.ssr.ssreflect.phantom', 'Coq.micromega.DeclConstant.GT', 'Coq.micromega.DeclConstant.DeclaredConstant']\n",
      "['Coq.QArith.QOrderedType.Q_as_OT.le', 'Coq.QArith.QOrderedType.QOrder.TO.le', 'Coq.QArith.Qminmax.Q.OT.le']\n",
      "['Coq.QArith.QOrderedType.Q_as_OT.lt', 'Coq.QArith.QOrderedType.QOrder.TO.lt', 'Coq.QArith.Qminmax.Q.OT.lt']\n",
      "['Coq.Logic.ProofIrrelevance.ProofIrrelevanceTheory.EqdepTheory.inj_pair2', 'Coq.Logic.Classical_Prop.EqdepTheory.inj_pair2', 'Coq.Logic.Eqdep.EqdepTheory.inj_pair2']\n",
      "['Coq.QArith.Qminmax.Q.Private_Tac.eq_refl', 'Coq.QArith.QOrderedType.QOrder.eq_refl', 'Coq.QArith.QArith_base.Qeq_refl']\n",
      "['Coq.micromega.ZCoeff.ropp_morph', 'Coq.micromega.OrderedRing.ropp_morph', 'Coq.micromega.RingMicromega.ropp_morph']\n",
      "['Coq.Numbers.Cyclic.Int31.Int31.twice', 'Coq.Numbers.Cyclic.Int31.Int31.shiftl', 'Coq.Numbers.Cyclic.Int31.Int31.twice_plus_one']\n",
      "['Coq.Init.Datatypes.bool', 'Coq.Numbers.Cyclic.Int31.Int31.digits', 'Coq.MSets.MSetRBT.color']\n",
      "['Coq.micromega.RingMicromega.rtimes_morph', 'Coq.micromega.ZCoeff.rtimes_morph', 'Coq.micromega.OrderedRing.rtimes_morph']\n",
      "['Coq.micromega.DeclConstant.Build_GT', 'Coq.micromega.DeclConstant.Build_DeclaredConstant', 'Coq.ssr.ssreflect.Phantom']\n",
      "['Coq.setoid_ring.Field_theory.NtoZ', 'Coq.ZArith.BinIntDef.Z.of_N', 'Coq.Numbers.AltBinNotations.n_to_z']\n",
      "['Coq.Relations.Relation_Definitions.transitive', 'Coq.Sets.Relations_1.Transitive', 'Coq.Classes.RelationClasses.Transitive']\n",
      "['Coq.Arith.PeanoNat.Nat.Private_Tac.neq_sym', 'Coq.Arith.PeanoNat.Nat.Private_OrderTac.Tac.neq_sym', 'Coq.Arith.PeanoNat.Nat.neq_sym']\n",
      "['Coq.setoid_ring.InitialRing.rsub_ext3_Proper', 'Coq.setoid_ring.InitialRing.rsub_ext7_Proper', 'Coq.setoid_ring.InitialRing.rsub_ext_Proper']\n",
      "['Coq.ZArith.Zorder.Zle_0_pos', 'Coq.ZArith.BinInt.Pos2Z.pos_is_nonneg', 'Coq.ZArith.BinInt.Pos2Z.is_nonneg']\n",
      "['Coq.Reals.ROrderedType.ROrder.TO.t', 'Coq.Reals.Rminmax.R.OT.t', 'Coq.Reals.ROrderedType.R_as_DT.t']\n",
      "['Coq.Reals.ROrderedType.ROrder.TO.eq', 'Coq.Reals.Rminmax.R.OT.eq', 'Coq.Reals.ROrderedType.R_as_UBE.eq']\n",
      "['Coq.Reals.ROrderedType.ROrder.TO.le', 'Coq.Reals.Rminmax.R.OT.le', 'Coq.Reals.ROrderedType.R_as_OT.le']\n",
      "['Coq.Reals.ROrderedType.ROrder.TO.lt', 'Coq.Reals.Rminmax.R.OT.lt', 'Coq.Reals.ROrderedType.R_as_OT.lt']\n",
      "['Coq.QArith.QOrderedType.QOrder.TO.compare', 'Coq.QArith.Qminmax.Q.OT.compare', 'Coq.QArith.QOrderedType.Q_as_OT.compare']\n",
      "['Coq.ZArith.BinInt.Pos2Z.testbit_pos', 'Coq.ZArith.BinInt.Z.testbit_Zpos', 'Coq.ZArith.BinInt.Pos2Z.inj_testbit']\n",
      "['Coq.NArith.BinNat.N.Private_OrderTac.Tac.neq_sym', 'Coq.NArith.BinNat.N.neq_sym', 'Coq.NArith.BinNat.N.Private_Tac.neq_sym']\n",
      "['Coq.micromega.OrderedRing.ropp_morph_Proper', 'Coq.micromega.RingMicromega.ropp_morph_Proper', 'Coq.micromega.ZCoeff.ropp_morph_Proper']\n",
      "['Coq.Structures.OrdersEx.PositiveOrderedTypeBits.bits_lt_antirefl', 'Coq.Structures.OrderedTypeEx.PositiveOrderedTypeBits.bits_lt_antirefl', 'Coq.FSets.FMapPositive.PositiveMap.ME.MO.lt_antirefl']\n",
      "['Coq.Logic.Classical_Prop.EqdepTheory.UIP', 'Coq.Logic.Eqdep.EqdepTheory.UIP', 'Coq.Logic.ProofIrrelevance.ProofIrrelevanceTheory.EqdepTheory.UIP']\n",
      "['Coq.micromega.OrderedRing.sor_setoid_Reflexive', 'Coq.micromega.ZCoeff.sor_setoid_Reflexive', 'Coq.micromega.RingMicromega.micomega_sor_setoid_Reflexive']\n",
      "['Coq.setoid_ring.Ring_polynom.rsub_ext_Proper', 'Coq.setoid_ring.Ring_theory.ARsub_ext', 'Coq.micromega.EnvRing.rsub_ext_Proper']\n",
      "['Coq.Logic.Classical_Prop.EqdepTheory.eq_dep_eq', 'Coq.Logic.Eqdep.EqdepTheory.eq_dep_eq', 'Coq.Logic.ProofIrrelevance.ProofIrrelevanceTheory.EqdepTheory.eq_dep_eq']\n",
      "['Coq.micromega.OrderedRing.rplus_morph', 'Coq.micromega.RingMicromega.rplus_morph', 'Coq.micromega.ZCoeff.rplus_morph']\n",
      "['Coq.micromega.RingMicromega.rle_morph', 'Coq.micromega.ZCoeff.rle_morph', 'Coq.micromega.OrderedRing.rle_morph']\n",
      "['Coq.ZArith.BinInt.Z.Private_NZDiv.mod_small', 'Coq.ZArith.Zdiv.Zmod_small', 'Coq.ZArith.BinInt.Z.mod_small']\n",
      "['Coq.Logic.Classical_Prop.EqdepTheory.eq_rec_eq', 'Coq.Logic.Eqdep.EqdepTheory.eq_rec_eq', 'Coq.Logic.ProofIrrelevance.ProofIrrelevanceTheory.EqdepTheory.eq_rec_eq']\n",
      "['Coq.Logic.ClassicalChoice.choice', 'Coq.Logic.IndefiniteDescription.functional_choice', 'Coq.Logic.ClassicalEpsilon.choice']\n",
      "['Coq.Structures.OrderedTypeEx.Z_as_OT.lt_trans', 'Coq.ZArith.Zorder.Zgt_trans', 'Coq.ZArith.BinInt.Z.lt_trans']\n",
      "['Coq.Init.Nat.t', 'Coq.Sorting.Mergesort.NatOrder.t', 'Coq.Structures.OrderedTypeEx.Nat_as_OT.t']\n",
      "['Coq.Numbers.Cyclic.ZModulo.ZModulo.one', 'Coq.ZArith.BinIntDef.Z.one', 'Coq.ZArith.Int.Z_as_Int._1']\n",
      "['Coq.Numbers.Cyclic.ZModulo.ZModulo.zero', 'Coq.ZArith.BinIntDef.Z.zero', 'Coq.ZArith.Int.Z_as_Int._0']\n",
      "['Coq.rtauto.Rtauto.I_Or_l', 'Coq.rtauto.Rtauto.I_Or_r', 'Coq.rtauto.Rtauto.I_Arrow']\n",
      "['Coq.setoid_ring.InitialRing.rsub_ext', 'Coq.setoid_ring.InitialRing.rsub_ext3', 'Coq.setoid_ring.InitialRing.rsub_ext7']\n",
      "['Coq.micromega.RMicromega.CMult', 'Coq.micromega.RMicromega.CMinus', 'Coq.micromega.RMicromega.CPlus']\n",
      "['Coq.FSets.FMapPositive.PositiveMap.ME.MO.TO.lt', 'Coq.Structures.OrdersEx.PositiveOrderedTypeBits.lt', 'Coq.Structures.OrderedTypeEx.PositiveOrderedTypeBits.lt']\n",
      "['Coq.setoid_ring.Algebra_syntax.Equality', 'Coq.Sets.Relations_1.Relation', 'Coq.Relations.Relation_Definitions.relation']\n",
      "['Coq.QArith.QArith_base.Qle_refl', 'Coq.QArith.Qminmax.Q.Private_Tac.le_refl', 'Coq.QArith.QOrderedType.QOrder.le_refl']\n",
      "['Coq.micromega.OrderedRing.rplus_morph_Proper', 'Coq.micromega.RingMicromega.rplus_morph_Proper', 'Coq.micromega.ZCoeff.rplus_morph_Proper']\n",
      "['Coq.btauto.Reflect.formula_cnj', 'Coq.btauto.Reflect.formula_dsj', 'Coq.btauto.Reflect.formula_xor']\n",
      "['Coq.setoid_ring.Field_theory.ceqb_spec', 'Coq.micromega.EnvRing.ceqb_spec', 'Coq.setoid_ring.Ring_polynom.ceqb_spec']\n",
      "['Coq.Arith.PeanoNat.Nat.Private_Tac.lt_irrefl', 'Coq.Arith.PeanoNat.Nat.Private_OrderTac.Tac.lt_irrefl', 'Coq.Arith.PeanoNat.Nat.lt_irrefl']\n",
      "['Coq.Logic.ClassicalEpsilon.constructive_definite_description', 'Coq.Logic.IndefiniteDescription.constructive_definite_description', 'Coq.Logic.Epsilon.constructive_definite_description']\n",
      "['Coq.Logic.Classical_Prop.EqdepTheory.UIP_refl', 'Coq.Logic.Eqdep.EqdepTheory.UIP_refl', 'Coq.Logic.ProofIrrelevance.ProofIrrelevanceTheory.EqdepTheory.UIP_refl']\n",
      "['Coq.setoid_ring.Cring.Zcri', 'Coq.nsatz.Nsatz.Zcri', 'Coq.setoid_ring.Rings_Z.Zcri']\n",
      "['Coq.Arith.PeanoNat.Nat.div2_succ_double', 'Coq.Arith.Div2.div2_double_plus_one', 'Coq.Reals.Exp_prop.div2_S_double']\n",
      "['Coq.micromega.EnvRing.PEadd', 'Coq.micromega.EnvRing.PEsub', 'Coq.micromega.EnvRing.PEmul']\n",
      "['Coq.ZArith.BinInt.Z.div_small', 'Coq.ZArith.BinInt.Z.Private_NZDiv.div_small', 'Coq.ZArith.Zdiv.Zdiv_small']\n",
      "['Coq.NArith.BinNat.N.Private_OrderTac.Tac.lt_irrefl', 'Coq.NArith.BinNat.N.lt_irrefl', 'Coq.NArith.BinNat.N.Private_Tac.lt_irrefl']\n",
      "['Coq.PArith.POrderedType.PositiveOrder.neq_sym', 'Coq.PArith.BinPos.Pos.Private_Tac.neq_sym', 'Coq.FSets.FMapPositive.PositiveMap.ME.MO.neq_sym']\n",
      "['Coq.Logic.Classical_Prop.EqdepTheory.Streicher_K', 'Coq.Logic.Eqdep.EqdepTheory.Streicher_K', 'Coq.Logic.ProofIrrelevance.ProofIrrelevanceTheory.EqdepTheory.Streicher_K']\n",
      "['Coq.setoid_ring.Ring_polynom.PEsub', 'Coq.setoid_ring.Ring_polynom.PEadd', 'Coq.setoid_ring.Ring_polynom.PEmul']\n",
      "['Coq.QArith.Qminmax.Q.Private_Tac.le_antisym', 'Coq.QArith.QOrderedType.QOrder.le_antisym', 'Coq.QArith.QArith_base.Qle_antisym']\n",
      "['Coq.Reals.Exp_prop.div2_double', 'Coq.Arith.Div2.div2_double', 'Coq.Arith.PeanoNat.Nat.div2_double']\n",
      "['Coq.micromega.ZCoeff.rlt_morph', 'Coq.micromega.OrderedRing.rlt_morph', 'Coq.micromega.RingMicromega.rlt_morph']\n",
      "['Coq.Reals.RIneq.Rlt_irrefl', 'Coq.Reals.Rminmax.R.Private_Tac.lt_irrefl', 'Coq.Reals.ROrderedType.ROrder.lt_irrefl']\n",
      "['Coq.setoid_ring.Rings_Q.Q_one_zero', 'Coq.nsatz.Nsatz.Q_one_zero', 'Coq.QArith.QArith_base.Q_apart_0_1']\n",
      "['Coq.micromega.RingMicromega.micomega_sor_setoid', 'Coq.micromega.ZCoeff.sor_setoid', 'Coq.micromega.OrderedRing.sor_setoid']\n",
      "['Coq.Relations.Relation_Definitions.Build_PER', 'Coq.Classes.RelationClasses.Build_PER', 'Coq.Sets.Relations_1.Definition_of_PER']\n",
      "['Coq.Relations.Relation_Definitions.preorder', 'Coq.Classes.RelationClasses.PreOrder', 'Coq.Sets.Relations_1.Preorder']\n",
      "['Coq.Relations.Relation_Definitions.Build_preorder', 'Coq.Sets.Relations_1.Definition_of_preorder', 'Coq.Classes.RelationClasses.Build_PreOrder']\n",
      "['Coq.ZArith.BinInt.Z.div_1_l', 'Coq.ZArith.Zdiv.Zdiv_1_l', 'Coq.ZArith.BinInt.Z.Private_NZDiv.div_1_l']\n",
      "['Coq.ZArith.BinInt.Pos2Z.neg_is_neg', 'Coq.ZArith.Zorder.Zgt_pos_0', 'Coq.ZArith.Zorder.Zlt_neg_0']\n",
      "['Coq.ZArith.BinInt.Z.Private_OrderTac.Tac.le_refl', 'Coq.ZArith.BinInt.Z.Private_Tac.le_refl', 'Coq.ZArith.BinInt.Z.le_refl']\n",
      "['Coq.QArith.Qminmax.Q.Private_Tac.neq_sym', 'Coq.QArith.QOrderedType.QOrder.neq_sym', 'Coq.QArith.QArith_base.Qnot_eq_sym']\n",
      "['Coq.ZArith.BinInt.Z.Private_OrderTac.Tac.le_antisym', 'Coq.ZArith.BinInt.Z.le_antisymm', 'Coq.ZArith.BinInt.Z.Private_Tac.le_antisym']\n",
      "['Coq.micromega.ZCoeff.rlt_morph_Proper', 'Coq.micromega.OrderedRing.rlt_morph_Proper', 'Coq.micromega.RingMicromega.rlt_morph_Proper']\n",
      "['Coq.Reals.Raxioms.R1_neq_R0', 'Coq.nsatz.Nsatz.R_one_zero', 'Coq.setoid_ring.Rings_R.R_one_zero']\n",
      "['Coq.PArith.POrderedType.PositiveOrder.TO.le', 'Coq.PArith.BinPos.Pos.ge', 'Coq.PArith.BinPos.Pos.le']\n",
      "['Coq.PArith.POrderedType.PositiveOrder.TO.lt', 'Coq.PArith.BinPos.Pos.gt', 'Coq.PArith.BinPos.Pos.lt']\n",
      "['Coq.rtauto.Rtauto.D_Or', 'Coq.rtauto.Rtauto.D_And', 'Coq.rtauto.Rtauto.E_And']\n",
      "['Coq.PArith.POrderedType.PositiveOrder.eq_neq', 'Coq.PArith.BinPos.Pos.Private_Tac.eq_neq', 'Coq.FSets.FMapPositive.PositiveMap.ME.MO.eq_neq']\n",
      "['Coq.ZArith.BinIntDef.Z.two', 'Coq.ZArith.Int.Z_as_Int._2', 'Coq.ZArith.Int.Z_as_Int._3']\n",
      "['Coq.PArith.POrderedType.PositiveOrder.neq_eq', 'Coq.PArith.BinPos.Pos.Private_Tac.neq_eq', 'Coq.FSets.FMapPositive.PositiveMap.ME.MO.neq_eq']\n",
      "['Coq.ZArith.BinInt.Z.Private_OrderTac.Tac.neq_sym', 'Coq.ZArith.BinInt.Z.Private_Tac.neq_sym', 'Coq.ZArith.BinInt.Z.neq_sym']\n",
      "['Coq.Init.Byte.byte_rect', 'Coq.Init.Byte.byte_sind', 'Coq.Init.Byte.byte_ind']\n",
      "['Coq.ZArith.BinInt.Pos2Z.inj_neg_iff', 'Coq.ZArith.BinInt.Pos2Z.inj_pos_iff', 'Coq.ZArith.BinInt.Pos2Z.inj_iff']\n",
      "['Coq.micromega.RingMicromega.micomega_sor_setoid_Transitive', 'Coq.micromega.ZCoeff.sor_setoid_Transitive', 'Coq.micromega.OrderedRing.sor_setoid_Transitive']\n",
      "['Coq.Reals.Rminmax.R.Private_Tac.le_antisym', 'Coq.Reals.ROrderedType.ROrder.le_antisym', 'Coq.Reals.RIneq.Rle_antisym']\n",
      "['Coq.Reals.PartSum.Rabs_triang_gen', 'Coq.Reals.PartSum.Rsum_abs', 'Coq.Reals.Rfunctions.sum_f_R0_triangle']\n",
      "['Coq.QArith.Qminmax.Q.Private_Tac.lt_irrefl', 'Coq.QArith.QOrderedType.QOrder.lt_irrefl', 'Coq.QArith.QArith_base.Qlt_irrefl']\n",
      "['Coq.QArith.Qminmax.Q.Private_Tac.eq_sym', 'Coq.QArith.QOrderedType.QOrder.eq_sym', 'Coq.QArith.QArith_base.Qeq_sym']\n",
      "['Coq.Relations.Relation_Definitions.PER', 'Coq.Classes.RelationClasses.PER', 'Coq.Sets.Relations_1.PER']\n",
      "['Coq.micromega.ZCoeff.sor_setoid_Symmetric', 'Coq.micromega.RingMicromega.micomega_sor_setoid_Symmetric', 'Coq.micromega.OrderedRing.sor_setoid_Symmetric']\n",
      "['Coq.ZArith.BinInt.Pos2Z.inj_neg', 'Coq.ZArith.BinInt.Pos2Z.inj_pos', 'Coq.ZArith.BinInt.Pos2Z.inj']\n",
      "['Coq.Reals.ROrderedType.ROrder.TO.compare', 'Coq.Reals.Rminmax.R.OT.compare', 'Coq.Reals.ROrderedType.R_as_OT.compare']\n",
      "['Coq.omega.OmegaLemmas.OMEGA2', 'Coq.ZArith.BinInt.Z.add_nonneg_nonneg', 'Coq.micromega.Ztac.add_le']\n",
      "['Coq.Reals.Rdefinitions.RbaseSymbolsImpl.R', 'Coq.Floats.PrimFloat.float', 'Coq.Numbers.Cyclic.Int63.Int63.int']\n",
      "['Coq.Numbers.Cyclic.Int63.Int63.lsl0', 'Coq.Numbers.Cyclic.Int63.Int63.lsr0', 'Coq.Numbers.Cyclic.Int63.Int63.land0']\n",
      "['Coq.NArith.BinNat.N.Private_Tac.lt_le_trans', 'Coq.NArith.BinNat.N.Private_OrderTac.Tac.lt_le_trans']\n",
      "['Coq.ZArith.Zdiv.Zmod_1_r', 'Coq.ZArith.BinInt.Z.mod_1_r']\n",
      "['Coq.ZArith.Zdiv.Zmod_odd', 'Coq.ZArith.Zdiv.Zmod_even']\n",
      "['Coq.ZArith.BinInt.Z.Private_Div.NZQuot.div_le_compat_l', 'Coq.ZArith.BinInt.Z.quot_le_compat_l']\n",
      "['Coq.Relations.Relation_Operators.clos_trans_1n_ind', 'Coq.Sets.Relations_2.Rplus_ind']\n",
      "['Coq.ZArith.BinInt.Z.Private_Tac.interp_ord', 'Coq.ZArith.BinInt.Z.Private_OrderTac.Tac.interp_ord']\n",
      "['Coq.PArith.BinPos.Pos.Private_Tac.eq_refl', 'Coq.PArith.POrderedType.PositiveOrder.eq_refl']\n",
      "['Coq.Numbers.Cyclic.Int63.Int63.lor_spec', 'Coq.Numbers.Cyclic.Int63.Int63.land_spec']\n",
      "['Coq.ZArith.BinInt.Z.quot_lt', 'Coq.ZArith.BinInt.Z.Private_Div.NZQuot.div_lt']\n",
      "['Coq.QArith.Qminmax.Q.min_max_antimono', 'Coq.QArith.Qminmax.Q.max_min_antimono']\n",
      "['Coq.Init.Datatypes.None', 'Coq.rtauto.Bintree.PNone']\n",
      "['Coq.MSets.MSetPositive.PositiveSet.ct_compare_bool', 'Coq.FSets.FSetPositive.PositiveSet.ct_compare_bool']\n",
      "['Coq.Relations.Relation_Definitions.inclusion', 'Coq.Classes.RelationClasses.subrelation']\n",
      "['Coq.ZArith.BinInt.Z.bits_0', 'Coq.ZArith.BinInt.Z.testbit_0_l']\n",
      "['Coq.ZArith.BinInt.Z.rem_1_l', 'Coq.ZArith.BinInt.Z.Private_Div.NZQuot.mod_1_l']\n",
      "['Coq.QArith.Qpower.Qpower_positive_0', 'Coq.micromega.RMicromega.Qpower_positive_zero']\n",
      "['Coq.Arith.PeanoNat.Nat.sub_gt', 'Coq.Reals.ArithProp.minus_neq_O']\n",
      "['Coq.ZArith.BinInt.Z.Private_OrderTac.Tac.le_trans', 'Coq.ZArith.BinInt.Z.Private_Tac.le_trans']\n",
      "['Coq.Arith.PeanoNat.Nat.le_decidable', 'Coq.Arith.Compare_dec.dec_le']\n",
      "['Coq.ZArith.BinInt.Z.div_lt', 'Coq.ZArith.BinInt.Z.Private_NZDiv.div_lt']\n",
      "['Coq.MSets.MSetPositive.PositiveSet.equal_subset', 'Coq.FSets.FSetPositive.PositiveSet.equal_subset']\n",
      "['Coq.Program.Basics.flip', 'Coq.Classes.CRelationClasses.flip']\n",
      "['Coq.ZArith.BinInt.Z.eqb_eq', 'Coq.Classes.DecidableClass.Decidable_eq_Z_obligation_1']\n",
      "['Coq.ZArith.Zeuclid.ZEuclid.Private_NZDiv.mod_1_l', 'Coq.ZArith.Zeuclid.ZEuclid.mod_1_l']\n",
      "['Coq.ZArith.BinInt.Z.even_0', 'Coq.ZArith.BinInt.Z.odd_0']\n",
      "['Coq.ZArith.BinInt.Z.even_1', 'Coq.ZArith.BinInt.Z.odd_1']\n",
      "['Coq.ZArith.BinInt.Z.even_2', 'Coq.ZArith.BinInt.Z.odd_2']\n",
      "['Coq.ZArith.BinInt.Z.rem_small', 'Coq.ZArith.BinInt.Z.Private_Div.NZQuot.mod_small']\n",
      "['Coq.ZArith.BinInt.Z.negb_odd', 'Coq.ZArith.BinInt.Z.negb_even']\n",
      "['Coq.Arith.PeanoNat.Nat.lt_decidable', 'Coq.Arith.Compare_dec.dec_lt']\n",
      "['Coq.ZArith.BinInt.Z.pred_inj_wd', 'Coq.ZArith.BinInt.Z.succ_inj_wd']\n",
      "['Coq.ZArith.BinInt.Z.geb_le', 'Coq.ZArith.BinInt.Z.ltb_ge']\n",
      "['Coq.Numbers.Cyclic.Int63.Int63.sqrt_test_false', 'Coq.Numbers.Cyclic.Int31.Cyclic31.sqrt_test_false']\n",
      "['Coq.ZArith.BinInt.Z.gtb_lt', 'Coq.ZArith.BinInt.Z.leb_gt']\n",
      "['Coq.ZArith.Zcompare.Zcompare_Lt_trans', 'Coq.ZArith.Zcompare.Zcompare_Gt_trans']\n",
      "['Coq.Bool.Bool.orb_false_l', 'Coq.Bool.Bool.andb_true_l']\n",
      "['Coq.Bool.Bool.orb_false_r', 'Coq.Bool.Bool.andb_true_r']\n",
      "['Coq.ZArith.Zorder.Znot_le_succ', 'Coq.ZArith.BinInt.Z.nle_succ_diag_l']\n",
      "['Coq.ZArith.BinInt.Z.lt_pred_l', 'Coq.ZArith.Zorder.Zgt_succ']\n",
      "['Coq.Program.Basics.apply', 'Coq.ssr.ssreflect.ssr_suff']\n",
      "['Coq.ZArith.Zdiv.Z_mult_div_ge', 'Coq.ZArith.Zdiv.Z_mult_div_ge_neg']\n",
      "['Coq.micromega.RMicromega.Qpower0', 'Coq.QArith.Qpower.Qpower_0']\n",
      "['Coq.ZArith.Zeven.Zodd_pred', 'Coq.ZArith.Zeven.Zodd_Sn']\n",
      "['Coq.Logic.FinFun.Injective', 'Coq.Sets.Image.injective']\n",
      "['Coq.ZArith.BinInt.Z.le_ind', 'Coq.ZArith.BinInt.Z.right_induction']\n",
      "['Coq.Arith.Plus.tail_plus', 'Coq.Init.Nat.tail_add']\n",
      "['Coq.NArith.BinNat.N.ltb_compare', 'Coq.NArith.BinNat.N.leb_compare']\n",
      "['Coq.Relations.Relation_Definitions.Build_order', 'Coq.Sets.Relations_1.Definition_of_order']\n",
      "['Coq.ZArith.BinInt.Z.lt_neq', 'Coq.Structures.OrderedTypeEx.Z_as_OT.lt_not_eq']\n",
      "['Coq.ZArith.BinInt.Z.max_id', 'Coq.ZArith.BinInt.Z.min_id']\n",
      "['Coq.Arith.PeanoNat.Nat.testbit_0_l', 'Coq.Arith.PeanoNat.Nat.bits_0']\n",
      "['Coq.NArith.BinNat.N.mod_upper_bound', 'Coq.NArith.BinNat.N.mod_lt']\n",
      "['Coq.ZArith.BinInt.Z.mod_le', 'Coq.ZArith.BinInt.Z.Private_NZDiv.mod_le']\n",
      "['Coq.micromega.Fourier_util.Rlt_mult_inv_pos', 'Coq.Reals.R_sqrt.Rlt_mult_inv_pos']\n",
      "['Coq.ZArith.BinInt.Z.Private_Div.NZQuot.div_small', 'Coq.ZArith.BinInt.Z.quot_small']\n",
      "['Coq.Numbers.Cyclic.Abstract.DoubleType.C0', 'Coq.Numbers.Cyclic.Abstract.DoubleType.C1']\n",
      "['Coq.Floats.FloatAxioms.ltb_spec', 'Coq.Floats.FloatAxioms.eqb_spec']\n",
      "['Coq.setoid_ring.Ring_theory.id_phi_N', 'Coq.setoid_ring.Ncring.id_phi_N']\n",
      "['Coq.Arith.PeanoNat.Nat.Private_Tac.eq_le', 'Coq.Arith.PeanoNat.Nat.Private_OrderTac.Tac.eq_le']\n",
      "['Coq.Arith.PeanoNat.Nat.Private_Tac.eq_lt', 'Coq.Arith.PeanoNat.Nat.Private_OrderTac.Tac.eq_lt']\n",
      "['Coq.ZArith.BinInt.Z.odd_wd', 'Coq.ZArith.BinInt.Z.even_wd']\n",
      "['Coq.Arith.PeanoNat.Nat.Private_Tac.le_eq', 'Coq.Arith.PeanoNat.Nat.Private_OrderTac.Tac.le_eq']\n",
      "['Coq.Arith.PeanoNat.Nat.Private_Tac.lt_eq', 'Coq.Arith.PeanoNat.Nat.Private_OrderTac.Tac.lt_eq']\n",
      "['Coq.Arith.PeanoNat.Nat.Private_Tac.trans', 'Coq.Arith.PeanoNat.Nat.Private_OrderTac.Tac.trans']\n",
      "['Coq.Logic.Decidable.not_or', 'Coq.Logic.Classical_Prop.not_or_and']\n",
      "['Coq.ZArith.BinInt.Z.mul_succ_quot_gt', 'Coq.ZArith.BinInt.Z.Private_Div.NZQuot.mul_succ_div_gt']\n",
      "['Coq.micromega.Tauto.eval_cnf_cons', 'Coq.micromega.Tauto.eval_cnf_cons_iff']\n",
      "['Coq.Classes.CMorphisms.proper_prf', 'Coq.Classes.CMorphisms.proper_proxy']\n",
      "['Coq.ZArith.Zeuclid.ZEuclid.mod_small', 'Coq.ZArith.Zeuclid.ZEuclid.Private_NZDiv.mod_small']\n",
      "['Coq.ssr.ssrunder.Under_rel.under_rel_done', 'Coq.ssr.ssrunder.Under_rel.over_rel_done']\n",
      "['Coq.Logic.Diaconescu.proof_irrel_rel_choice_imp_eq_dec', \"Coq.Logic.Diaconescu.proof_irrel_rel_choice_imp_eq_dec'\"]\n",
      "['Coq.ZArith.BinInt.Z.rem_le', 'Coq.ZArith.BinInt.Z.Private_Div.NZQuot.mod_le']\n",
      "['Coq.extraction.ExtrOcamlBigIntConv.bigint_of_nat', 'Coq.extraction.ExtrOcamlIntConv.int_of_nat']\n",
      "['Coq.extraction.ExtrOcamlBigIntConv.bigint_of_pos', 'Coq.extraction.ExtrOcamlIntConv.int_of_pos']\n",
      "['Coq.ZArith.BinInt.Z.Private_OrderTac.Tac.not_neq_eq', 'Coq.ZArith.BinInt.Z.Private_Tac.not_neq_eq']\n",
      "['Coq.setoid_ring.Algebra_syntax.Subtraction', 'Coq.setoid_ring.Algebra_syntax.Addition']\n",
      "['Coq.ZArith.Znat.Zabs2N.id_abs', 'Coq.ZArith.Znat.N2Z.inj_abs_N']\n",
      "['Coq.Classes.CMorphisms.reflexive_proper_proxy', 'Coq.Classes.CMorphisms.reflexive_proper']\n",
      "['Coq.Arith.PeanoNat.Nat.Private_OrderTac.Tac.eq_refl', 'Coq.Arith.PeanoNat.Nat.Private_Tac.eq_refl']\n",
      "['Coq.ZArith.BinInt.Z2Pos.inj_leb', 'Coq.ZArith.BinInt.Z2Pos.inj_ltb']\n",
      "['Coq.setoid_ring.Ring_polynom.PEO', 'Coq.setoid_ring.Ring_polynom.PEI']\n",
      "['Coq.Reals.RIneq.Rsqr_0_uniq', 'Coq.Reals.R_sqr.Rsqr_eq_0']\n",
      "['Coq.ZArith.Zbool.Zlt_is_lt_bool', 'Coq.ZArith.Zbool.Zgt_is_gt_bool']\n",
      "['Coq.rtauto.Rtauto.E_Or', 'Coq.rtauto.Rtauto.D_Arrow']\n",
      "['Coq.NArith.BinNat.N.leb_antisym', 'Coq.NArith.BinNat.N.ltb_antisym']\n",
      "['Coq.ssr.ssrfun.simpl_fun', 'Coq.ssr.ssrbool.implies']\n",
      "['Coq.ZArith.BinInt.Z.max_comm', 'Coq.ZArith.BinInt.Z.min_comm']\n",
      "['Coq.ZArith.BinInt.Z.max_mono', 'Coq.ZArith.BinInt.Z.min_mono']\n",
      "['Coq.Reals.RIneq.Ropp_neq_0_compat', 'Coq.Reals.RIneq.Rinv_neq_0_compat']\n",
      "['Coq.ZArith.Zeuclid.ZEuclid.div_mul_le', 'Coq.ZArith.Zeuclid.ZEuclid.Private_NZDiv.div_mul_le']\n",
      "['Coq.Numbers.Cyclic.Int31.Int31.On', 'Coq.Numbers.Cyclic.Int31.Int31.Tn']\n",
      "['Coq.ZArith.BinInt.Z.le_decidable', 'Coq.ZArith.Zorder.dec_Zge']\n",
      "['Coq.Classes.CMorphisms.ProperProxy', 'Coq.Classes.CMorphisms.Proper']\n",
      "['Coq.ZArith.BinInt.Z.Private_OrderTac.Tac.not_ge_lt', 'Coq.ZArith.BinInt.Z.Private_Tac.not_ge_lt']\n",
      "['Coq.ZArith.BinInt.Z.Private_OrderTac.Tac.not_gt_le', 'Coq.ZArith.BinInt.Z.Private_Tac.not_gt_le']\n",
      "['Coq.Reals.Rtrigo_def.sin_antisym', 'Coq.Reals.Rtrigo1.sin_neg']\n",
      "['Coq.ZArith.BinInt.Z.lt_decidable', 'Coq.ZArith.Zorder.dec_Zgt']\n",
      "['Coq.Logic.Berardi.classical_proof_irrelevance', 'Coq.Logic.ClassicalFacts.proof_irrelevance_cci']\n",
      "['Coq.ZArith.Zcompare.Zle_compare', 'Coq.ZArith.Zcompare.Zge_compare']\n",
      "['Coq.Numbers.Cyclic.Int63.Int63.subcarry', 'Coq.Numbers.Cyclic.Int63.Int63.addcarry']\n",
      "['Coq.setoid_ring.Algebra_syntax.subtraction', 'Coq.setoid_ring.Algebra_syntax.addition']\n",
      "[\"Coq.Arith.PeanoNat.Nat.testbit_even_succ'\", 'Coq.Arith.PeanoNat.Nat.double_bits_succ']\n",
      "['Coq.PArith.BinPos.Pcompare_eq_Gt', 'Coq.PArith.BinPos.Pos.compare_lt_iff']\n",
      "['Coq.ssr.ssrbool.collective_pred', 'Coq.ssr.ssrbool.applicative_pred']\n",
      "['Coq.Relations.Relation_Operators.clos_refl_trans', 'Coq.Sets.Relations_2.Rstar1']\n",
      "['Coq.setoid_ring.Ring_polynom.Pol_rect', 'Coq.micromega.EnvRing.Pol_rect']\n",
      "['Coq.setoid_ring.Ring_polynom.Pol_sind', 'Coq.micromega.EnvRing.Pol_sind']\n",
      "['Coq.micromega.RMicromega.Rnegate', 'Coq.micromega.QMicromega.Qnegate']\n",
      "['Coq.ZArith.BinInt.Z.min_monotone', 'Coq.ZArith.BinInt.Z.max_monotone']\n",
      "['Coq.Bool.Bool.andb_orb_distrib_l', 'Coq.Bool.Bool.orb_andb_distrib_l']\n",
      "['Coq.Bool.Bool.andb_orb_distrib_r', 'Coq.Bool.Bool.orb_andb_distrib_r']\n",
      "['Coq.ZArith.BinInt.Z.min_max_antimonotone', 'Coq.ZArith.BinInt.Z.max_min_antimonotone']\n",
      "['Coq.ZArith.BinInt.Z.even_add_mul_even', 'Coq.ZArith.BinInt.Z.odd_add_mul_even']\n",
      "['Coq.Bool.Bool.diff_false_true', 'Coq.Bool.Bool.diff_true_false']\n",
      "['Coq.ZArith.BinInt.Z.odd_succ_succ', 'Coq.ZArith.BinInt.Z.even_succ_succ']\n",
      "['Coq.NArith.BinNat.N.Private_OrderTac.Tac.eq_le', 'Coq.NArith.BinNat.N.Private_Tac.eq_le']\n",
      "['Coq.NArith.BinNat.N.Private_OrderTac.Tac.eq_lt', 'Coq.NArith.BinNat.N.Private_Tac.eq_lt']\n",
      "['Coq.Init.Logic.eq_refl', 'Coq.Init.Datatypes.identity_refl']\n",
      "['Coq.ZArith.BinInt.Z.Private_BootStrap.opp_add_distr', 'Coq.ZArith.BinInt.Z.opp_add_distr']\n",
      "['Coq.NArith.BinNat.N.Private_OrderTac.Tac.le_eq', 'Coq.NArith.BinNat.N.Private_Tac.le_eq']\n",
      "['Coq.NArith.BinNat.N.Private_OrderTac.Tac.lt_eq', 'Coq.NArith.BinNat.N.Private_Tac.lt_eq']\n",
      "['Coq.NArith.BinNat.N.Private_OrderTac.Tac.trans', 'Coq.NArith.BinNat.N.Private_Tac.trans']\n",
      "['Coq.Bool.Bool.orb_true_iff', 'Coq.Bool.Bool.andb_false_iff']\n",
      "['Coq.setoid_ring.Ring_polynom.Mon', 'Coq.micromega.EnvRing.Mon']\n",
      "['Coq.Structures.OrderedTypeEx.PositiveOrderedTypeBits.eq_refl', 'Coq.Structures.OrderedTypeEx.Positive_as_OT.eq_refl']\n",
      "['Coq.ZArith.BinInt.Pos2Z.inj_xI', 'Coq.ZArith.BinInt.Pos2Z.pos_xI']\n",
      "['Coq.ZArith.BinInt.Pos2Z.inj_xO', 'Coq.ZArith.BinInt.Pos2Z.pos_xO']\n",
      "['Coq.ZArith.BinInt.Pos2Z.is_pos', 'Coq.ZArith.BinInt.Pos2Z.pos_is_pos']\n",
      "['Coq.QArith.Qminmax.Q.max_min_absorption', 'Coq.QArith.Qminmax.Q.min_max_absorption']\n",
      "['Coq.ZArith.BinInt.Z.max_assoc', 'Coq.ZArith.BinInt.Z.min_assoc']\n",
      "['Coq.Reals.ConstructiveRealsLUB.sig_forall_dec_T', 'Coq.Reals.ConstructiveReals.sig_forall_dec_T']\n",
      "['Coq.Reals.Rminmax.R.min_le_compat_l', 'Coq.Reals.Rbasic_fun.Rle_min_compat_l']\n",
      "['Coq.Reals.Rminmax.R.min_le_compat_r', 'Coq.Reals.Rbasic_fun.Rle_min_compat_r']\n",
      "['Coq.Sets.Relations_2.Rstar_n', 'Coq.Relations.Relation_Operators.rt1n_trans']\n",
      "['Coq.Init.Datatypes.comparison_rect', 'Coq.Structures.OrdersTac.ord_rect']\n",
      "['Coq.Init.Datatypes.comparison_sind', 'Coq.Structures.OrdersTac.ord_sind']\n",
      "['Coq.PArith.POrderedType.PositiveOrder.TO.compare', 'Coq.PArith.BinPosDef.Pos.compare']\n",
      "['Coq.QArith.Qminmax.Q.min_max_distr', 'Coq.QArith.Qminmax.Q.max_min_distr']\n",
      "['Coq.Arith.PeanoNat.Nat.Private_Tac.le_lt_trans', 'Coq.Arith.PeanoNat.Nat.Private_OrderTac.Tac.le_lt_trans']\n",
      "['Coq.ZArith.Zeven.Zeven_Sn', 'Coq.ZArith.Zeven.Zeven_pred']\n",
      "[\"Coq.Arith.PeanoNat.Nat.shiftr_spec'\", 'Coq.Arith.PeanoNat.Nat.shiftr_specif']\n",
      "['Coq.ZArith.Zeuclid.ZEuclid.div_str_pos', 'Coq.ZArith.Zeuclid.ZEuclid.Private_NZDiv.div_str_pos']\n",
      "['Coq.Logic.IndefiniteDescription.constructive_indefinite_description', 'Coq.Logic.ClassicalEpsilon.constructive_indefinite_description']\n",
      "['Coq.ZArith.BinInt.Z.succ_wd', 'Coq.ZArith.BinInt.Z.pred_wd']\n",
      "['Coq.ZArith.Zquot.Zrem_opp_l', \"Coq.ZArith.BinInt.Z.rem_opp_l'\"]\n",
      "['Coq.ZArith.Zquot.Zrem_opp_r', \"Coq.ZArith.BinInt.Z.rem_opp_r'\"]\n",
      "['Coq.setoid_ring.Field_theory.ZtoN', 'Coq.ZArith.BinIntDef.Z.to_N']\n",
      "['Coq.Reals.Rminmax.R.max_le_iff', 'Coq.Reals.Rbasic_fun.Rmax_Rle']\n",
      "['Coq.Reals.Rminmax.R.max_lub_lt', 'Coq.Reals.Rbasic_fun.Rmax_lub_lt']\n",
      "['Coq.ZArith.BinInt.Z.mul_add_distr_r', 'Coq.ZArith.BinInt.Z.Private_BootStrap.mul_add_distr_r']\n",
      "['Coq.setoid_ring.RealField.Rdef_pow_add', 'Coq.Reals.Rfunctions.pow_add']\n",
      "['Coq.micromega.Tauto.ocons', 'Coq.micromega.Tauto.cons_id']\n",
      "['Coq.ZArith.BinInt.Z.min_max_antimono', 'Coq.ZArith.BinInt.Z.max_min_antimono']\n",
      "['Coq.nsatz.Nsatz.Z_one_zero', 'Coq.setoid_ring.Rings_Z.Z_one_zero']\n",
      "['Coq.ZArith.BinInt.Z.quot_mul_le', 'Coq.ZArith.BinInt.Z.Private_Div.NZQuot.div_mul_le']\n",
      "['Coq.NArith.BinNat.N.neq_succ_0', 'Coq.NArith.BinNat.N.succ_0_discr']\n",
      "['Coq.Bool.Bool.eqb', 'Coq.Init.Datatypes.xorb']\n",
      "['Coq.ZArith.Zorder.Zle_0_nat', 'Coq.ZArith.Znat.Nat2Z.is_nonneg']\n",
      "['Coq.Init.Decimal.Pos', 'Coq.Init.Decimal.Neg']\n",
      "['Coq.Numbers.DecimalPos.Unsigned.tl', 'Coq.Numbers.DecimalNat.Unsigned.tl']\n",
      "['Coq.Arith.PeanoNat.Nat.pow_mul_l', 'Coq.Arith.PeanoNat.Nat.Private_NZPow.pow_mul_l']\n",
      "['Coq.Reals.Ranalysis1.minus_fct', 'Coq.Reals.Ranalysis1.div_fct']\n",
      "['Coq.Numbers.Cyclic.Int63.Int63.lsl_add_distr', 'Coq.Numbers.Cyclic.Int63.Int63.lor_lsr']\n",
      "['Coq.Arith.PeanoNat.Nat.right_induction', 'Coq.Arith.PeanoNat.Nat.le_ind']\n",
      "['Coq.micromega.EnvRing.pow_pos_add', 'Coq.setoid_ring.Ring_polynom.pow_pos_add']\n",
      "['Coq.Bool.Bool.andb_lazy_alt', 'Coq.Bool.Bool.orb_lazy_alt']\n",
      "['Coq.extraction.ExtrOcamlIntConv.int_of_n', 'Coq.extraction.ExtrOcamlBigIntConv.bigint_of_n']\n",
      "['Coq.extraction.ExtrOcamlIntConv.int_of_z', 'Coq.extraction.ExtrOcamlBigIntConv.bigint_of_z']\n",
      "['Coq.extraction.ExtrOcamlIntConv.int_zero', 'Coq.extraction.ExtrOcamlBigIntConv.bigint_zero']\n",
      "['Coq.Arith.PeanoNat.Nat.Private_OrderTac.Tac.le_neq_lt', 'Coq.Arith.PeanoNat.Nat.Private_Tac.le_neq_lt']\n",
      "['Coq.btauto.Algebra.Decidable_PosLe_obligation_1', 'Coq.PArith.BinPos.Pos.leb_le']\n",
      "['Coq.Reals.Rbasic_fun.Rmin_glb_lt', 'Coq.Reals.Rminmax.R.min_glb_lt']\n",
      "['Coq.Reals.Rminmax.R.opp_min_distr', 'Coq.Reals.Rbasic_fun.Ropp_Rmin']\n",
      "['Coq.Reals.ConstructiveRcomplete.FQ_dense', 'Coq.Reals.ConstructiveCauchyRealsMult.CRealQ_dense']\n",
      "['Coq.setoid_ring.Ncring_polynom.norm_subst_ok', 'Coq.setoid_ring.Ncring_polynom.norm_subst_spec']\n",
      "['Coq.ZArith.BinInt.Z.quot_unique', 'Coq.ZArith.BinInt.Z.Private_Div.NZQuot.div_unique']\n",
      "['Coq.setoid_ring.Ring_polynom.Pol_ind', 'Coq.micromega.EnvRing.Pol_ind']\n",
      "['Coq.setoid_ring.Ring_polynom.Pol_rec', 'Coq.micromega.EnvRing.Pol_rec']\n",
      "['Coq.Reals.ROrderedType.ROrder.interp_ord', 'Coq.Reals.Rminmax.R.Private_Tac.interp_ord']\n",
      "['Coq.setoid_ring.Ring_polynom.Ppow_pos', 'Coq.micromega.EnvRing.Ppow_pos']\n",
      "['Coq.ZArith.Zmin.Zmin_spec', 'Coq.ZArith.Zmax.Zmax_spec']\n",
      "['Coq.Classes.Morphisms.Build_Params', 'Coq.Classes.CMorphisms.Build_Params']\n",
      "['Coq.Reals.Rminmax.R.Private_Tac.le_trans', 'Coq.Reals.ROrderedType.ROrder.le_trans']\n",
      "['Coq.NArith.BinNat.N.Private_OrderTac.Tac.le_lt_trans', 'Coq.NArith.BinNat.N.Private_Tac.le_lt_trans']\n",
      "['Coq.Reals.Rbasic_fun.Rmax_l', 'Coq.Reals.Rminmax.R.le_max_l']\n",
      "['Coq.Reals.Rbasic_fun.Rmax_r', 'Coq.Reals.Rminmax.R.le_max_r']\n",
      "['Coq.Reals.Rbasic_fun.Rmin_l', 'Coq.Reals.Rminmax.R.le_min_l']\n",
      "['Coq.Reals.Rbasic_fun.Rmin_r', 'Coq.Reals.Rminmax.R.le_min_r']\n",
      "['Coq.ZArith.BinInt.Pos2Z.testbit_neg', 'Coq.ZArith.BinInt.Z.testbit_Zneg']\n",
      "['Coq.QArith.Qminmax.Q.Private_Tac.le_neq_lt', 'Coq.QArith.QOrderedType.QOrder.le_neq_lt']\n",
      "['Coq.NArith.BinNat.N.Private_Tac.interp_ord', 'Coq.NArith.BinNat.N.Private_OrderTac.Tac.interp_ord']\n",
      "['Coq.Lists.List.skipn_none', 'Coq.Lists.List.skipn_all']\n",
      "['Coq.ZArith.Zorder.Zplus_gt_compat_l', 'Coq.ZArith.Zorder.Zplus_lt_compat_l']\n",
      "['Coq.ZArith.Zorder.Zplus_gt_compat_r', 'Coq.ZArith.Zorder.Zplus_lt_compat_r']\n",
      "['Coq.PArith.BinPosDef.Pos.IsNeg', 'Coq.PArith.BinPosDef.Pos.IsNul']\n",
      "['Coq.FSets.FSetPositive.PositiveSet.is_empty', 'Coq.MSets.MSetPositive.PositiveSet.is_empty']\n",
      "['Coq.micromega.EnvRing.Peq', 'Coq.setoid_ring.Ring_polynom.Peq']\n",
      "['Coq.micromega.EnvRing.mkX', 'Coq.setoid_ring.Ring_polynom.mkX']\n",
      "['Coq.micromega.EnvRing.Padd', 'Coq.setoid_ring.Ring_polynom.Padd']\n",
      "['Coq.micromega.EnvRing.Pmul', 'Coq.setoid_ring.Ring_polynom.Pmul']\n",
      "['Coq.micromega.EnvRing.Popp', 'Coq.setoid_ring.Ring_polynom.Popp']\n",
      "['Coq.micromega.EnvRing.Psub', 'Coq.setoid_ring.Ring_polynom.Psub']\n",
      "['Coq.micromega.EnvRing.mkPX', 'Coq.setoid_ring.Ring_polynom.mkPX']\n",
      "['Coq.micromega.EnvRing.mkXi', 'Coq.setoid_ring.Ring_polynom.mkXi']\n",
      "['Coq.micromega.EnvRing.mk_X', 'Coq.setoid_ring.Ring_polynom.mk_X']\n",
      "['Coq.Reals.R_sqrt.sqrt_def', 'Coq.Reals.R_sqrt.sqrt_sqrt']\n",
      "['Coq.setoid_ring.InitialRing.NotConstant', 'Coq.setoid_ring.Ncring_initial.NotConstant']\n",
      "['Coq.Logic.EqdepFacts.internal_eq_sym_involutive0', 'Coq.Init.Logic.eq_sym_involutive']\n",
      "['Coq.ZArith.BinInt.Z.Private_Div.NZQuot.div_1_l', 'Coq.ZArith.BinInt.Z.quot_1_l']\n",
      "['Coq.ZArith.BinInt.Z.Private_Div.NZQuot.div_pos', 'Coq.ZArith.BinInt.Z.quot_pos']\n",
      "['Coq.ZArith.BinInt.Z.Private_OrderTac.Tac.eq_refl', 'Coq.ZArith.BinInt.Z.Private_Tac.eq_refl']\n",
      "['Coq.micromega.EnvRing.PaddI', 'Coq.setoid_ring.Ring_polynom.PaddI']\n",
      "['Coq.micromega.EnvRing.PaddX', 'Coq.setoid_ring.Ring_polynom.PaddX']\n",
      "['Coq.micromega.EnvRing.PmulC', 'Coq.setoid_ring.Ring_polynom.PmulC']\n",
      "['Coq.micromega.EnvRing.PmulI', 'Coq.setoid_ring.Ring_polynom.PmulI']\n",
      "['Coq.micromega.EnvRing.PsubI', 'Coq.setoid_ring.Ring_polynom.PsubI']\n",
      "['Coq.micromega.EnvRing.PsubX', 'Coq.setoid_ring.Ring_polynom.PsubX']\n",
      "['Coq.ZArith.BinInt.Z.add_comm', 'Coq.ZArith.BinInt.Z.Private_BootStrap.add_comm']\n",
      "['Coq.micromega.RingMicromega.Op1', 'Coq.Floats.PrimFloat.float_comparison']\n",
      "['Coq.ZArith.BinInt.Z.Private_BootStrap.add_opp_diag_r', 'Coq.ZArith.BinInt.Z.add_opp_diag_r']\n",
      "['Coq.Reals.Rminmax.R.max_lub', 'Coq.Reals.Rbasic_fun.Rmax_lub']\n",
      "['Coq.Reals.Rprod.prod_f_R0', 'Coq.Reals.Rfunctions.sum_f_R0']\n",
      "['Coq.Init.Datatypes.comparison', 'Coq.Structures.OrdersTac.ord']\n",
      "['Coq.MSets.MSetPositive.PositiveSet.rev_append', 'Coq.FSets.FSetPositive.PositiveSet.rev_append']\n",
      "['Coq.FSets.FSetPositive.PositiveSet.compare_gt', 'Coq.MSets.MSetPositive.PositiveSet.compare_gt']\n",
      "['Coq.Relations.Relation_Operators.rt_step', 'Coq.Sets.Relations_2.Rstar1_1']\n",
      "['Coq.MSets.MSetPositive.PositiveSet.compare_x_Leaf', 'Coq.FSets.FSetPositive.PositiveSet.compare_x_Leaf']\n",
      "['Coq.ssr.ssrbool.andb_orl', 'Coq.ssr.ssrbool.orb_andl']\n",
      "['Coq.ssr.ssrbool.andb_orr', 'Coq.ssr.ssrbool.orb_andr']\n",
      "['Coq.Floats.SpecFloat.S754_zero', 'Coq.Floats.SpecFloat.S754_infinity']\n",
      "['Coq.Reals.Raxioms.Rplus_assoc', 'Coq.Reals.Raxioms.Rmult_assoc']\n",
      "['Coq.Relations.Relation_Operators.clos_trans_1n_sind', 'Coq.Sets.Relations_2.Rplus_sind']\n",
      "['Coq.Reals.Rminmax.R.Private_Tac.not_neq_eq', 'Coq.Reals.ROrderedType.ROrder.not_neq_eq']\n",
      "['Coq.NArith.BinNat.N.eq', 'Coq.Structures.OrderedTypeEx.N_as_OT.eq']\n",
      "['Coq.NArith.BinNat.N.ge', 'Coq.NArith.BinNat.N.le']\n",
      "['Coq.NArith.BinNat.N.gt', 'Coq.NArith.BinNat.N.lt']\n",
      "['Coq.FSets.FSetPositive.PositiveSet.compare_bool', 'Coq.MSets.MSetPositive.PositiveSet.compare_bool']\n",
      "['Coq.ZArith.Znat.Z2N.inj_testbit', \"Coq.ZArith.BinInt.Z.testbit_of_N'\"]\n",
      "['Coq.Reals.Rminmax.R.Private_Tac.not_ge_lt', 'Coq.Reals.ROrderedType.ROrder.not_ge_lt']\n",
      "['Coq.Reals.Rminmax.R.Private_Tac.not_gt_le', 'Coq.Reals.ROrderedType.ROrder.not_gt_le']\n",
      "['Coq.Reals.Rminmax.R.min_glb', 'Coq.Reals.Rbasic_fun.Rmin_glb']\n",
      "['Coq.PArith.BinPos.Pos.compare_cont_Gt_not_Gt', 'Coq.PArith.BinPos.Pos.compare_cont_Lt_not_Lt']\n",
      "['Coq.PArith.BinPos.Pos.compare_cont_Gt_not_Lt', 'Coq.PArith.BinPos.Pos.compare_cont_Lt_not_Gt']\n",
      "['Coq.Arith.PeanoNat.Nat.Private_NZDiv.div_1_l', 'Coq.Arith.PeanoNat.Nat.div_1_l']\n",
      "['Coq.NArith.BinNat.N.ge_le', 'Coq.NArith.BinNat.N.le_ge']\n",
      "['Coq.NArith.BinNat.N.gt_lt', 'Coq.NArith.BinNat.N.lt_gt']\n",
      "['Coq.QArith.Qminmax.Q.plus_max_distr_l', 'Coq.QArith.Qminmax.Q.plus_min_distr_l']\n",
      "['Coq.QArith.Qminmax.Q.plus_max_distr_r', 'Coq.QArith.Qminmax.Q.plus_min_distr_r']\n",
      "['Coq.NArith.BinNat.N.le_wd', 'Coq.NArith.BinNat.N.Proper_instance_0']\n",
      "['Coq.Numbers.Cyclic.Int63.Int63.sqrt_test_true', 'Coq.Numbers.Cyclic.Int31.Cyclic31.sqrt_test_true']\n",
      "['Coq.ZArith.Wf_Z.Z_of_nat_complete', 'Coq.Reals.RIneq.IZN']\n",
      "['Coq.ZArith.BinInt.Z.max_min_absorption', 'Coq.ZArith.BinInt.Z.min_max_absorption']\n",
      "['Coq.MSets.MSetPositive.PositiveSet.lt_rev_append', 'Coq.FSets.FSetPositive.PositiveSet.lt_rev_append']\n",
      "['Coq.Reals.Ranalysis1.continuity_mult', 'Coq.Reals.Ranalysis1.continuity_plus']\n",
      "['Coq.omega.OmegaLemmas.OMEGA13', 'Coq.omega.OmegaLemmas.OMEGA14']\n",
      "['Coq.omega.OmegaLemmas.OMEGA17', 'Coq.omega.OmegaLemmas.OMEGA20']\n",
      "['Coq.PArith.BinPos.Pos.lt_add_r', 'Coq.PArith.BinPos.Pos.lt_add_diag_r']\n",
      "['Coq.ZArith.Znat.N2Z.inj_ge', 'Coq.ZArith.Znat.N2Z.inj_le']\n",
      "['Coq.ZArith.Znat.N2Z.inj_gt', 'Coq.ZArith.Znat.N2Z.inj_lt']\n",
      "['Coq.ZArith.Zquot.Zrem_lt_pos_pos', 'Coq.ZArith.BinInt.Z.rem_bound_pos']\n",
      "['Coq.ZArith.BinInt.Z.min_max_distr', 'Coq.ZArith.BinInt.Z.max_min_distr']\n",
      "['Coq.Numbers.Cyclic.Int31.Cyclic31.EqShiftL_twice_plus_one', 'Coq.Numbers.Cyclic.Int31.Cyclic31.EqShiftL_twice']\n",
      "['Coq.Reals.RIneq.Rlt_0_sqr', 'Coq.Reals.R_sqr.Rsqr_pos_lt']\n",
      "['Coq.ZArith.BinInt.Z.Private_NZDiv.div_mul_le', 'Coq.ZArith.BinInt.Z.div_mul_le']\n",
      "['Coq.Sets.Relations_2.Rstar1_n', 'Coq.Relations.Relation_Operators.rt_trans']\n",
      "['Coq.Arith.Plus.plus_le_compat', 'Coq.Arith.PeanoNat.Nat.add_le_mono']\n",
      "['Coq.Relations.Relation_Definitions.per_sym', 'Coq.Classes.RelationClasses.PER_Symmetric']\n",
      "['Coq.ZArith.Zdiv.Zdiv_unique', 'Coq.ZArith.BinInt.Z.div_unique_pos']\n",
      "['Coq.ssr.ssrbool.if_same', 'Coq.micromega.Tauto.if_same']\n",
      "['Coq.btauto.Reflect.formula_btm', 'Coq.btauto.Reflect.formula_top']\n",
      "[\"Coq.Arith.PeanoNat.Nat.Private_NZPow.pow_0_l'\", 'Coq.Arith.PeanoNat.Nat.pow_0_l']\n",
      "['Coq.Classes.RelationClasses.equivalence_rewrite_relation', 'Coq.Classes.SetoidTactics.equivalence_default']\n",
      "['Coq.Reals.Cauchy_prod.sum_plus', 'Coq.Reals.PartSum.plus_sum']\n",
      "['Coq.extraction.ExtrOcamlBigIntConv.bigint_natlike_rec', 'Coq.extraction.ExtrOcamlIntConv.int_natlike_rec']\n",
      "['Coq.ZArith.Zeuclid.ZEuclid.div_lt', 'Coq.ZArith.Zeuclid.ZEuclid.Private_NZDiv.div_lt']\n",
      "['Coq.Arith.PeanoNat.Nat.add_succ_l', 'Coq.Init.Peano.plus_Sn_m']\n",
      "['Coq.PArith.BinPos.Pos.lt_irrefl', 'Coq.PArith.BinPos.Pos.Private_Tac.lt_irrefl']\n",
      "['Coq.Bool.IfProp.Iftrue', 'Coq.Init.Datatypes.BoolSpecT']\n",
      "['Coq.Init.Nat.leb', 'Coq.Sorting.Mergesort.NatOrder.leb']\n",
      "['Coq.Reals.Rbasic_fun.Rmax_Rlt', 'Coq.Reals.Rminmax.R.max_lub_lt_iff']\n",
      "['Coq.Reals.RIneq.Rplus_le_le_0_compat', 'Coq.Reals.RIneq.Rmult_le_pos']\n",
      "['Coq.ZArith.Znumtheory.Zis_gcd_uniqueness_apart_sign', 'Coq.ZArith.Znumtheory.Zis_gcd_unique']\n",
      "['Coq.NArith.BinNat.N.mod_1_l', 'Coq.NArith.BinNat.N.Private_NZDiv.mod_1_l']\n",
      "['Coq.PArith.BinPos.Pos.eqb_eq', 'Coq.btauto.Algebra.Decidable_PosEq_obligation_1']\n",
      "['Coq.Numbers.Cyclic.ZModulo.ZModulo.add', 'Coq.ZArith.Int.Z_as_Int.add']\n",
      "['Coq.Numbers.Cyclic.ZModulo.ZModulo.gcd', 'Coq.Numbers.Cyclic.ZModulo.ZModulo.gcd_gt']\n",
      "['Coq.Numbers.Cyclic.ZModulo.ZModulo.mul', 'Coq.ZArith.Int.Z_as_Int.mul']\n",
      "['Coq.Numbers.Cyclic.ZModulo.ZModulo.sub', 'Coq.ZArith.Int.Z_as_Int.sub']\n",
      "['Coq.Numbers.Cyclic.Int63.Int63.digits', 'Coq.Numbers.Cyclic.Int63.Int63.max_int']\n",
      "['Coq.setoid_ring.Ring_theory.C_setoid_Reflexive', 'Coq.Lists.SetoidList.eqarefl']\n",
      "['Coq.micromega.Ztac.Mul', 'Coq.micromega.Ztac.Add']\n",
      "['Coq.Numbers.Cyclic.ZModulo.ZModulo.pred', 'Coq.Numbers.Cyclic.ZModulo.ZModulo.succ']\n",
      "['Coq.NArith.Ndec.Neqb_complete', 'Coq.setoid_ring.InitialRing.Neqb_ok']\n",
      "['Coq.Numbers.Cyclic.Int63.Int63.eq_dec', 'Coq.Reals.RIneq.Req_dec']\n",
      "['Coq.ZArith.BinInt.Z.mul_opp_r', 'Coq.ZArith.BinInt.Z.Private_BootStrap.mul_opp_r']\n",
      "['Coq.PArith.BinPos.Ppred_minus', 'Coq.PArith.BinPos.Pos.pred_sub']\n",
      "['Coq.Sets.Constructive_sets.Included_Empty', 'Coq.Sets.Powerset.Empty_set_minimal']\n",
      "['Coq.Bool.Bvector.Bvect_true', 'Coq.Bool.Bvector.Bvect_false']\n",
      "['Coq.FSets.FMapPositive.PositiveMap.xelements_hi', 'Coq.FSets.FMapPositive.PositiveMap.xelements_ho']\n",
      "['Coq.FSets.FMapPositive.PositiveMap.xelements_ii', 'Coq.FSets.FMapPositive.PositiveMap.xelements_oo']\n",
      "['Coq.FSets.FMapPositive.PositiveMap.xelements_io', 'Coq.FSets.FMapPositive.PositiveMap.xelements_oi']\n",
      "['Coq.ZArith.BinInt.Z.le_pred_lt_succ', 'Coq.ZArith.BinInt.Z.le_succ_le_pred']\n",
      "['Coq.Reals.Rbasic_fun.Rmax_comm', 'Coq.Reals.Rminmax.R.max_comm']\n",
      "['Coq.Reals.Rbasic_fun.Rmax_left', 'Coq.Reals.Rminmax.Rmax_l']\n",
      "['Coq.ZArith.BinInt.Z.Private_OrderTac.Tac.le_neq_lt', 'Coq.ZArith.BinInt.Z.Private_Tac.le_neq_lt']\n",
      "['Coq.Bool.Bool.absorption_andb', 'Coq.Bool.Bool.absorption_orb']\n",
      "['Coq.QArith.Qminmax.Q.min_assoc', 'Coq.QArith.Qminmax.Q.max_assoc']\n",
      "['Coq.Numbers.Cyclic.Int63.Int63.id_int', 'Coq.Reals.Ranalysis1.id']\n",
      "['Coq.PArith.BinPosDef.Pos.Ndouble', 'Coq.NArith.BinNatDef.N.double']\n",
      "['Coq.Structures.OrderedTypeEx.Z_as_OT.eq_dec', 'Coq.ZArith.Int.Z_as_Int.eq_dec']\n",
      "['Coq.Bool.Bool.negb_false_iff', 'Coq.Bool.Bool.negb_true_iff']\n",
      "['Coq.Structures.OrdersEx.PositiveOrderedTypeBits.bits_lt_trans', 'Coq.Structures.OrderedTypeEx.PositiveOrderedTypeBits.bits_lt_trans']\n",
      "['Coq.micromega.EnvRing.mon0', 'Coq.setoid_ring.Ring_polynom.mon0']\n",
      "['Coq.PArith.BinPos.Pos.ltb_lt', 'Coq.btauto.Algebra.Decidable_PosLt_obligation_1']\n",
      "['Coq.QArith.Qminmax.Q.OT.lt_total', 'Coq.QArith.QOrderedType.QOrder.TO.lt_total']\n",
      "['Coq.Arith.PeanoNat.Nat.add_lt_mono', 'Coq.Arith.Plus.plus_lt_compat']\n",
      "['Coq.ZArith.BinInt.Z.Private_NZDiv.div_str_pos', 'Coq.ZArith.BinInt.Z.div_str_pos']\n",
      "['Coq.MSets.MSetPositive.PositiveSet.ct_cxe', 'Coq.FSets.FSetPositive.PositiveSet.ct_cxe']\n",
      "['Coq.MSets.MSetPositive.PositiveSet.ct_lex', 'Coq.FSets.FSetPositive.PositiveSet.ct_lex']\n",
      "['Coq.MSets.MSetPositive.PositiveSet.ct_xce', 'Coq.FSets.FSetPositive.PositiveSet.ct_xce']\n",
      "['Coq.ZArith.Zquot.Zrem_Zmod_zero', 'Coq.ZArith.BinInt.Z.rem_mod_eq_0']\n",
      "['Coq.MSets.MSetPositive.PositiveSet.Leaf', 'Coq.FSets.FSetPositive.PositiveSet.Leaf']\n",
      "['Coq.ZArith.BinInt.Z.add_pred_l', 'Coq.ZArith.BinInt.Z.add_succ_l']\n",
      "['Coq.ZArith.BinInt.Z.add_pred_r', 'Coq.ZArith.BinInt.Z.add_succ_r']\n",
      "['Coq.Arith.PeanoNat.Nat.add_0_l', 'Coq.Init.Peano.plus_O_n']\n",
      "['Coq.PArith.BinPos.Pos.compare_cont_Gt_Gt', 'Coq.PArith.BinPos.Pos.compare_cont_Lt_Lt']\n",
      "['Coq.PArith.BinPos.Pos.compare_cont_Gt_Lt', 'Coq.PArith.BinPos.Pos.compare_cont_Lt_Gt']\n",
      "['Coq.QArith.QArith_base.Qle_bool', 'Coq.QArith.QArith_base.Qeq_bool']\n",
      "['Coq.QArith.QArith_base.Qle_comp', 'Coq.QArith.Qminmax.Q.Proper_instance_0']\n",
      "['Coq.micromega.EnvRing.Pol', 'Coq.setoid_ring.Ring_polynom.Pol']\n",
      "['Coq.Init.Datatypes.orb', 'Coq.Init.Datatypes.andb']\n",
      "['Coq.Bool.Bool.eqb_reflx', 'Coq.Bool.Bool.xorb_nilpotent']\n",
      "['Coq.Bool.Bool.orb_assoc', 'Coq.Bool.Bool.andb_assoc']\n",
      "['Coq.Arith.Mult.mult_le_compat_l', 'Coq.Arith.PeanoNat.Nat.mul_le_mono_l']\n",
      "['Coq.Arith.Mult.mult_le_compat_r', 'Coq.Arith.PeanoNat.Nat.mul_le_mono_r']\n",
      "['Coq.Reals.Raxioms.Rplus_comm', 'Coq.Reals.Raxioms.Rmult_comm']\n",
      "['Coq.setoid_ring.Field_theory.FEopp', 'Coq.setoid_ring.Field_theory.FEinv']\n",
      "['Coq.MSets.MSetPositive.PositiveSet.lex_Eq', 'Coq.FSets.FSetPositive.PositiveSet.lex_Eq']\n",
      "['Coq.rtauto.Bintree.Poption_rect', 'Coq.Init.Datatypes.option_rect']\n",
      "['Coq.rtauto.Bintree.Poption_sind', 'Coq.Init.Datatypes.option_sind']\n",
      "['Coq.setoid_ring.Ring_theory.C_setoid_Transitive', 'Coq.Lists.SetoidList.eqatrans']\n",
      "['Coq.MSets.MSetPositive.PositiveSet.tree', 'Coq.FSets.FSetPositive.PositiveSet.tree']\n",
      "['Coq.Reals.ROrderedType.R_as_UBE.t', 'Coq.Numbers.Cyclic.Int63.Cyclic63.Int63Cyclic.t']\n",
      "['Coq.Reals.ROrderedType.R_as_UBE.eqb', 'Coq.Reals.ROrderedType.R_as_DT.eqb']\n",
      "['Coq.ZArith.BinInt.Z.pred_inj', 'Coq.ZArith.BinInt.Z.succ_inj']\n",
      "['Coq.ZArith.BinInt.Z.odd_add_mul_2', 'Coq.ZArith.BinInt.Z.even_add_mul_2']\n",
      "['Coq.Arith.PeanoNat.Nat.Private_Tac.lt_trans', 'Coq.Arith.PeanoNat.Nat.Private_OrderTac.Tac.lt_trans']\n",
      "['Coq.ZArith.Znat.Zabs2Nat.inj_neg', 'Coq.ZArith.Znat.Zabs2Nat.inj_pos']\n",
      "['Coq.Reals.Rminmax.R.Private_Tac.eq_refl', 'Coq.Reals.ROrderedType.ROrder.eq_refl']\n",
      "['Coq.micromega.RingMicromega.SORRing_ring_lemma1', 'Coq.micromega.OrderedRing.SOR_ring_lemma1']\n",
      "['Coq.micromega.RingMicromega.SORRing_ring_lemma2', 'Coq.micromega.OrderedRing.SOR_ring_lemma2']\n",
      "['Coq.NArith.Ndec.Nltb_double_mono_conv', 'Coq.NArith.Ndec.Nleb_double_mono_conv']\n",
      "['Coq.Relations.Relation_Definitions.preord_refl', 'Coq.Classes.RelationClasses.PreOrder_Reflexive']\n",
      "['Coq.Numbers.Cyclic.Int63.Ring63.Int63_canonic', 'Coq.Numbers.Cyclic.Int63.Int63.to_Z_inj']\n",
      "['Coq.Reals.SeqProp.not_Rlt', 'Coq.Reals.RIneq.Rnot_lt_ge']\n",
      "['Coq.FSets.FSetPositive.PositiveSet.tree_ind', 'Coq.MSets.MSetPositive.PositiveSet.tree_ind']\n",
      "['Coq.MSets.MSetPositive.PositiveSet.subset', 'Coq.FSets.FSetPositive.PositiveSet.subset']\n",
      "['Coq.FSets.FSetPositive.PositiveSet.ct_xex', 'Coq.MSets.MSetPositive.PositiveSet.ct_xex']\n",
      "['Coq.Reals.Ranalysis1.derivable_mult', 'Coq.Reals.Ranalysis1.derivable_plus']\n",
      "['Coq.micromega.ZifyInst.Op_pos_ge', 'Coq.micromega.ZifyInst.Op_pos_le']\n",
      "['Coq.micromega.ZifyInst.Op_pos_gt', 'Coq.micromega.ZifyInst.Op_pos_lt']\n",
      "['Coq.ssr.ssrfun.SimplFun', 'Coq.ssr.ssrbool.Implies']\n",
      "['Coq.ZArith.BinInt.Z.add_0_r', 'Coq.ZArith.BinInt.Z.Private_BootStrap.add_0_r']\n",
      "['Coq.Bool.Bool.not_false_is_true', 'Coq.Bool.Bool.not_true_is_false']\n",
      "['Coq.ZArith.BinInt.Z.div_le_compat_l', 'Coq.ZArith.BinInt.Z.Private_NZDiv.div_le_compat_l']\n",
      "['Coq.Init.Datatypes.BoolSpecF', 'Coq.Bool.IfProp.Iffalse']\n",
      "['Coq.micromega.RMicromega.C1', 'Coq.micromega.RMicromega.C0']\n",
      "['Coq.Arith.PeanoNat.Nat.add_le_lt_mono', 'Coq.Arith.Plus.plus_le_lt_compat']\n",
      "['Coq.ZArith.BinInt.Z.even_add', 'Coq.ZArith.BinInt.Z.odd_add']\n",
      "['Coq.ZArith.BinInt.Z.even_mul', 'Coq.ZArith.BinInt.Z.odd_mul']\n",
      "['Coq.ZArith.BinInt.Z.even_opp', 'Coq.ZArith.BinInt.Z.odd_opp']\n",
      "['Coq.ZArith.BinInt.Z.even_pow', 'Coq.ZArith.BinInt.Z.odd_pow']\n",
      "['Coq.ZArith.BinInt.Z.even_sub', 'Coq.ZArith.BinInt.Z.odd_sub']\n",
      "['Coq.NArith.BinNat.N.Private_Tac.le_trans', 'Coq.NArith.BinNat.N.Private_OrderTac.Tac.le_trans']\n",
      "['Coq.Arith.PeanoNat.Nat.Private_Tac.eq_neq', 'Coq.Arith.PeanoNat.Nat.Private_OrderTac.Tac.eq_neq']\n",
      "['Coq.Arith.PeanoNat.Nat.Private_Tac.eq_sym', 'Coq.Arith.PeanoNat.Nat.Private_OrderTac.Tac.eq_sym']\n",
      "['Coq.MSets.MSetPositive.PositiveSet.compare_x_empty', 'Coq.FSets.FSetPositive.PositiveSet.compare_x_empty']\n",
      "['Coq.ZArith.BinInt.Z.Private_Div.NZQuot.mod_unique', 'Coq.ZArith.BinInt.Z.rem_unique']\n",
      "['Coq.Numbers.Cyclic.Int63.Int63.sqrt_init', 'Coq.Numbers.Cyclic.Int31.Cyclic31.sqrt_init']\n",
      "['Coq.Numbers.Cyclic.Int63.Int63.sqrt_main', 'Coq.Numbers.Cyclic.Int31.Cyclic31.sqrt_main']\n",
      "['Coq.Numbers.DecimalString.NilZero.isi_negnil', 'Coq.Numbers.DecimalString.NilZero.isi_posnil']\n",
      "['Coq.MSets.MSetPositive.PositiveSet.compare_inv', 'Coq.FSets.FSetPositive.PositiveSet.compare_inv']\n",
      "['Coq.Arith.PeanoNat.Nat.shiftl_specif_high', \"Coq.Arith.PeanoNat.Nat.shiftl_spec_high'\"]\n",
      "['Coq.setoid_ring.Field_theory.NPEadd', 'Coq.setoid_ring.Field_theory.NPEsub']\n",
      "['Coq.QArith.QOrderedType.Q_as_OT.lt_compat', 'Coq.QArith.QArith_base.Qlt_compat']\n",
      "['Coq.ZArith.BinInt.Z.Private_NZDiv.div_mod_unique', 'Coq.ZArith.BinInt.Z.Private_Div.NZQuot.div_mod_unique']\n",
      "['Coq.PArith.BinPos.Pos.Private_Tac.le_refl', 'Coq.PArith.BinPos.Pos.le_refl']\n",
      "['Coq.QArith.Qminmax.Q.min_comm', 'Coq.QArith.Qminmax.Q.max_comm']\n",
      "['Coq.QArith.Qminmax.Q.min_mono', 'Coq.QArith.Qminmax.Q.max_mono']\n",
      "['Coq.QArith.QArith_base.Qeqb_comp', 'Coq.QArith.QArith_base.Qleb_comp']\n",
      "['Coq.NArith.BinNat.N.Private_OrderTac.Tac.lt_trans', 'Coq.NArith.BinNat.N.Private_Tac.lt_trans']\n",
      "['Coq.PArith.BinPos.Pos.Private_Tac.le_antisym', 'Coq.PArith.BinPos.Pos.le_antisym']\n",
      "['Coq.Arith.PeanoNat.Nat.Private_Tac.eq_trans', 'Coq.Arith.PeanoNat.Nat.Private_OrderTac.Tac.eq_trans']\n",
      "['Coq.Lists.List.existsb', 'Coq.Lists.List.forallb']\n",
      "['Coq.Arith.PeanoNat.Nat.Private_Tac.neq_eq', 'Coq.Arith.PeanoNat.Nat.Private_OrderTac.Tac.neq_eq']\n",
      "['Coq.Arith.Lt.nat_total_order', 'Coq.Arith.Compare_dec.not_eq']\n",
      "['Coq.ZArith.BinInt.Zsucc_pred', 'Coq.ZArith.BinInt.Zpred_succ']\n",
      "['Coq.Relations.Relation_Operators.rt1n_refl', 'Coq.Sets.Relations_2.Rstar_0']\n",
      "['Coq.ssr.ssrbool.predArgType', 'Coq.Logic.Hurkens.NoRetractFromTypeToProp.Type2']\n",
      "['Coq.Reals.ClassicalDedekindReals.lowerCutAbove', 'Coq.Reals.ClassicalDedekindReals.lowerCutBelow']\n",
      "['Coq.NArith.BinNat.N.div_str_pos', 'Coq.NArith.BinNat.N.Private_NZDiv.div_str_pos']\n",
      "['Coq.Arith.PeanoNat.Nat.le_add_r', 'Coq.Arith.Plus.le_plus_l']\n",
      "['Coq.ZArith.BinInt.Z.div_add_l', 'Coq.ZArith.Zdiv.Z_div_plus_full_l']\n",
      "['Coq.NArith.BinNat.N.Private_Tac.not_neq_eq', 'Coq.NArith.BinNat.N.Private_OrderTac.Tac.not_neq_eq']\n",
      "['Coq.QArith.QArith_base.Qmult_integral', 'Coq.micromega.RMicromega.Qmult_integral']\n",
      "['Coq.Reals.RIneq.Rplus_eq_compat_l', 'Coq.Reals.RIneq.Rmult_eq_compat_l']\n",
      "['Coq.Reals.RIneq.Rplus_eq_compat_r', 'Coq.Reals.RIneq.Rmult_eq_compat_r']\n",
      "['Coq.ZArith.BinInt.Z.quot_rem_unique', 'Coq.ZArith.BinInt.Z.div_mod_unique']\n",
      "['Coq.NArith.BinNat.N.Private_OrderTac.Tac.eq_neq', 'Coq.NArith.BinNat.N.Private_Tac.eq_neq']\n",
      "['Coq.NArith.BinNat.N.Private_OrderTac.Tac.eq_sym', 'Coq.NArith.BinNat.N.Private_Tac.eq_sym']\n",
      "['Coq.NArith.BinNat.N.Private_Tac.not_ge_lt', 'Coq.NArith.BinNat.N.Private_OrderTac.Tac.not_ge_lt']\n",
      "['Coq.NArith.BinNat.N.Private_Tac.not_gt_le', 'Coq.NArith.BinNat.N.Private_OrderTac.Tac.not_gt_le']\n",
      "['Coq.Reals.SeqProp.CV_mult', 'Coq.Reals.SeqProp.CV_plus']\n",
      "['Coq.ZArith.Zcompare.Zlt_compare', 'Coq.ZArith.Zcompare.Zgt_compare']\n",
      "['Coq.Reals.Rminmax.R.Private_Tac.le_neq_lt', 'Coq.Reals.ROrderedType.ROrder.le_neq_lt']\n",
      "['Coq.QArith.Qminmax.QHasMinMax.max', 'Coq.QArith.Qminmax.QHasMinMax.min']\n",
      "['Coq.Bool.Bool.not_true_iff_false', 'Coq.Bool.Bool.not_false_iff_true']\n",
      "['Coq.ZArith.BinInt.Z.odd_add_even', 'Coq.ZArith.BinInt.Z.even_add_even']\n",
      "['Coq.Logic.WKL.next_left', 'Coq.Logic.WKL.next_right']\n",
      "['Coq.Arith.PeanoNat.Nat.Private_Tac.lt_le_trans', 'Coq.Arith.PeanoNat.Nat.Private_OrderTac.Tac.lt_le_trans']\n",
      "['Coq.ZArith.BinInt.Z.quot_str_pos', 'Coq.ZArith.BinInt.Z.Private_Div.NZQuot.div_str_pos']\n",
      "['Coq.ZArith.Wf_Z.Z_of_nat_complete_inf', 'Coq.Reals.RiemannInt_SF.IZN_var']\n",
      "['Coq.NArith.BinNat.N.Private_OrderTac.Tac.eq_trans', 'Coq.NArith.BinNat.N.Private_Tac.eq_trans']\n",
      "['Coq.NArith.BinNat.N.Private_OrderTac.Tac.neq_eq', 'Coq.NArith.BinNat.N.Private_Tac.neq_eq']\n",
      "['Coq.ZArith.Znat.positive_N_Z', 'Coq.ZArith.Znat.N2Z.inj_pos']\n",
      "['Coq.micromega.EnvRing.Ppow_N', 'Coq.setoid_ring.Ring_polynom.Ppow_N']\n",
      "['Coq.ZArith.BinInt.Zplus_0_r_reverse', 'Coq.omega.OmegaLemmas.Zred_factor6']\n",
      "['Coq.Reals.ROrderedType.ROrder.TO.lt_total', 'Coq.Reals.Rminmax.R.OT.lt_total']\n",
      "['Coq.Relations.Relation_Operators.t1n_step', 'Coq.Sets.Relations_2.Rplus_0']\n",
      "['Coq.NArith.BinNat.N.pow_0_l', \"Coq.NArith.BinNat.N.Private_NZPow.pow_0_l'\"]\n",
      "['Coq.Arith.Mult.mult_le_compat', 'Coq.Arith.PeanoNat.Nat.mul_le_mono']\n",
      "['Coq.ZArith.Zorder.Zplus_gt_reg_l', 'Coq.ZArith.Zorder.Zplus_lt_reg_l']\n",
      "['Coq.ZArith.Zorder.Zplus_gt_reg_r', 'Coq.ZArith.Zorder.Zplus_lt_reg_r']\n",
      "['Coq.ZArith.BinInt.Z.le_trans', 'Coq.ZArith.Zorder.Zge_trans']\n",
      "['Coq.Classes.Morphisms.proper_proxy', 'Coq.Classes.Morphisms.proper_prf']\n",
      "['Coq.Logic.ClassicalFacts.proof_irrelevance', 'Coq.Logic.ChoiceFacts.ProofIrrelevance']\n",
      "['Coq.Relations.Relation_Definitions.preord_trans', 'Coq.Classes.RelationClasses.PreOrder_Transitive']\n",
      "['Coq.ssr.ssrbool.orFb', 'Coq.ssr.ssrbool.andTb']\n",
      "['Coq.ssr.ssrbool.orKb', 'Coq.ssr.ssrbool.andKb']\n",
      "['Coq.ssr.ssrbool.orNb', 'Coq.ssr.ssrbool.andNb']\n",
      "['Coq.ssr.ssrbool.orbA', 'Coq.ssr.ssrbool.andbA']\n",
      "['Coq.ssr.ssrbool.orbC', 'Coq.ssr.ssrbool.andbC']\n",
      "['Coq.ssr.ssrbool.orbF', 'Coq.ssr.ssrbool.andbT']\n",
      "['Coq.ssr.ssrbool.orbK', 'Coq.ssr.ssrbool.andbK']\n",
      "['Coq.ssr.ssrbool.orbb', 'Coq.ssr.ssrbool.andbb']\n",
      "['Coq.ZArith.BinInt.Z.leb_refl', 'Coq.ZArith.BinInt.Z.ltb_irrefl']\n",
      "['Coq.NArith.Ndec.Nleb_double_plus_one_mono', 'Coq.NArith.Ndec.Nltb_double_plus_one_mono']\n",
      "['Coq.Numbers.Cyclic.ZModulo.ZModulo.modulo_gt', 'Coq.Numbers.Cyclic.ZModulo.ZModulo.modulo']\n",
      "['Coq.Bool.Bvector.BVor', 'Coq.Bool.Bvector.BVand']\n",
      "['Coq.MSets.MSetPositive.PositiveSet.compare_bool_Eq', 'Coq.FSets.FSetPositive.PositiveSet.compare_bool_Eq']\n",
      "['Coq.setoid_ring.Ncring_initial.get_signZ', 'Coq.setoid_ring.InitialRing.get_signZ']\n",
      "['Coq.ZArith.BinInt.Z.opp_pred', 'Coq.ZArith.BinInt.Z.opp_succ']\n",
      "['Coq.ssr.ssrbool.orbAC', 'Coq.ssr.ssrbool.andbAC']\n",
      "['Coq.ssr.ssrbool.orbCA', 'Coq.ssr.ssrbool.andbCA']\n",
      "['Coq.ssr.ssrbool.pred0', 'Coq.ssr.ssrbool.predT']\n",
      "['Coq.ssr.ssrbool.predI', 'Coq.ssr.ssrbool.predU']\n",
      "['Coq.Classes.Morphisms.Proper', 'Coq.Classes.Morphisms.ProperProxy']\n",
      "['Coq.Reals.RIneq.Ropp_div', 'Coq.Reals.Ratan.Ropp_div']\n",
      "['Coq.rtauto.Bintree.PSome', 'Coq.Init.Datatypes.Some']\n",
      "['Coq.micromega.EnvRing.rsub_ext', 'Coq.setoid_ring.Ring_polynom.rsub_ext']\n",
      "['Coq.micromega.EnvRing.mkPinj_pred', 'Coq.setoid_ring.Ring_polynom.mkPinj_pred']\n",
      "['Coq.ZArith.Zbool.Z_lt_ge_bool', 'Coq.ZArith.Zbool.Z_gt_le_bool']\n",
      "['Coq.ZArith.Zdiv.Z_div_ge', 'Coq.ZArith.Zdiv.Z_div_le']\n",
      "['Coq.micromega.EnvRing.Mon_rect', 'Coq.setoid_ring.Ring_polynom.Mon_rect']\n",
      "['Coq.micromega.EnvRing.Mon_sind', 'Coq.setoid_ring.Ring_polynom.Mon_sind']\n",
      "['Coq.ZArith.BinInt.Pos2Z.add_neg_neg', 'Coq.ZArith.BinInt.Pos2Z.add_pos_pos']\n",
      "['Coq.ssr.ssrunder.Under_rel.Under_rel', 'Coq.ssr.ssrunder.Under_rel.Over_rel']\n",
      "['Coq.Reals.Rtopology.disc', 'Coq.Reals.PSeries_reg.Boule']\n",
      "['Coq.Bool.Bool.eqb_prop', 'Coq.Bool.Bool.xorb_eq']\n",
      "['Coq.Logic.PropExtensionality.proof_irrelevance', 'Coq.Logic.Classical_Prop.proof_irrelevance']\n",
      "['Coq.QArith.Qminmax.Q.Private_Tac.eq_le', 'Coq.QArith.QOrderedType.QOrder.eq_le']\n",
      "['Coq.QArith.Qminmax.Q.Private_Tac.eq_lt', 'Coq.QArith.QOrderedType.QOrder.eq_lt']\n",
      "['Coq.QArith.Qminmax.Q.Private_Tac.le_eq', 'Coq.QArith.QOrderedType.QOrder.le_eq']\n",
      "['Coq.QArith.Qminmax.Q.Private_Tac.lt_eq', 'Coq.QArith.QOrderedType.QOrder.lt_eq']\n",
      "['Coq.Reals.RIneq.Rlt_plus_1', 'Coq.setoid_ring.RealField.Rlt_n_Sn']\n",
      "['Coq.QArith.Qminmax.Q.Private_Tac.trans', 'Coq.QArith.QOrderedType.QOrder.trans']\n",
      "['Coq.NArith.BinNatDef.N.t', 'Coq.Structures.OrderedTypeEx.N_as_OT.t']\n",
      "['Coq.NArith.BinNatDef.N.leb', 'Coq.NArith.BinNatDef.N.ltb']\n",
      "['Coq.Sets.Relations_2.Rstar_ind', 'Coq.Relations.Relation_Operators.clos_refl_trans_1n_ind']\n",
      "['Coq.PArith.BinPos.Pos.compare_xI_xI', 'Coq.PArith.BinPos.Pos.compare_xO_xO']\n",
      "['Coq.PArith.BinPos.Pos.compare_xI_xO', 'Coq.PArith.BinPos.Pos.compare_xO_xI']\n",
      "['Coq.setoid_ring.Ring_theory.radd_ext1_Proper', 'Coq.setoid_ring.InitialRing.radd_ext4_Proper']\n",
      "['Coq.Relations.Relation_Definitions.antisymmetric', 'Coq.Sets.Relations_1.Antisymmetric']\n",
      "['Coq.Reals.Rdefinitions.Rdiv', 'Coq.Reals.Rdefinitions.Rminus']\n",
      "['Coq.Reals.Ranalysis1.inv_fct', 'Coq.Reals.Ranalysis1.opp_fct']\n",
      "['Coq.FSets.FSetPositive.PositiveSet.cardinal', 'Coq.MSets.MSetPositive.PositiveSet.cardinal']\n",
      "['Coq.Reals.Rbasic_fun.Rmax_assoc', 'Coq.Reals.Rminmax.R.max_assoc']\n",
      "['Coq.Reals.Rbasic_fun.Rmax_right', 'Coq.Reals.Rminmax.Rmax_r']\n",
      "['Coq.NArith.Ndigits.Nbit0_gt', 'Coq.NArith.Ndigits.Nbit0_less']\n",
      "['Coq.NArith.BinNat.N.Private_Tac.eq_refl', 'Coq.NArith.BinNat.N.Private_OrderTac.Tac.eq_refl']\n",
      "['Coq.micromega.EnvRing.mkPinj', 'Coq.setoid_ring.Ring_polynom.mkPinj']\n",
      "['Coq.micromega.EnvRing.mkVmon', 'Coq.setoid_ring.Ring_polynom.mkVmon']\n",
      "['Coq.micromega.EnvRing.mkZmon', 'Coq.setoid_ring.Ring_polynom.mkZmon']\n",
      "['Coq.setoid_ring.Field_theory.PEadd_ext', 'Coq.setoid_ring.Field_theory.PEmul_ext']\n",
      "['Coq.Classes.SetoidTactics.DefaultRelation', 'Coq.Classes.RelationClasses.RewriteRelation']\n",
      "['Coq.setoid_ring.Field_theory.FEI', 'Coq.setoid_ring.Field_theory.FEO']\n",
      "['Coq.NArith.BinNat.N.div_lt', 'Coq.NArith.BinNat.N.Private_NZDiv.div_lt']\n",
      "['Coq.ZArith.Int.Z_as_Int.i2z_leb', 'Coq.ZArith.Int.Z_as_Int.i2z_ltb']\n",
      "['Coq.Numbers.BinNums.xI', 'Coq.Numbers.BinNums.xO']\n",
      "['Coq.Init.Datatypes.option', 'Coq.rtauto.Bintree.Poption']\n",
      "['Coq.FSets.FSetPositive.PositiveSet.ct_exx', 'Coq.MSets.MSetPositive.PositiveSet.ct_exx']\n",
      "['Coq.MSets.MSetPositive.PositiveSet.compare_equal', 'Coq.FSets.FSetPositive.PositiveSet.compare_equal']\n",
      "['Coq.ZArith.BinInt.Z.div_1_r', 'Coq.ZArith.Zdiv.Zdiv_1_r']\n",
      "['Coq.ZArith.BinInt.Z.div_add', 'Coq.ZArith.Zdiv.Z_div_plus_full']\n",
      "['Coq.ZArith.BinInt.Z.div_mul', 'Coq.ZArith.Zdiv.Z_div_mult_full']\n",
      "['Coq.ZArith.BinInt.Z.div_pos', 'Coq.ZArith.BinInt.Z.Private_NZDiv.div_pos']\n",
      "['Coq.Sets.Relations_1.Order', 'Coq.Relations.Relation_Definitions.order']\n",
      "['Coq.QArith.Qfield.Qopp_opp', 'Coq.QArith.QArith_base.Qopp_involutive']\n",
      "['Coq.FSets.FSetPositive.PositiveSet.compare_bool_inv', 'Coq.MSets.MSetPositive.PositiveSet.compare_bool_inv']\n",
      "['Coq.Reals.ConstructiveReals.sig_not_dec_T', 'Coq.Reals.ConstructiveRealsLUB.sig_not_dec_T']\n",
      "['Coq.Bool.Bool.andb_false_l', 'Coq.Bool.Bool.orb_true_l']\n",
      "['Coq.Bool.Bool.andb_false_r', 'Coq.Bool.Bool.orb_true_r']\n",
      "['Coq.NArith.BinNat.N.le_ind', 'Coq.NArith.BinNat.N.right_induction']\n",
      "['Coq.QArith.Qminmax.Q.Private_Tac.le_lt_trans', 'Coq.QArith.QOrderedType.QOrder.le_lt_trans']\n",
      "['Coq.omega.OmegaLemmas.fast_OMEGA13', 'Coq.omega.OmegaLemmas.fast_OMEGA14']\n",
      "['Coq.Arith.PeanoNat.Nat.sqrt_specif', \"Coq.Arith.PeanoNat.Nat.sqrt_spec'\"]\n",
      "['Coq.ZArith.BinInt.Pos2Z.neg_le_pos', 'Coq.ZArith.Zorder.Zle_neg_pos']\n",
      "['Coq.FSets.FSetPositive.PositiveSet.lex_Opp', 'Coq.MSets.MSetPositive.PositiveSet.lex_Opp']\n",
      "['Coq.Arith.PeanoNat.Nat.compare_eq', 'Coq.Arith.Compare_dec.nat_compare_eq']\n",
      "['Coq.micromega.Tauto.D', 'Coq.micromega.Tauto.Cj']\n",
      "['Coq.QArith.Qminmax.Q.max_min_modular', 'Coq.QArith.Qminmax.Q.min_max_modular']\n",
      "['Coq.Logic.ClassicalFacts.falseP', 'Coq.Logic.ClassicalFacts.trueP']\n",
      "['Coq.Floats.SpecFloat.SFeqb', 'Coq.Floats.SpecFloat.SFltb']\n",
      "['Coq.Structures.OrderedTypeEx.Positive_as_OT.eq_sym', 'Coq.Structures.OrderedTypeEx.PositiveOrderedTypeBits.eq_sym']\n",
      "['Coq.Reals.Ranalysis1.continuity_pt_mult', 'Coq.Reals.Ranalysis1.continuity_pt_plus']\n",
      "['Coq.micromega.Tauto.FF', 'Coq.micromega.Tauto.TT']\n",
      "['Coq.ZArith.Zeuclid.ZEuclid.div_le_compat_l', 'Coq.ZArith.Zeuclid.ZEuclid.Private_NZDiv.div_le_compat_l']\n",
      "['Coq.micromega.RMicromega.rdeduce', 'Coq.micromega.QMicromega.qdeduce']\n",
      "['Coq.Arith.PeanoNat.Nat.Private_Tac.interp_ord', 'Coq.Arith.PeanoNat.Nat.Private_OrderTac.Tac.interp_ord']\n",
      "['Coq.ZArith.BinInt.Z.quot_lt_upper_bound', 'Coq.ZArith.BinInt.Z.Private_Div.NZQuot.div_lt_upper_bound']\n",
      "['Coq.FSets.FSetPositive.PositiveSet.t', 'Coq.MSets.MSetPositive.PositiveSet.t']\n",
      "['Coq.FSets.FSetPositive.PositiveSet.lt', 'Coq.MSets.MSetPositive.PositiveSet.lt']\n",
      "['Coq.FSets.FSetPositive.PositiveSet.rev', 'Coq.MSets.MSetPositive.PositiveSet.rev']\n",
      "['Coq.FSets.FSetPositive.PositiveSet.diff', 'Coq.MSets.MSetPositive.PositiveSet.diff']\n",
      "['Coq.FSets.FSetPositive.PositiveSet.node', 'Coq.MSets.MSetPositive.PositiveSet.node']\n",
      "['Coq.QArith.Qminmax.Q.max_le_compat', 'Coq.QArith.Qminmax.Q.min_le_compat']\n",
      "['Coq.Reals.Rlimit.limit_plus', 'Coq.Reals.Rlimit.limit_mul']\n",
      "['Coq.ZArith.BinInt.Z.Private_OrderTac.Tac.eq_le', 'Coq.ZArith.BinInt.Z.Private_Tac.eq_le']\n",
      "['Coq.ZArith.BinInt.Z.Private_OrderTac.Tac.eq_lt', 'Coq.ZArith.BinInt.Z.Private_Tac.eq_lt']\n",
      "['Coq.ZArith.BinInt.Z.Private_OrderTac.Tac.le_eq', 'Coq.ZArith.BinInt.Z.Private_Tac.le_eq']\n",
      "['Coq.ZArith.BinInt.Z.Private_OrderTac.Tac.lt_eq', 'Coq.ZArith.BinInt.Z.Private_Tac.lt_eq']\n",
      "['Coq.Lists.SetoidList.eqasym', 'Coq.setoid_ring.Ring_theory.C_setoid_Symmetric']\n",
      "['Coq.ZArith.BinInt.Z.Private_OrderTac.Tac.trans', 'Coq.ZArith.BinInt.Z.Private_Tac.trans']\n",
      "['Coq.Structures.OrderedTypeEx.Positive_as_OT.eq_trans', 'Coq.Structures.OrderedTypeEx.PositiveOrderedTypeBits.eq_trans']\n",
      "['Coq.FSets.FSetPositive.PositiveSet.empty', 'Coq.MSets.MSetPositive.PositiveSet.empty']\n",
      "['Coq.FSets.FSetPositive.PositiveSet.equal', 'Coq.MSets.MSetPositive.PositiveSet.equal']\n",
      "['Coq.FSets.FSetPositive.PositiveSet.inter', 'Coq.MSets.MSetPositive.PositiveSet.inter']\n",
      "['Coq.micromega.RingMicromega.paddC', 'Coq.micromega.RingMicromega.psubC']\n",
      "['Coq.NArith.BinNat.N.Private_Tac.le_neq_lt', 'Coq.NArith.BinNat.N.Private_OrderTac.Tac.le_neq_lt']\n",
      "['Coq.Reals.DiscrR.Rlt_R0_R2', 'Coq.setoid_ring.RealField.Rlt_0_2']\n",
      "['Coq.FSets.FSetPositive.PositiveSet.union', 'Coq.MSets.MSetPositive.PositiveSet.union']\n",
      "['Coq.Reals.Rminmax.Rmin_l', 'Coq.Reals.Rbasic_fun.Rmin_left']\n",
      "['Coq.Reals.Rminmax.Rmin_r', 'Coq.Reals.Rbasic_fun.Rmin_right']\n",
      "['Coq.ZArith.Znumtheory.prime_2', 'Coq.ZArith.Znumtheory.prime_3']\n",
      "['Coq.Reals.R_sqrt.Rle_mult_inv_pos', 'Coq.micromega.Fourier_util.Rle_mult_inv_pos']\n",
      "['Coq.MSets.MSetPositive.PositiveSet.compare_empty_x', 'Coq.FSets.FSetPositive.PositiveSet.compare_empty_x']\n",
      "['Coq.micromega.ZifyBool.Op_andb', 'Coq.micromega.ZifyBool.Op_orb']\n",
      "['Coq.NArith.Ndec.Nltb_double_plus_one_mono_conv', 'Coq.NArith.Ndec.Nleb_double_plus_one_mono_conv']\n",
      "['Coq.Init.Peano.le_pred', 'Coq.Arith.PeanoNat.Nat.pred_le_mono']\n",
      "['Coq.Numbers.Cyclic.Int63.Int63.sqrt_main_trick', 'Coq.Numbers.Cyclic.Int31.Cyclic31.sqrt_main_trick']\n",
      "['Coq.ZArith.Zeuclid.ZEuclid.div_small', 'Coq.ZArith.Zeuclid.ZEuclid.Private_NZDiv.div_small']\n",
      "['Coq.Bool.IfProp.IfProp_ind', 'Coq.Init.Datatypes.BoolSpec_ind']\n",
      "['Coq.PArith.POrderedType.PositiveOrder.eq_sym', 'Coq.PArith.BinPos.Pos.Private_Tac.eq_sym']\n",
      "['Coq.micromega.RMicromega.runsat', 'Coq.micromega.QMicromega.qunsat']\n",
      "['Coq.Reals.ConstructiveCauchyRealsMult.CReal_mult_proper_l', 'Coq.Reals.ConstructiveCauchyRealsMult.CReal_mult_eq_compat_l']\n",
      "['Coq.QArith.Qminmax.Q.max_le_compat_l', 'Coq.QArith.Qminmax.Q.min_le_compat_l']\n",
      "['Coq.QArith.Qminmax.Q.max_le_compat_r', 'Coq.QArith.Qminmax.Q.min_le_compat_r']\n",
      "['Coq.Arith.PeanoNat.Nat.add_lt_le_mono', 'Coq.Arith.Plus.plus_lt_le_compat']\n",
      "['Coq.Classes.Morphisms.reflexive_proper', 'Coq.Classes.Morphisms.reflexive_proper_proxy']\n",
      "['Coq.setoid_ring.Ncring.ZN', 'Coq.ZArith.BinIntDef.Z.abs_N']\n",
      "['Coq.ZArith.BinIntDef.Z.max', 'Coq.ZArith.BinIntDef.Z.min']\n",
      "['Coq.ZArith.BinIntDef.Z.odd', 'Coq.ZArith.BinIntDef.Z.even']\n",
      "['Coq.ZArith.BinIntDef.Z.pred', 'Coq.ZArith.BinIntDef.Z.succ']\n",
      "['Coq.Bool.Bool.andb_true_iff', 'Coq.Bool.Bool.orb_false_iff']\n",
      "['Coq.Init.Peano.O_S', 'Coq.Arith.PeanoNat.Nat.neq_0_succ']\n",
      "['Coq.ZArith.BinInt.Z.testbit_of_N', 'Coq.ZArith.Znat.N2Z.inj_testbit']\n",
      "['Coq.Init.Peano.n_Sn', 'Coq.Arith.PeanoNat.Nat.neq_succ_diag_r']\n",
      "['Coq.ZArith.BinInt.Z.Private_OrderTac.Tac.le_lt_trans', 'Coq.ZArith.BinInt.Z.Private_Tac.le_lt_trans']\n",
      "['Coq.ZArith.BinInt.Pos2Z.divide_pos_neg_l', 'Coq.ZArith.BinInt.Z.divide_Zpos_Zneg_l']\n",
      "['Coq.ZArith.BinInt.Pos2Z.divide_pos_neg_r', 'Coq.ZArith.BinInt.Z.divide_Zpos_Zneg_r']\n",
      "['Coq.Logic.ClassicalUniqueChoice.unique_choice', 'Coq.Logic.ClassicalDescription.unique_choice']\n",
      "['Coq.micromega.RingMicromega.PsatzMulE', 'Coq.micromega.RingMicromega.PsatzAdd']\n",
      "['Coq.Reals.ROrderedType.Req_dec', 'Coq.Reals.RIneq.Req_EM_T']\n",
      "['Coq.Reals.Rbasic_fun.Ropp_Rmax', 'Coq.Reals.Rminmax.R.opp_max_distr']\n",
      "['Coq.QArith.QOrderedType.QOrder.TO.t', 'Coq.QArith.Qminmax.Q.OT.t']\n",
      "['Coq.PArith.BinPosDef.Pos.Nsucc_double', 'Coq.NArith.BinNatDef.N.succ_double']\n",
      "['Coq.Classes.CRelationClasses.impl_Reflexive_obligation_1', 'Coq.Classes.RelationClasses.impl_Reflexive_obligation_1']\n",
      "['Coq.NArith.Ndec.Nleb_double_mono', 'Coq.NArith.Ndec.Nltb_double_mono']\n",
      "['Coq.Numbers.Cyclic.Int63.Cyclic63.shift_unshift_mod_2', 'Coq.Numbers.Cyclic.Int31.Cyclic31.shift_unshift_mod_2']\n",
      "['Coq.Init.Peano.max_l', 'Coq.Arith.PeanoNat.Nat.max_l']\n",
      "['Coq.Init.Peano.max_r', 'Coq.Arith.PeanoNat.Nat.max_r']\n",
      "['Coq.Init.Peano.min_l', 'Coq.Arith.PeanoNat.Nat.min_l']\n",
      "['Coq.Init.Peano.min_r', 'Coq.Arith.PeanoNat.Nat.min_r']\n",
      "['Coq.ZArith.BinInt.Z.mod_unique_pos', 'Coq.ZArith.Zdiv.Zmod_unique']\n",
      "['Coq.setoid_ring.Ring_theory.rmul_ext1_Proper', 'Coq.setoid_ring.InitialRing.rmul_ext4_Proper']\n",
      "['Coq.Init.Decimal.nb_digits', 'Coq.Numbers.DecimalNat.Unsigned.usize']\n",
      "['Coq.PArith.BinPos.Pos.leb_refl', 'Coq.PArith.BinPos.Pos.ltb_irrefl']\n",
      "['Coq.Sets.Relations_2.Rstar1_0', 'Coq.Relations.Relation_Operators.rt_refl']\n",
      "['Coq.Init.Logic.eq_trans', 'Coq.Init.Logic_Type.identity_trans']\n",
      "['Coq.ZArith.BinInt.Z.geb_leb', 'Coq.ZArith.BinInt.Z.gtb_ltb']\n",
      "['Coq.micromega.ZifyComparison.Op_Gt', 'Coq.micromega.ZifyComparison.Op_Lt']\n",
      "['Coq.Arith.Plus.lt_plus_trans', 'Coq.Arith.PeanoNat.Nat.lt_lt_add_r']\n",
      "['Coq.FSets.FSetPositive.PositiveSet.ct', 'Coq.MSets.MSetPositive.PositiveSet.ct']\n",
      "['Coq.ZArith.BinInt.Z.max_min_modular', 'Coq.ZArith.BinInt.Z.min_max_modular']\n",
      "['Coq.Logic.ClassicalEpsilon.excluded_middle_informative', 'Coq.Logic.ClassicalDescription.excluded_middle_informative']\n",
      "['Coq.ZArith.BinInt.Z.opp_max_distr', 'Coq.ZArith.BinInt.Z.opp_min_distr']\n",
      "['Coq.NArith.BinNat.N.pow_mul_l', 'Coq.NArith.BinNat.N.Private_NZPow.pow_mul_l']\n",
      "['Coq.Reals.Rbasic_fun.Rmin_comm', 'Coq.Reals.Rminmax.R.min_comm']\n",
      "['Coq.ZArith.BinInt.Z.divide_Zpos', 'Coq.ZArith.BinInt.Pos2Z.inj_divide']\n",
      "['Coq.micromega.RMicromega.RWitness', 'Coq.micromega.QMicromega.QWitness']\n",
      "['Coq.Sets.Relations_2.Rstar_sind', 'Coq.Relations.Relation_Operators.clos_refl_trans_1n_sind']\n",
      "['Coq.Init.Datatypes.BoolSpec_sind', 'Coq.Bool.IfProp.IfProp_sind']\n",
      "['Coq.Numbers.Cyclic.Abstract.CyclicAxioms.ZnZ.spec_div21', 'Coq.Numbers.Cyclic.Abstract.CyclicAxioms.ZnZ.spec_add_carry_c']\n",
      "['Coq.ZArith.BinInt.Z.max_le_compat', 'Coq.ZArith.BinInt.Z.min_le_compat']\n",
      "['Coq.setoid_ring.Algebra_syntax.One', 'Coq.setoid_ring.Algebra_syntax.Zero']\n",
      "['Coq.setoid_ring.Algebra_syntax.one', 'Coq.setoid_ring.Algebra_syntax.zero']\n",
      "['Coq.ZArith.BinInt.Z.mul_nonneg_nonneg', 'Coq.micromega.Ztac.mul_le']\n",
      "['Coq.PArith.BinPosDef.Pos.eqb', 'Coq.rtauto.Rtauto.pos_eq']\n",
      "['Coq.PArith.BinPosDef.Pos.leb', 'Coq.PArith.BinPosDef.Pos.ltb']\n",
      "['Coq.PArith.BinPosDef.Pos.size', 'Coq.Floats.SpecFloat.digits2_pos']\n",
      "['Coq.ZArith.BinInt.Z.ltb_antisym', 'Coq.ZArith.BinInt.Z.leb_antisym']\n",
      "['Coq.ZArith.BinInt.Z.Private_BootStrap.mul_0_r', 'Coq.ZArith.BinInt.Z.mul_0_r']\n",
      "['Coq.ZArith.BinInt.Z.Private_BootStrap.mul_1_l', 'Coq.ZArith.BinInt.Z.mul_1_l']\n",
      "['Coq.setoid_ring.Ring_polynom.Pc', 'Coq.micromega.EnvRing.Pc']\n",
      "['Coq.Bool.Bool.andb_comm', 'Coq.Bool.Bool.orb_comm']\n",
      "['Coq.Bool.Bool.andb_diag', 'Coq.Bool.Bool.orb_diag']\n",
      "['Coq.ZArith.BinInt.Z.neq_succ_diag_l', 'Coq.ZArith.BinInt.Z.neq_pred_l']\n",
      "['Coq.ZArith.Zeven.Zeven_odd_bool', 'Coq.ZArith.Zeven.Zodd_even_bool']\n",
      "['Coq.ZArith.Znat.Nat2Z.inj_abs_nat', 'Coq.ZArith.Znat.Zabs2Nat.id_abs']\n",
      "['Coq.Reals.Rminmax.R.Private_Tac.eq_le', 'Coq.Reals.ROrderedType.ROrder.eq_le']\n",
      "['Coq.Reals.Rminmax.R.Private_Tac.eq_lt', 'Coq.Reals.ROrderedType.ROrder.eq_lt']\n",
      "['Coq.Reals.Rminmax.R.Private_Tac.le_eq', 'Coq.Reals.ROrderedType.ROrder.le_eq']\n",
      "['Coq.Reals.Rminmax.R.Private_Tac.lt_eq', 'Coq.Reals.ROrderedType.ROrder.lt_eq']\n",
      "['Coq.Reals.Rminmax.R.Private_Tac.trans', 'Coq.Reals.ROrderedType.ROrder.trans']\n",
      "['Coq.micromega.QMicromega.Qnormalise', 'Coq.micromega.RMicromega.Rnormalise']\n",
      "['Coq.MSets.MSetPositive.PositiveSet.ct_compare', 'Coq.FSets.FSetPositive.PositiveSet.ct_compare_fun']\n",
      "['Coq.Arith.PeanoNat.Nat.Private_NZDiv.mod_1_l', 'Coq.Arith.PeanoNat.Nat.mod_1_l']\n",
      "['Coq.micromega.RMicromega.RWeakChecker', 'Coq.micromega.QMicromega.QWeakChecker']\n",
      "['Coq.rtauto.Rtauto.E_False', 'Coq.rtauto.Rtauto.Ax']\n",
      "['Coq.micromega.ZMicromega.RatProof', 'Coq.micromega.ZMicromega.CutProof']\n",
      "['Coq.FSets.FMapPositive.PositiveMap.ME.MO.lt_le', 'Coq.FSets.FMapPositive.PositiveMap.ME.MO.lt_not_gt']\n",
      "['Coq.ZArith.BinInt.Z.max_le_compat_l', 'Coq.ZArith.BinInt.Z.min_le_compat_l']\n",
      "['Coq.ZArith.BinInt.Z.max_le_compat_r', 'Coq.ZArith.BinInt.Z.min_le_compat_r']\n",
      "['Coq.ZArith.BinInt.Z.mul_min_distr_nonneg_l', 'Coq.ZArith.BinInt.Z.mul_max_distr_nonneg_l']\n",
      "['Coq.ZArith.BinInt.Z.mul_min_distr_nonneg_r', 'Coq.ZArith.BinInt.Z.mul_max_distr_nonneg_r']\n",
      "['Coq.ZArith.BinInt.Z.mul_min_distr_nonpos_l', 'Coq.ZArith.BinInt.Z.mul_max_distr_nonpos_l']\n",
      "['Coq.ZArith.BinInt.Z.mul_min_distr_nonpos_r', 'Coq.ZArith.BinInt.Z.mul_max_distr_nonpos_r']\n",
      "['Coq.QArith.Qminmax.Q.Private_Tac.lt_trans', 'Coq.QArith.QOrderedType.QOrder.lt_trans']\n",
      "['Coq.MSets.MSetPositive.PositiveSet.compare', 'Coq.FSets.FSetPositive.PositiveSet.compare_fun']\n",
      "['Coq.ZArith.Zeuclid.ZEuclid.div_1_l', 'Coq.ZArith.Zeuclid.ZEuclid.Private_NZDiv.div_1_l']\n",
      "['Coq.ZArith.Zeuclid.ZEuclid.div_pos', 'Coq.ZArith.Zeuclid.ZEuclid.Private_NZDiv.div_pos']\n",
      "['Coq.micromega.EnvRing.PX', 'Coq.setoid_ring.Ring_polynom.PX']\n",
      "['Coq.Arith.PeanoNat.Nat.Private_Tac.le_trans', 'Coq.Arith.PeanoNat.Nat.Private_OrderTac.Tac.le_trans']\n",
      "['Coq.Init.Datatypes.comparison_ind', 'Coq.Structures.OrdersTac.ord_ind']\n",
      "['Coq.Init.Datatypes.comparison_rec', 'Coq.Structures.OrdersTac.ord_rec']\n",
      "['Coq.ssr.ssrbool.if_neg', 'Coq.Bool.Bool.if_negb']\n",
      "['Coq.Numbers.Cyclic.Int63.Int63.diveucl', 'Coq.Numbers.Cyclic.Int63.Int63.mulc']\n",
      "['Coq.extraction.ExtrOcamlIntConv.int', 'Coq.extraction.ExtrOcamlBigIntConv.bigint']\n",
      "['Coq.ssr.ssrbool.negbLR', 'Coq.Numbers.Cyclic.Int63.Int63.negbE']\n",
      "['Coq.QArith.Qminmax.Q.Private_Tac.eq_neq', 'Coq.QArith.QOrderedType.QOrder.eq_neq']\n",
      "['Coq.MSets.MSetPositive.PositiveSet.Node', 'Coq.FSets.FSetPositive.PositiveSet.Node']\n",
      "['Coq.Reals.Rgeom.xt', 'Coq.Reals.Rgeom.yt']\n",
      "['Coq.ssr.ssrbool.orbACA', 'Coq.ssr.ssrbool.andbACA']\n",
      "['Coq.ZArith.Zquot.Zrem_even', 'Coq.ZArith.Zquot.Zrem_odd']\n",
      "['Coq.Reals.Rbasic_fun.Rmin_assoc', 'Coq.Reals.Rminmax.R.min_assoc']\n",
      "['Coq.Reals.Rminmax.R.Private_Tac.le_lt_trans', 'Coq.Reals.ROrderedType.ROrder.le_lt_trans']\n",
      "['Coq.QArith.Qminmax.Q.max_compat', 'Coq.QArith.Qminmax.Q.min_compat']\n",
      "['Coq.Init.Datatypes.option_ind', 'Coq.rtauto.Bintree.Poption_ind']\n",
      "['Coq.Init.Datatypes.option_rec', 'Coq.rtauto.Bintree.Poption_rec']\n",
      "['Coq.ZArith.Zpower.two_p_correct', 'Coq.ZArith.Zpower.two_p_equiv']\n",
      "['Coq.Reals.Rminmax.R.Private_Tac.neq_sym', 'Coq.Reals.ROrderedType.ROrder.neq_sym']\n",
      "['Coq.ZArith.BinInt.Z.mod_neg_bound', 'Coq.ZArith.Zdiv.Z_mod_neg']\n",
      "['Coq.QArith.Qminmax.Q.Private_Tac.eq_trans', 'Coq.QArith.QOrderedType.QOrder.eq_trans']\n",
      "['Coq.Arith.PeanoNat.Nat.Private_Tac.not_neq_eq', 'Coq.Arith.PeanoNat.Nat.Private_OrderTac.Tac.not_neq_eq']\n",
      "['Coq.ZArith.BinInt.Z.Private_BootStrap.add_assoc', 'Coq.ZArith.BinInt.Z.add_assoc']\n",
      "['Coq.QArith.Qminmax.Q.Private_Tac.neq_eq', 'Coq.QArith.QOrderedType.QOrder.neq_eq']\n",
      "['Coq.Sets.Relations_3_facts.Strong_confluence_direct', 'Coq.Sets.Relations_3_facts.Strong_confluence']\n",
      "['Coq.setoid_ring.Rings_Q.Qdi', 'Coq.nsatz.Nsatz.Qdi']\n",
      "['Coq.setoid_ring.Rings_Q.Qri', 'Coq.nsatz.Nsatz.Qri']\n",
      "['Coq.nsatz.Nsatz.Rdi', 'Coq.setoid_ring.Rings_R.Rdi']\n",
      "['Coq.nsatz.Nsatz.Rri', 'Coq.setoid_ring.Rings_R.Rri']\n",
      "['Coq.nsatz.Nsatz.Zdi', 'Coq.setoid_ring.Rings_Z.Zdi']\n",
      "['Coq.setoid_ring.Rings_Q.Qcri', 'Coq.nsatz.Nsatz.Qcri']\n",
      "['Coq.setoid_ring.Rings_Q.Qops', 'Coq.nsatz.Nsatz.Qops']\n",
      "['Coq.nsatz.Nsatz.Rcri', 'Coq.setoid_ring.Rings_R.Rcri']\n",
      "['Coq.nsatz.Nsatz.Rops', 'Coq.setoid_ring.Rings_R.Rops']\n",
      "['Coq.nsatz.Nsatz.Rsth', 'Coq.setoid_ring.Rings_R.Rsth']\n",
      "['Coq.Bool.Bool.orb_true_elim', 'Coq.Bool.Bool.andb_false_elim']\n",
      "['Coq.micromega.EnvRing.PmulC_aux', 'Coq.setoid_ring.Ring_polynom.PmulC_aux']\n",
      "['Coq.ZArith.BinInt.Z.lt_pred_lt_succ', 'Coq.ZArith.BinInt.Z.lt_succ_lt_pred']\n",
      "['Coq.ZArith.BinInt.Z.Private_BootStrap.opp_inj', 'Coq.ZArith.BinInt.Z.opp_inj']\n",
      "['Coq.Arith.PeanoNat.Nat.Private_Tac.not_ge_lt', 'Coq.Arith.PeanoNat.Nat.Private_OrderTac.Tac.not_ge_lt']\n",
      "['Coq.Arith.PeanoNat.Nat.Private_Tac.not_gt_le', 'Coq.Arith.PeanoNat.Nat.Private_OrderTac.Tac.not_gt_le']\n",
      "['Coq.ZArith.BinInt.Z.pred_le_mono', 'Coq.ZArith.BinInt.Z.succ_le_mono']\n",
      "['Coq.extraction.ExtrOcamlBigIntConv.nat_of_bigint', 'Coq.extraction.ExtrOcamlIntConv.nat_of_int']\n",
      "['Coq.Classes.RelationClasses.Build_RewriteRelation', 'Coq.Classes.SetoidTactics.Build_DefaultRelation']\n",
      "['Coq.ZArith.BinInt.Z.ltb_compare', 'Coq.ZArith.BinInt.Z.leb_compare']\n",
      "['Coq.micromega.RMicromega.COpp', 'Coq.micromega.RMicromega.CInv']\n",
      "['Coq.Classes.Morphisms.eq_proper_proxy', 'Coq.Classes.Morphisms.proper_eq']\n",
      "['Coq.Reals.Ranalysis1.mult_fct', 'Coq.Reals.Ranalysis1.plus_fct']\n",
      "['Coq.QArith.Qminmax.Q.Private_Tac.lt_le_trans', 'Coq.QArith.QOrderedType.QOrder.lt_le_trans']\n",
      "['Coq.ZArith.Znat.Zabs2N.inj_neg', 'Coq.ZArith.Znat.Zabs2N.inj_pos']\n",
      "['Coq.Arith.Div2.lt_div2', 'Coq.Arith.PeanoNat.Nat.lt_div2']\n",
      "['Coq.Init.Datatypes.identity', 'Coq.Init.Logic.eq']\n",
      "['Coq.Numbers.Cyclic.Int63.Ring63.ring_theory_switch_eq', 'Coq.Numbers.Cyclic.Int31.Ring31.ring_theory_switch_eq']\n",
      "['Coq.ZArith.BinInt.Z.pred_lt_mono', 'Coq.ZArith.BinInt.Z.succ_lt_mono']\n",
      "['Coq.ZArith.BinInt.Z.Private_OrderTac.Tac.lt_trans', 'Coq.ZArith.BinInt.Z.Private_Tac.lt_trans']\n",
      "['Coq.ZArith.Int.Z_as_Int.leb', 'Coq.ZArith.Int.Z_as_Int.ltb']\n",
      "['Coq.Arith.PeanoNat.Nat.Private_NZDiv.div_str_pos', 'Coq.Arith.PeanoNat.Nat.div_str_pos']\n",
      "['Coq.ZArith.Zdiv.Z_div_same_full', 'Coq.ZArith.BinInt.Z.div_same']\n",
      "['Coq.Lists.List.existsb_app', 'Coq.Lists.List.forallb_app']\n",
      "['Coq.ZArith.Int.Z_as_Int.i2z_2', 'Coq.ZArith.Int.Z_as_Int.i2z_3']\n",
      "['Coq.Init.Datatypes.BoolSpec', 'Coq.Bool.IfProp.IfProp']\n",
      "['Coq.ZArith.BinInt.Pos2Z.inj_leb', 'Coq.ZArith.BinInt.Pos2Z.inj_ltb']\n",
      "['Coq.Init.Datatypes.andb_prop', 'Coq.Bool.Bool.orb_false_elim']\n",
      "['Coq.ZArith.BinInt.Z.Private_OrderTac.Tac.eq_neq', 'Coq.ZArith.BinInt.Z.Private_Tac.eq_neq']\n",
      "['Coq.ZArith.BinInt.Z.Private_OrderTac.Tac.eq_sym', 'Coq.ZArith.BinInt.Z.Private_Tac.eq_sym']\n",
      "['Coq.Arith.PeanoNat.Nat.Private_OrderTac.IsTotal.lt_compat', 'Coq.Arith.PeanoNat.Nat.lt_compat']\n",
      "['Coq.ZArith.ZArith_dec.Z_gt_le_dec', 'Coq.ZArith.ZArith_dec.Z_lt_ge_dec']\n",
      "['Coq.Structures.GenericMinMax.gmax', 'Coq.Structures.GenericMinMax.gmin']\n",
      "['Coq.Sets.Relations_2.Rstar', 'Coq.Relations.Relation_Operators.clos_refl_trans_1n']\n",
      "['Coq.micromega.EnvRing.zmon_pred', 'Coq.setoid_ring.Ring_polynom.zmon_pred']\n",
      "['Coq.ZArith.Zmax.Zmax_left', 'Coq.ZArith.BinInt.Z.min_l']\n",
      "['Coq.ZArith.Zdiv.Zdiv2_div', 'Coq.ZArith.BinInt.Z.div2_div']\n",
      "['Coq.Logic.ChoiceFacts.ExcludedMiddle', 'Coq.Logic.ClassicalFacts.excluded_middle']\n",
      "['Coq.Reals.RIneq.Rplus_lt_0_compat', 'Coq.Reals.RIneq.Rmult_lt_0_compat']\n",
      "['Coq.ZArith.BinInt.Z.max_compat', 'Coq.ZArith.BinInt.Z.min_compat']\n",
      "['Coq.Numbers.BinNums.Zneg', 'Coq.Numbers.BinNums.Zpos']\n",
      "['Coq.ZArith.BinInt.Z.Private_OrderTac.Tac.eq_trans', 'Coq.ZArith.BinInt.Z.Private_Tac.eq_trans']\n",
      "['Coq.ZArith.BinInt.Z.Private_OrderTac.Tac.neq_eq', 'Coq.ZArith.BinInt.Z.Private_Tac.neq_eq']\n",
      "['Coq.extraction.ExtrOcamlIntConv.int_zlike_case', 'Coq.extraction.ExtrOcamlBigIntConv.bigint_zlike_case']\n",
      "['Coq.ZArith.Zorder.Zgt_asym', 'Coq.ZArith.BinInt.Z.lt_asymm']\n",
      "['Coq.micromega.DeclConstant.DxI', 'Coq.micromega.DeclConstant.DxO']\n",
      "['Coq.Floats.PrimFloat.normfr_mantissa', 'Coq.Floats.PrimFloat.of_int63']\n",
      "['Coq.FSets.FMapPositive.append_assoc_0', 'Coq.FSets.FMapPositive.append_assoc_1']\n",
      "['Coq.micromega.DeclConstant.DZneg', 'Coq.micromega.DeclConstant.DZpos']\n",
      "['Coq.ZArith.BinInt.Z.succ_pred', 'Coq.ZArith.BinInt.Z.pred_succ']\n",
      "['Coq.Sets.Uniset.Fullset', 'Coq.Sets.Uniset.Emptyset']\n",
      "['Coq.NArith.BinNat.N.leb_refl', 'Coq.NArith.BinNat.N.ltb_irrefl']\n",
      "['Coq.FSets.FSetPositive.PositiveSet.ct_xxx', 'Coq.MSets.MSetPositive.PositiveSet.ct_xxx']\n",
      "['Coq.Arith.PeanoNat.Nat.eq', 'Coq.Structures.OrderedTypeEx.Nat_as_OT.eq']\n",
      "['Coq.Arith.PeanoNat.Nat.lt', 'Coq.Structures.OrderedTypeEx.Nat_as_OT.lt']\n",
      "['Coq.Arith.PeanoNat.Nat.eqf', 'Coq.NArith.Ndigits.eqf']\n",
      "['Coq.ZArith.BinInt.Z.add_max_distr_l', 'Coq.ZArith.BinInt.Z.add_min_distr_l']\n",
      "['Coq.ZArith.BinInt.Z.add_max_distr_r', 'Coq.ZArith.BinInt.Z.add_min_distr_r']\n",
      "['Coq.Relations.Relation_Definitions.equivalence', 'Coq.Sets.Relations_1.Equivalence']\n",
      "['Coq.ZArith.BinIntDef.Z.pred_double', 'Coq.ZArith.BinIntDef.Z.succ_double']\n",
      "['Coq.Reals.Rdefinitions.RinvImpl.Rinv', 'Coq.Reals.Rdefinitions.RbaseSymbolsImpl.Ropp']\n",
      "['Coq.PArith.BinPos.Pos.ltb_antisym', 'Coq.PArith.BinPos.Pos.leb_antisym']\n",
      "['Coq.ZArith.BinInt.Z.Private_OrderTac.Tac.lt_le_trans', 'Coq.ZArith.BinInt.Z.Private_Tac.lt_le_trans']\n",
      "['Coq.Arith.PeanoNat.Nat.le_wd', 'Coq.Arith.PeanoNat.Nat.Proper_instance_0']\n",
      "['Coq.Reals.Rdefinitions.RbaseSymbolsImpl.R0', 'Coq.Reals.Rdefinitions.RbaseSymbolsImpl.R1']\n",
      "['Coq.micromega.ZifyInst.Op_N_ge', 'Coq.micromega.ZifyInst.Op_N_le']\n",
      "['Coq.micromega.ZifyInst.Op_N_gt', 'Coq.micromega.ZifyInst.Op_N_lt']\n",
      "['Coq.micromega.ZifyInst.Op_Z_ge', 'Coq.micromega.ZifyInst.Op_Z_le']\n",
      "['Coq.micromega.ZifyInst.Op_Z_gt', 'Coq.micromega.ZifyInst.Op_Z_lt']\n",
      "['Coq.Init.Peano.le_0_n', 'Coq.Arith.PeanoNat.Nat.le_0_l']\n",
      "['Coq.Init.Peano.le_S_n', 'Coq.Arith.Le.le_S_n']\n",
      "['Coq.Init.Peano.le_n_S', 'Coq.Arith.Le.le_n_S']\n",
      "['Coq.setoid_ring.Ring_polynom.Pinj', 'Coq.micromega.EnvRing.Pinj']\n",
      "['Coq.Reals.Rdefinitions.RbaseSymbolsImpl.Rmult', 'Coq.Reals.Rdefinitions.RbaseSymbolsImpl.Rplus']\n",
      "['Coq.ZArith.BinInt.Z.eq', 'Coq.Structures.OrderedTypeEx.Z_as_OT.eq']\n",
      "['Coq.ZArith.BinInt.Z.ge', 'Coq.ZArith.BinInt.Z.le']\n",
      "['Coq.ZArith.BinInt.Z.gt', 'Coq.ZArith.BinInt.Z.lt']\n",
      "['Coq.Arith.PeanoNat.Nat.Private_NZDiv.div_lt', 'Coq.Arith.PeanoNat.Nat.div_lt']\n",
      "['Coq.ZArith.Zquot.Zrem_Zmod_pos', 'Coq.ZArith.BinInt.Z.rem_mod_nonneg']\n",
      "['Coq.micromega.EnvRing.Mon_ind', 'Coq.setoid_ring.Ring_polynom.Mon_ind']\n",
      "['Coq.micromega.EnvRing.Mon_rec', 'Coq.setoid_ring.Ring_polynom.Mon_rec']\n",
      "['Coq.Reals.Rminmax.R.Private_Tac.lt_trans', 'Coq.Reals.ROrderedType.ROrder.lt_trans']\n",
      "['Coq.Numbers.Cyclic.Int63.Int63.quotient_by_2', 'Coq.Numbers.Cyclic.Int31.Cyclic31.quotient_by_2']\n",
      "['Coq.ZArith.BinInt.Z.ge_le', 'Coq.ZArith.BinInt.Z.le_ge']\n",
      "['Coq.ZArith.BinInt.Z.gt_lt', 'Coq.ZArith.BinInt.Z.lt_gt']\n",
      "['Coq.ZArith.BinInt.Z.le_wd', 'Coq.ZArith.BinInt.Z.Proper_instance_0']\n",
      "['Coq.QArith.Qminmax.Q.Private_Tac.interp_ord', 'Coq.QArith.QOrderedType.QOrder.interp_ord']\n",
      "['Coq.Numbers.Cyclic.ZModulo.ZModulo.zdigits', 'Coq.Numbers.AltBinNotations.pos_to_z']\n",
      "['Coq.Sets.Relations_2.Rplus_n', 'Coq.Relations.Relation_Operators.t1n_trans']\n",
      "['Coq.ZArith.BinInt.Zplus_diag_eq_mult_2', 'Coq.omega.OmegaLemmas.Zred_factor1']\n",
      "['Coq.Reals.Rtrigo_calc.Rlt_sqrt2_0', 'Coq.Reals.Rtrigo_calc.Rlt_sqrt3_0']\n",
      "['Coq.NArith.BinNat.N.div_1_l', 'Coq.NArith.BinNat.N.Private_NZDiv.div_1_l']\n",
      "['Coq.Classes.Morphisms.Params', 'Coq.Classes.CMorphisms.Params']\n",
      "['Coq.Classes.DecidableClass.Decidable_le_nat_obligation_1', 'Coq.Arith.PeanoNat.Nat.leb_le']\n",
      "['Coq.Reals.Rminmax.R.Private_Tac.eq_neq', 'Coq.Reals.ROrderedType.ROrder.eq_neq']\n",
      "['Coq.Reals.Rminmax.R.Private_Tac.eq_sym', 'Coq.Reals.ROrderedType.ROrder.eq_sym']\n",
      "['Coq.ZArith.BinInt.Z.sub_max_distr_l', 'Coq.ZArith.BinInt.Z.sub_min_distr_l']\n",
      "['Coq.ZArith.BinInt.Z.sub_max_distr_r', 'Coq.ZArith.BinInt.Z.sub_min_distr_r']\n",
      "['Coq.Reals.RIneq.Rmult_gt_reg_l', 'Coq.Reals.RIneq.Rmult_lt_reg_l']\n",
      "['Coq.Reals.Rminmax.R.Private_Tac.eq_trans', 'Coq.Reals.ROrderedType.ROrder.eq_trans']\n",
      "['Coq.Reals.Rminmax.R.Private_Tac.neq_eq', 'Coq.Reals.ROrderedType.ROrder.neq_eq']\n",
      "['Coq.ZArith.Zorder.Zmult_ge_reg_r', 'Coq.ZArith.Zorder.Zmult_le_reg_r']\n",
      "['Coq.Relations.Relation_Definitions.Build_equivalence', 'Coq.Sets.Relations_1.Definition_of_equivalence']\n",
      "['Coq.PArith.BinPos.Pos.ltb_compare', 'Coq.PArith.BinPos.Pos.leb_compare']\n",
      "['Coq.ZArith.ZArith_dec.Z_ge_dec', 'Coq.ZArith.ZArith_dec.Z_le_dec']\n",
      "['Coq.ZArith.ZArith_dec.Z_gt_dec', 'Coq.ZArith.ZArith_dec.Z_lt_dec']\n",
      "['Coq.Classes.DecidableClass.Decidable_eq_bool_obligation_1', 'Coq.Bool.Bool.eqb_true_iff']\n",
      "['Coq.PArith.POrderedType.PositiveOrder.not_neq_eq', 'Coq.PArith.BinPos.Pos.Private_Tac.not_neq_eq']\n",
      "['Coq.Reals.Rminmax.R.Private_Tac.lt_le_trans', 'Coq.Reals.ROrderedType.ROrder.lt_le_trans']\n",
      "['Coq.Relations.Relation_Definitions.per_trans', 'Coq.Classes.RelationClasses.PER_Transitive']\n",
      "['Coq.Classes.CMorphisms.eq_proper_proxy', 'Coq.Classes.CMorphisms.proper_eq']\n",
      "['Coq.Init.Logic_Type.identity_congr', 'Coq.Init.Logic.f_equal']\n",
      "['Coq.Numbers.Cyclic.Int63.Int63.head00_spec', 'Coq.Numbers.Cyclic.Int63.Int63.tail00_spec']\n",
      "['Coq.Classes.DecidableClass.Decidable_eq_nat_obligation_1', 'Coq.Arith.PeanoNat.Nat.eqb_eq']\n",
      "['Coq.NArith.Ndigits.Nodd', 'Coq.NArith.Ndigits.Neven']\n",
      "['Coq.Structures.OrdersEx.PositiveOrderedTypeBits.bits_lt', 'Coq.Structures.OrderedTypeEx.PositiveOrderedTypeBits.bits_lt']\n",
      "['Coq.ZArith.BinInt.Z.sub_pred_l', 'Coq.ZArith.BinInt.Z.sub_succ_l']\n",
      "['Coq.ZArith.BinInt.Z.sub_pred_r', 'Coq.ZArith.BinInt.Z.sub_succ_r']\n",
      "['Coq.QArith.Qminmax.Q.Private_Tac.le_trans', 'Coq.QArith.QOrderedType.QOrder.le_trans']\n",
      "['Coq.micromega.ZifyInst.Op_Z_max', 'Coq.micromega.ZifyInst.Op_Z_min']\n",
      "['Coq.QArith.Qminmax.Q.max_id', 'Coq.QArith.Qminmax.Q.min_id']\n",
      "['Coq.Reals.Rminmax.R.max_le_compat_l', 'Coq.Reals.Rbasic_fun.Rle_max_compat_l']\n",
      "['Coq.Reals.Rminmax.R.max_le_compat_r', 'Coq.Reals.Rbasic_fun.Rle_max_compat_r']\n",
      "['Coq.ZArith.BinInt.Pos2Z.opp_neg', 'Coq.ZArith.BinInt.Pos2Z.opp_pos']\n",
      "['Coq.Numbers.Cyclic.Int63.Int63.lor0', 'Coq.Numbers.Cyclic.Int63.Int63.lxor0']\n",
      "['Coq.Numbers.Cyclic.Int63.Int63.pred', 'Coq.Numbers.Cyclic.Int63.Int63.succ']\n",
      "['Coq.Sets.Relations_2.Rplus', 'Coq.Relations.Relation_Operators.clos_trans_1n']\n",
      "['Coq.QArith.Qminmax.Q.Private_Tac.not_neq_eq', 'Coq.QArith.QOrderedType.QOrder.not_neq_eq']\n",
      "[\"Coq.omega.PreOmega.Zneg'\", \"Coq.omega.PreOmega.Zpos'\"]\n",
      "['Coq.Reals.Ranalysis1.derivable_pt_mult', 'Coq.Reals.Ranalysis1.derivable_pt_plus']\n",
      "['Coq.PArith.BinPos.Pos.ge_le', 'Coq.PArith.BinPos.Pos.le_ge']\n",
      "['Coq.PArith.BinPos.Pos.gt_lt', 'Coq.PArith.BinPos.Pos.lt_gt']\n",
      "['Coq.QArith.Qminmax.Q.Private_Tac.not_ge_lt', 'Coq.QArith.QOrderedType.QOrder.not_ge_lt']\n",
      "['Coq.QArith.Qminmax.Q.Private_Tac.not_gt_le', 'Coq.QArith.QOrderedType.QOrder.not_gt_le']\n",
      "['Coq.Numbers.Cyclic.Int63.Int63.predc', 'Coq.Numbers.Cyclic.Int63.Int63.succc']\n",
      "['Coq.ZArith.Zorder.Znot_ge_lt', 'Coq.ZArith.Zorder.Znot_le_gt']\n",
      "['Coq.ZArith.Zorder.Znot_gt_le', 'Coq.ZArith.Zorder.Znot_lt_ge']\n"
     ]
    }
   ],
   "source": [
    "for cl in nt_eq_classes:\n",
    "    if len(cl) > 1: print([nt_to_name[x] for x in cl])"
   ]
  },
  {
   "cell_type": "code",
   "execution_count": 40,
   "id": "8af8a805-c4f6-4344-a401-bfd2a551c018",
   "metadata": {},
   "outputs": [
    {
     "data": {
      "text/plain": [
       "9766"
      ]
     },
     "execution_count": 40,
     "metadata": {},
     "output_type": "execute_result"
    }
   ],
   "source": [
    "nt_to_name.index(\"Coq.Numbers.Cyclic.Abstract.CyclicAxioms.ZnZ.spec_div21\")"
   ]
  },
  {
   "cell_type": "code",
   "execution_count": 41,
   "id": "e40d4089-2ff5-40dd-96a7-2a70cf480b41",
   "metadata": {},
   "outputs": [
    {
     "data": {
      "text/plain": [
       "15741"
      ]
     },
     "execution_count": 41,
     "metadata": {},
     "output_type": "execute_result"
    }
   ],
   "source": [
    "nt_to_name.index(\"Coq.Numbers.Cyclic.Abstract.CyclicAxioms.ZnZ.spec_add_carry_c\")"
   ]
  },
  {
   "cell_type": "code",
   "execution_count": 47,
   "id": "6dc7c59a-99ca-4950-8e1b-6a9cd17245c6",
   "metadata": {
    "scrolled": true,
    "tags": []
   },
   "outputs": [
    {
     "data": {
      "text/plain": [
       "array([ 0.14054923, -0.04473993,  0.08690224, -0.02388918,  0.02586977,\n",
       "       -0.00946436,  0.04641248,  0.1355759 ,  0.08986658,  0.07203969,\n",
       "       -0.07628072, -0.03913284,  0.13116364, -0.04516129,  0.20110899,\n",
       "       -0.20312256,  0.06257287, -0.02988453, -0.03029349, -0.01568686,\n",
       "       -0.15514576,  0.03228218, -0.01818803,  0.04229537, -0.10691108,\n",
       "        0.03156586,  0.02886117, -0.01097399,  0.1339615 , -0.07812891,\n",
       "        0.07290291, -0.06301636, -0.02028232,  0.03604344,  0.04409381,\n",
       "       -0.01240731,  0.13607772, -0.07737188,  0.02698449, -0.05652228,\n",
       "        0.07383179,  0.03441898, -0.02360063,  0.01186982,  0.03559583,\n",
       "        0.00156493, -0.06959265,  0.08477193,  0.11025506, -0.05358714,\n",
       "        0.08345757, -0.04631991, -0.1370102 , -0.11418301,  0.18243027,\n",
       "       -0.01983626, -0.18766038,  0.2691925 , -0.02898286, -0.12781386,\n",
       "       -0.05086587, -0.00190134, -0.11870609,  0.03551312,  0.03886468,\n",
       "       -0.01524484,  0.00514902, -0.17779914, -0.00921541,  0.18642   ,\n",
       "        0.01943001, -0.01397996,  0.00914894, -0.10395632,  0.12747824,\n",
       "       -0.04329069, -0.00954461, -0.04899258, -0.11346386, -0.06940141,\n",
       "        0.11698435, -0.13284352,  0.0467459 , -0.03311773, -0.11265133,\n",
       "       -0.06990488, -0.05909827, -0.10731638, -0.05938674, -0.10547109,\n",
       "        0.09224007, -0.02733918, -0.00426127,  0.01651082, -0.06336049,\n",
       "        0.11091825, -0.04969832,  0.06104701,  0.05531525, -0.06716301,\n",
       "        0.00361313,  0.11411362,  0.03290572, -0.00729514,  0.08222279,\n",
       "        0.04999314, -0.01567562,  0.05957869, -0.01954519,  0.09762906,\n",
       "        0.04398068, -0.08871429, -0.03020505, -0.03416491, -0.02975211,\n",
       "        0.09821688, -0.04780649, -0.06919409, -0.07154859, -0.09115757,\n",
       "       -0.03201405,  0.1398853 ,  0.14191416, -0.03910059,  0.19678797,\n",
       "        0.02024298, -0.157729  ,  0.19039123], dtype=float32)"
      ]
     },
     "execution_count": 47,
     "metadata": {},
     "output_type": "execute_result"
    }
   ],
   "source": [
    "emb[9766]"
   ]
  },
  {
   "cell_type": "code",
   "execution_count": 48,
   "id": "a4a47cc3-27e2-4778-9a14-6f92114d4e83",
   "metadata": {
    "scrolled": true,
    "tags": []
   },
   "outputs": [
    {
     "data": {
      "text/plain": [
       "array([ 0.14054911, -0.04474   ,  0.08690237, -0.02388951,  0.02586984,\n",
       "       -0.00946432,  0.0464124 ,  0.13557598,  0.08986656,  0.07203986,\n",
       "       -0.07628078, -0.03913295,  0.13116376, -0.04516151,  0.20110892,\n",
       "       -0.20312257,  0.06257293, -0.02988463, -0.03029353, -0.01568667,\n",
       "       -0.15514562,  0.03228221, -0.01818779,  0.0422956 , -0.10691135,\n",
       "        0.03156582,  0.02886078, -0.0109741 ,  0.1339612 , -0.07812901,\n",
       "        0.07290281, -0.06301681, -0.02028219,  0.0360433 ,  0.04409389,\n",
       "       -0.01240722,  0.13607746, -0.07737202,  0.02698488, -0.05652205,\n",
       "        0.07383217,  0.03441947, -0.02360078,  0.01186919,  0.0355956 ,\n",
       "        0.00156488, -0.06959283,  0.0847717 ,  0.11025478, -0.053587  ,\n",
       "        0.08345757, -0.04632008, -0.13701   , -0.1141829 ,  0.18243031,\n",
       "       -0.0198363 , -0.18766066,  0.26919252, -0.02898305, -0.12781452,\n",
       "       -0.05086588, -0.00190127, -0.11870638,  0.03551309,  0.0388649 ,\n",
       "       -0.01524493,  0.00514954, -0.17779931, -0.00921538,  0.18641983,\n",
       "        0.01942989, -0.01398002,  0.00914896, -0.10395614,  0.1274783 ,\n",
       "       -0.04329081, -0.00954444, -0.04899264, -0.11346371, -0.06940131,\n",
       "        0.11698459, -0.13284342,  0.04674582, -0.03311787, -0.11265118,\n",
       "       -0.06990507, -0.05909839, -0.10731649, -0.05938749, -0.10547118,\n",
       "        0.09223948, -0.02733891, -0.00426141,  0.016511  , -0.0633605 ,\n",
       "        0.11091818, -0.04969825,  0.06104697,  0.05531482, -0.06716307,\n",
       "        0.00361361,  0.11411375,  0.03290551, -0.00729537,  0.08222272,\n",
       "        0.04999297, -0.01567538,  0.0595789 , -0.01954469,  0.09762935,\n",
       "        0.04398075, -0.08871442, -0.03020531, -0.03416537, -0.02975186,\n",
       "        0.09821692, -0.04780649, -0.06919408, -0.07154853, -0.09115744,\n",
       "       -0.03201351,  0.13988537,  0.1419143 , -0.03910025,  0.19678791,\n",
       "        0.02024287, -0.1577285 ,  0.19039112], dtype=float32)"
      ]
     },
     "execution_count": 48,
     "metadata": {},
     "output_type": "execute_result"
    }
   ],
   "source": [
    "emb[15741]"
   ]
  },
  {
   "cell_type": "code",
   "execution_count": 23,
   "id": "48e83dd3-b8e2-4d95-acca-5e7f15e13030",
   "metadata": {},
   "outputs": [],
   "source": [
    "# how often an ambiguous definition appear in the dataset?\n",
    "global_ctx = predict.dataset_consts.global_context\n",
    "ambig_args = set()\n",
    "for cl in nt_eq_classes:\n",
    "    if len(cl) > 1: ambig_args.update(cl)\n",
    "data = d.data_valid()\n",
    "is_ambig_per_arg = []\n",
    "is_ambig_per_tac = []\n",
    "for state, action, _ in data:\n",
    "    _, args, mask_args = action\n",
    "    args = args[mask_args]\n",
    "    args_t, args_val = args.T\n",
    "    args_global = args_val[args_t == 1]\n",
    "    for arg in args_global:\n",
    "        is_ambig_per_arg.append(global_ctx[arg] in ambig_args)\n",
    "\n",
    "    ctx_len = len(state[3])\n",
    "    if ((args_t == 0) & (args_val == ctx_len)).any():\n",
    "        continue\n",
    "\n",
    "    if len(args_global) > 0:\n",
    "        is_ambig_per_tac.append(any(\n",
    "            global_ctx[arg] in ambig_args\n",
    "            for arg in args_global\n",
    "        ))"
   ]
  },
  {
   "cell_type": "code",
   "execution_count": 24,
   "id": "237dda06-e05f-47ae-b273-c6ca58faab3d",
   "metadata": {},
   "outputs": [
    {
     "name": "stdout",
     "output_type": "stream",
     "text": [
      "ambiguous per argument: 14127 / 72235 = 0.1955700145358898\n",
      "ambiguous per tactic: 13055 / 65165 = 0.20033760454231567\n"
     ]
    }
   ],
   "source": [
    "print(f\"ambiguous per argument: {np.sum(is_ambig_per_arg)} / {len(is_ambig_per_arg)} = {np.mean(is_ambig_per_arg)}\")\n",
    "print(f\"ambiguous per tactic: {np.sum(is_ambig_per_tac)} / {len(is_ambig_per_tac)} = {np.mean(is_ambig_per_tac)}\")"
   ]
  },
  {
   "cell_type": "code",
   "execution_count": 25,
   "id": "adc847f1-0161-478d-a778-ebf3236521d2",
   "metadata": {},
   "outputs": [],
   "source": [
    "# TODO: find out why some particular classes (Lasse on Slack) are equal\n",
    "#  . check if the embedding is not close to zero\n",
    "#  . try to tweak epsilon\n",
    "#  . try random network\n",
    "#    . try a network without trained definition loss\n",
    "#  . try proper \"hashing\"\n",
    "# TODO:\n",
    "# . find which ambiguous classes occur the most in the dataset (calculate statistics)\n",
    "# TODO:\n",
    "# . check how the drop in accuracy relates to the difference between original a new embedding\n",
    "\n",
    "# TODO:\n",
    "# . top-k accuracy\n",
    "# . hyperparameters:\n",
    "#   . tactic_expand_bound = 10\n",
    "#   . total_expand_bound = try 10 / 100 / 1000 ... 10 000 000 000"
   ]
  },
  {
   "cell_type": "code",
   "execution_count": 26,
   "id": "b0740975-7cc1-4eee-8c23-25ce36bed75f",
   "metadata": {},
   "outputs": [
    {
     "name": "stdout",
     "output_type": "stream",
     "text": [
      "Restrictions: tactics False, globargs False\n"
     ]
    },
    {
     "name": "stderr",
     "output_type": "stream",
     "text": [
      "Valid check: 100%|████████████████████████████████████████| 198207/198207 [2:23:18<00:00, 23.05it/s]"
     ]
    },
    {
     "name": "stdout",
     "output_type": "stream",
     "text": [
      "Validation accuracy:\n",
      "  no_arg: 78460 / 98146\n",
      "  local: 19615 / 31200\n",
      "  global: 12263 / 59958\n",
      "  both: 734 / 5207\n",
      "  none: 0 / 3696\n"
     ]
    },
    {
     "name": "stderr",
     "output_type": "stream",
     "text": [
      "\n"
     ]
    }
   ],
   "source": [
    "check_predict_accuracy(predict, d, global_equiv = nt_to_eqc, restrict_tactics = False, restrict_globargs = False)"
   ]
  },
  {
   "cell_type": "code",
   "execution_count": 30,
   "id": "d730624d-3b72-48b0-96ff-d26d881c8fb0",
   "metadata": {},
   "outputs": [
    {
     "name": "stdout",
     "output_type": "stream",
     "text": [
      "Restrictions: tactics True, globargs True\n"
     ]
    },
    {
     "name": "stderr",
     "output_type": "stream",
     "text": [
      "Valid check: 100%|████████████████████████████████████████| 198207/198207 [2:29:19<00:00, 22.12it/s]"
     ]
    },
    {
     "name": "stdout",
     "output_type": "stream",
     "text": [
      "Validation accuracy:\n",
      "  no_arg: 98146 / 98146\n",
      "  local: 27974 / 31200\n",
      "  global: 49637 / 59958\n",
      "  both: 3773 / 5207\n",
      "  none: 0 / 3696\n"
     ]
    },
    {
     "name": "stderr",
     "output_type": "stream",
     "text": [
      "\n"
     ]
    }
   ],
   "source": [
    "check_predict_accuracy(predict, d, global_equiv = nt_to_eqc, restrict_tactics = True, restrict_globargs = True)"
   ]
  },
  {
   "cell_type": "code",
   "execution_count": 28,
   "id": "bdd96541-fdaf-474d-9ab8-b5fbd1e05e9c",
   "metadata": {},
   "outputs": [
    {
     "name": "stdout",
     "output_type": "stream",
     "text": [
      "Restrictions: tactics True, globargs False\n"
     ]
    },
    {
     "name": "stderr",
     "output_type": "stream",
     "text": [
      "Valid check: 100%|████████████████████████████████████████| 198207/198207 [2:11:15<00:00, 25.17it/s]"
     ]
    },
    {
     "name": "stdout",
     "output_type": "stream",
     "text": [
      "Validation accuracy:\n",
      "  no_arg: 98146 / 98146\n",
      "  local: 27643 / 31200\n",
      "  global: 17358 / 59958\n",
      "  both: 1182 / 5207\n",
      "  none: 0 / 3696\n"
     ]
    },
    {
     "name": "stderr",
     "output_type": "stream",
     "text": [
      "\n"
     ]
    }
   ],
   "source": [
    "check_predict_accuracy(predict, d, global_equiv = nt_to_eqc, restrict_tactics = True, restrict_globargs = False)"
   ]
  },
  {
   "cell_type": "code",
   "execution_count": 29,
   "id": "1b62dea2-614a-4ea2-b63d-019b558caf59",
   "metadata": {},
   "outputs": [
    {
     "name": "stdout",
     "output_type": "stream",
     "text": [
      "Restrictions: tactics False, globargs True\n"
     ]
    },
    {
     "name": "stderr",
     "output_type": "stream",
     "text": [
      "Valid check: 100%|████████████████████████████████████████| 198207/198207 [2:10:28<00:00, 25.32it/s]"
     ]
    },
    {
     "name": "stdout",
     "output_type": "stream",
     "text": [
      "Validation accuracy:\n",
      "  no_arg: 78460 / 98146\n",
      "  local: 19732 / 31200\n",
      "  global: 32436 / 59958\n",
      "  both: 2092 / 5207\n",
      "  none: 0 / 3696\n"
     ]
    },
    {
     "name": "stderr",
     "output_type": "stream",
     "text": [
      "\n"
     ]
    }
   ],
   "source": [
    "check_predict_accuracy(predict, d, global_equiv = nt_to_eqc, restrict_tactics = False, restrict_globargs = True)"
   ]
  }
 ],
 "metadata": {
  "kernelspec": {
   "display_name": "Python 3 (ipykernel)",
   "language": "python",
   "name": "python3"
  },
  "language_info": {
   "codemirror_mode": {
    "name": "ipython",
    "version": 3
   },
   "file_extension": ".py",
   "mimetype": "text/x-python",
   "name": "python",
   "nbconvert_exporter": "python",
   "pygments_lexer": "ipython3",
   "version": "3.9.7"
  }
 },
 "nbformat": 4,
 "nbformat_minor": 5
}
