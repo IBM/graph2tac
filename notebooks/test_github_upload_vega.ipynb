{
 "cells": [
  {
   "cell_type": "code",
   "execution_count": 14,
   "metadata": {},
   "outputs": [
    {
     "data": {
      "text/plain": [
       "vegafusion.enable(mimetype='vega', row_limit=10000, embed_options=None)"
      ]
     },
     "execution_count": 14,
     "metadata": {},
     "output_type": "execute_result"
    }
   ],
   "source": [
    "import numpy as np\n",
    "import pandas as pd\n",
    "from pathlib import Path\n",
    "import altair as alt\n",
    "import json\n",
    "\n",
    "import altair as alt\n",
    "#alt.renderers.enable('mimetype')\n",
    "import vegafusion as vf\n",
    "vf.enable(mimetype=\"vega\")\n"
   ]
  },
  {
   "cell_type": "code",
   "execution_count": 15,
   "metadata": {},
   "outputs": [
    {
     "data": {
      "text/html": [
       "<div>\n",
       "<style scoped>\n",
       "    .dataframe tbody tr th:only-of-type {\n",
       "        vertical-align: middle;\n",
       "    }\n",
       "\n",
       "    .dataframe tbody tr th {\n",
       "        vertical-align: top;\n",
       "    }\n",
       "\n",
       "    .dataframe thead th {\n",
       "        text-align: right;\n",
       "    }\n",
       "</style>\n",
       "<table border=\"1\" class=\"dataframe\">\n",
       "  <thead>\n",
       "    <tr style=\"text-align: right;\">\n",
       "      <th></th>\n",
       "      <th>input</th>\n",
       "      <th>output</th>\n",
       "    </tr>\n",
       "  </thead>\n",
       "  <tbody>\n",
       "    <tr>\n",
       "      <th>0</th>\n",
       "      <td>0</td>\n",
       "      <td>1</td>\n",
       "    </tr>\n",
       "    <tr>\n",
       "      <th>1</th>\n",
       "      <td>1</td>\n",
       "      <td>2</td>\n",
       "    </tr>\n",
       "    <tr>\n",
       "      <th>2</th>\n",
       "      <td>2</td>\n",
       "      <td>3</td>\n",
       "    </tr>\n",
       "    <tr>\n",
       "      <th>3</th>\n",
       "      <td>3</td>\n",
       "      <td>4</td>\n",
       "    </tr>\n",
       "    <tr>\n",
       "      <th>4</th>\n",
       "      <td>4</td>\n",
       "      <td>5</td>\n",
       "    </tr>\n",
       "  </tbody>\n",
       "</table>\n",
       "</div>"
      ],
      "text/plain": [
       "   input  output\n",
       "0      0       1\n",
       "1      1       2\n",
       "2      2       3\n",
       "3      3       4\n",
       "4      4       5"
      ]
     },
     "execution_count": 15,
     "metadata": {},
     "output_type": "execute_result"
    }
   ],
   "source": [
    "data = pd.DataFrame({\"input\": [0, 1, 2, 3, 4], \"output\": [1, 2, 3, 4, 5]})\n",
    "data"
   ]
  },
  {
   "cell_type": "code",
   "execution_count": 16,
   "metadata": {},
   "outputs": [
    {
     "data": {
      "application/vnd.vega.v5+json": {
       "$schema": "https://vega.github.io/schema/vega/v5.json",
       "axes": [
        {
         "aria": false,
         "domain": false,
         "grid": true,
         "gridScale": "y",
         "labels": false,
         "maxExtent": 0,
         "minExtent": 0,
         "orient": "bottom",
         "scale": "x",
         "tickCount": {
          "signal": "ceil(width/40)"
         },
         "ticks": false,
         "zindex": 0
        },
        {
         "aria": false,
         "domain": false,
         "grid": true,
         "gridScale": "x",
         "labels": false,
         "maxExtent": 0,
         "minExtent": 0,
         "orient": "left",
         "scale": "y",
         "tickCount": {
          "signal": "ceil(height/40)"
         },
         "ticks": false,
         "zindex": 0
        },
        {
         "grid": false,
         "labelFlush": true,
         "labelOverlap": true,
         "orient": "bottom",
         "scale": "x",
         "tickCount": {
          "signal": "ceil(width/40)"
         },
         "title": "input",
         "zindex": 0
        },
        {
         "grid": false,
         "labelOverlap": true,
         "orient": "left",
         "scale": "y",
         "tickCount": {
          "signal": "ceil(height/40)"
         },
         "title": "output",
         "zindex": 0
        }
       ],
       "background": "white",
       "data": [
        {
         "name": "source_0",
         "values": [
          {
           "input": 0,
           "output": 1
          },
          {
           "input": 1,
           "output": 2
          },
          {
           "input": 2,
           "output": 3
          },
          {
           "input": 3,
           "output": 4
          },
          {
           "input": 4,
           "output": 5
          }
         ]
        },
        {
         "name": "source_0_x_domain_input",
         "values": [
          {
           "max": 4,
           "min": 0
          }
         ]
        },
        {
         "name": "source_0_y_domain_output",
         "values": [
          {
           "max": 5,
           "min": 1
          }
         ]
        }
       ],
       "height": 300,
       "marks": [
        {
         "encode": {
          "update": {
           "defined": {
            "signal": "isValid(datum[\"input\"]) && isFinite(+datum[\"input\"]) && isValid(datum[\"output\"]) && isFinite(+datum[\"output\"])"
           },
           "description": {
            "signal": "\"input: \" + (format(datum[\"input\"], \"\")) + \"; output: \" + (format(datum[\"output\"], \"\"))"
           },
           "stroke": {
            "value": "#4c78a8"
           },
           "x": {
            "field": "input",
            "scale": "x"
           },
           "y": {
            "field": "output",
            "scale": "y"
           }
          }
         },
         "from": {
          "data": "source_0"
         },
         "name": "marks",
         "sort": {
          "field": "datum[\"input\"]"
         },
         "style": [
          "line"
         ],
         "type": "line"
        }
       ],
       "padding": 5,
       "scales": [
        {
         "domain": [
          {
           "signal": "(data(\"source_0_x_domain_input\")[0] || {}).min"
          },
          {
           "signal": "(data(\"source_0_x_domain_input\")[0] || {}).max"
          }
         ],
         "name": "x",
         "nice": true,
         "range": [
          0,
          {
           "signal": "width"
          }
         ],
         "type": "linear",
         "zero": false
        },
        {
         "domain": [
          {
           "signal": "(data(\"source_0_y_domain_output\")[0] || {}).min"
          },
          {
           "signal": "(data(\"source_0_y_domain_output\")[0] || {}).max"
          }
         ],
         "name": "y",
         "nice": true,
         "range": [
          {
           "signal": "height"
          },
          0
         ],
         "type": "linear",
         "zero": true
        }
       ],
       "style": "cell",
       "width": 300
      },
      "text/plain": [
       "alt.Chart(...)"
      ]
     },
     "execution_count": 16,
     "metadata": {
      "application/vnd.vega.v5+json": {
       "embed_options": {
        "mode": "vega"
       }
      }
     },
     "output_type": "execute_result"
    }
   ],
   "source": [
    "alt.Chart(data).mark_line().encode(\n",
    "    x=\"input\", \n",
    "    y=\"output\"\n",
    ")"
   ]
  },
  {
   "cell_type": "code",
   "execution_count": null,
   "metadata": {},
   "outputs": [],
   "source": []
  }
 ],
 "metadata": {
  "kernelspec": {
   "display_name": "venv",
   "language": "python",
   "name": "python3"
  },
  "language_info": {
   "codemirror_mode": {
    "name": "ipython",
    "version": 3
   },
   "file_extension": ".py",
   "mimetype": "text/x-python",
   "name": "python",
   "nbconvert_exporter": "python",
   "pygments_lexer": "ipython3",
   "version": "3.10.6"
  },
  "orig_nbformat": 4
 },
 "nbformat": 4,
 "nbformat_minor": 2
}
