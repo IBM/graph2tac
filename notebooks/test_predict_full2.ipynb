{
 "cells": [
  {
   "cell_type": "code",
   "execution_count": 1,
   "id": "5b944f52-f551-4806-8d18-1649a64d4a15",
   "metadata": {
    "tags": []
   },
   "outputs": [],
   "source": [
    "#dataset_path = \"/home/mirek/data/stdlib-lgraph-intermediate-v9-global\"\n",
    "dataset_path = \"/home/mirek/data-local/stdlib-lgraph-intermediate-v11-global\"\n",
    "#weights_path = \"/home/mirek/graph2tac/graph2tac/tf2/weights/checkpoint__epoch0\"\n",
    "weights_path = \"/mnt/share/data/weights/vasily/runs/4_16_push_def_task/weights/checkpoint__epoch267\"\n",
    "params_path = \"/home/mirek/graph2tac/graph2tac/tf2/trained_params\"\n",
    "#params_path = \"/home/mirek/graph2tac/graph2tac/tf2/params_fast_train\""
   ]
  },
  {
   "cell_type": "code",
   "execution_count": 2,
   "id": "779a776c-e697-42c9-8ec2-74d722698c10",
   "metadata": {},
   "outputs": [],
   "source": [
    "from pathlib import Path\n",
    "from tqdm import tqdm\n",
    "import tensorflow as tf\n",
    "import numpy as np\n",
    "from tensorflow import keras\n",
    "\n",
    "from graph2tac.tf2.train import TrainingParams\n",
    "from graph2tac.tf2.predict import Predict\n",
    "from graph2tac.loader.data_server import DataServer\n",
    "from graph2tac.tf2.graph_nn_def_batch import make_flat_def_batch_np\n",
    "from graph2tac.tf2.model import np_to_tensor_def"
   ]
  },
  {
   "cell_type": "code",
   "execution_count": 3,
   "id": "6122c682-affc-4759-a9f4-90c28fcdf509",
   "metadata": {},
   "outputs": [],
   "source": [
    "def run_update_embeddings(predict, d, extra_iterations = 0):\n",
    "    embeddings = predict.model_wrapper.node_and_def_emb._embedding_layer.embeddings\n",
    "    emb0 = np.array(predict.model_wrapper.node_and_def_emb._embedding_layer.embeddings.numpy())\n",
    "    start_def = predict.dataset_consts.base_node_type_num\n",
    "    emb_def = embeddings[start_def:]\n",
    "    print(\"emb_zeros_ori\", tf.math.reduce_all(tf.equal(predict.model_wrapper.node_and_def_emb._embedding_layer.embeddings[start_def:], 0.)))\n",
    "    emb_def.assign(tf.zeros_like(emb_def))\n",
    "    print(\"emb_zeros\", tf.math.reduce_all(tf.equal(predict.model_wrapper.node_and_def_emb._embedding_layer.embeddings[start_def:], 0.)))\n",
    "    # recalculate the embeddings by their definitions\n",
    "    clusters = d.def_cluster_subgraphs(tf_gnn=False)\n",
    "    #print(\"Update embeddings\")\n",
    "    for cluster in tqdm(clusters, desc = \"Update embedding\"):\n",
    "    #for cluster in clusters:\n",
    "        nodes_c = np.array(cluster[0])\n",
    "        root_nums = cluster[2]\n",
    "        roots = nodes_c[:root_nums]\n",
    "        nodes_c = nodes_c[root_nums:]\n",
    "        #print(np.max(nodes_c), \"->\", roots)\n",
    "        predict.compute_new_definitions([cluster])\n",
    "    print(\"emb_updated_zeros\", tf.math.reduce_all(tf.equal(predict.model_wrapper.node_and_def_emb._embedding_layer.embeddings[start_def:], 0.)))\n",
    "    emb1 = np.array(predict.model_wrapper.node_and_def_emb._embedding_layer.embeddings.numpy())\n",
    "    print(\"emb0 == emb1\", np.max(np.abs(emb0 - emb1)))\n",
    "    for i in range(extra_iterations):\n",
    "        for cluster in tqdm(clusters, desc = \"Update embedding{}\".format(i+2)):\n",
    "            predict.compute_new_definitions([cluster])\n",
    "        emb2 = np.array(predict.model_wrapper.node_and_def_emb._embedding_layer.embeddings.numpy())\n",
    "        print(\"emb{} == emb{}\".format(i+1, i+2), np.max(np.abs(emb1 - emb2)))\n",
    "        emb1 = emb2"
   ]
  },
  {
   "cell_type": "code",
   "execution_count": 4,
   "id": "b74c35b9-cbc1-49b8-b74c-60f81dbce672",
   "metadata": {},
   "outputs": [],
   "source": [
    "def check_def_loss(predict, d):\n",
    "    def squared_norm_diff(\n",
    "        emb1,  # [batch, dim]\n",
    "        emb2,  # [batch, dim]\n",
    "    ):  # -> [batch]\n",
    "        diff = emb1 - emb2  # [batch, dim]\n",
    "        norm_squared = tf.math.reduce_sum(tf.square(diff), axis=-1)  # [batch]\n",
    "        return norm_squared  # [batch]\n",
    "\n",
    "    def_loss_mean = tf.keras.metrics.Mean()\n",
    "    @tf.function(input_signature=(predict.model_wrapper.def_input_spec,))\n",
    "    def def_loss_step(batch):\n",
    "        def_body_embs, def_id_embs = predict.model_wrapper.model_def(batch, training=False)\n",
    "        def_loss = squared_norm_diff(def_body_embs.values, def_id_embs.values)\n",
    "        #print(def_loss.numpy())\n",
    "        def_loss_mean(def_loss)\n",
    "    clusters = d.def_cluster_subgraphs(tf_gnn=False)\n",
    "    for cluster in tqdm(clusters, desc = \"Check def loss\"):\n",
    "        flat_batch_np = make_flat_def_batch_np([cluster])\n",
    "        flat_batch = np_to_tensor_def(flat_batch_np)\n",
    "        def_loss_step(flat_batch)\n",
    "    print(\"Def loss:\", def_loss_mean.result().numpy())"
   ]
  },
  {
   "cell_type": "code",
   "execution_count": 5,
   "id": "292cf908-9b36-46cc-8edb-edf4c8887122",
   "metadata": {},
   "outputs": [],
   "source": [
    "def check_predict_accuracy(predict, d, restrict_tactics = False, restrict_globargs = False, global_equiv = None):\n",
    "    allowed_model_tactics = list(range(len(d.graph_constants().tactic_index_to_hash)))\n",
    "    available_global = None\n",
    "    score = {\n",
    "        \"no_arg\" : [0,0],\n",
    "        \"local\" : [0,0],\n",
    "        \"global\" : [0,0],\n",
    "        \"both\" : [0,0],\n",
    "        \"none\" : [0,0],\n",
    "    }\n",
    "    correct = 0\n",
    "    total = 0\n",
    "    print(f\"Restrictions: tactics {restrict_tactics}, globargs {restrict_globargs}\")\n",
    "    data = d.data_valid()\n",
    "    data = tqdm(data, desc = \"Valid check\")\n",
    "    for state, action, _ in data:\n",
    "        if restrict_tactics:\n",
    "            allowed_model_tactics = [action[0]]\n",
    "        if restrict_globargs:\n",
    "            _, args, mask_args = action\n",
    "            args = args[mask_args]\n",
    "            arg_is_global = args[:,0] == 1\n",
    "            arg_vals = args[:,1]\n",
    "            glob_args = arg_vals[arg_is_global]\n",
    "            #available_global = np.array([\n",
    "            #    predict.dataset_consts.global_context.index(x)\n",
    "            #    for x in sorted(set(glob_args))\n",
    "            #], dtype = int)\n",
    "            available_global = np.array(sorted(set(glob_args)), dtype = int)\n",
    "        ranked_actions, ranked_values = predict.ranked_predictions(\n",
    "            state, allowed_model_tactics, available_global = available_global,\n",
    "            tactic_expand_bound=1, total_expand_bound=1,\n",
    "        )\n",
    "        real_tactic_label, real_args, mask_args = action\n",
    "        real_args_valid = real_args[mask_args]\n",
    "        if len(ranked_actions) > 0: action = ranked_actions[0]\n",
    "        else: action = None\n",
    "        arg_types = real_args_valid[:,0]\n",
    "        arg_values = real_args_valid[:,1]\n",
    "        ctx_len = len(state[3])\n",
    "        if arg_types.size == 0: cur_type = \"no_arg\"\n",
    "        elif ((arg_types == 0) & (arg_values == ctx_len)).any(): cur_type = \"none\"\n",
    "        elif (arg_types == 0).all(): cur_type = \"local\"\n",
    "        elif (arg_types == 1).all(): cur_type = \"global\"\n",
    "        else: cur_type = \"both\"\n",
    "        score_t = score[cur_type]\n",
    "        score_t[0] += 1\n",
    "        #print(\"cur_type:\", cur_type)\n",
    "        #print(\"real_tactic_label:\", real_tactic_label)\n",
    "        #print(\"real_args_valid:\", real_args_valid)\n",
    "        #print(\"action:\", action)\n",
    "        #print()\n",
    "        if action is not None:\n",
    "            args_pred = action[1:]\n",
    "            global_ctx = np.array(predict.dataset_consts.global_context)\n",
    "            if global_equiv is not None:\n",
    "                global_equiv = np.array(global_equiv)\n",
    "                def convert_args(args):\n",
    "                    args_t, args_val = args.T\n",
    "                    args_glob = args_val[args_t == 1]\n",
    "                    args_glob = global_equiv[global_ctx[args_glob]] # conversion\n",
    "                    args_val[args_t == 1] = args_glob\n",
    "                #print(\"----------------\")\n",
    "                #print(real_args_valid.shape, args_pred.shape)\n",
    "                convert_args(real_args_valid)\n",
    "                convert_args(args_pred)\n",
    "                #print(real_args_valid.shape, args_pred.shape)\n",
    "            if real_tactic_label == action[0,0] and (real_args_valid == args_pred).all():\n",
    "                score_t[1] += 1\n",
    "    print(\"Validation accuracy:\")\n",
    "    for t, score_t in score.items():\n",
    "        print(f\"  {t}: {score_t[1]} / {score_t[0]}\")    "
   ]
  },
  {
   "cell_type": "code",
   "execution_count": 6,
   "id": "d93a4bb8-a498-4835-8642-667d76761537",
   "metadata": {},
   "outputs": [
    {
     "name": "stderr",
     "output_type": "stream",
     "text": [
      "/home/mirek/miniconda3/envs/omicron/lib/python3.9/site-packages/dataclasses_json-0.5.6-py3.9.egg/dataclasses_json/core.py:171: RuntimeWarning: `NoneType` object value of non-optional type num_proc detected when decoding TrainingParams.\n",
      "  warnings.warn(f\"`NoneType` object {warning}.\", RuntimeWarning)\n"
     ]
    }
   ],
   "source": [
    "params = TrainingParams.from_yaml_file(Path(params_path))"
   ]
  },
  {
   "cell_type": "code",
   "execution_count": 7,
   "id": "2087e357-8f5d-4141-bb94-739aeeec2e83",
   "metadata": {},
   "outputs": [
    {
     "data": {
      "text/plain": [
       "TrainingParams(data_params=DataParams(split_seed=0, split=(8, 1, 1), cv_fold=0, shuffle_def=True, max_subgraph_size=1024, bfs_option=False, restrict_to_spine=False), optimizer_params=OptimizerParams(optimizer='adam', learning_rate=None, clipvalue=None, clipnorm=None, global_clipnorm=None, loss_weights=LossWeightParams(tactic_base=1.0, tactic_args=1.0, def_task=100.0, def_id_to_body=1.0, def_body_to_id=1.0), def_task=True), model_params=ModelParams(dataset_consts=None, ignore_definitions=False, normalize_def_embeddings=True, single_edge_label=False, symmetric_edges=True, self_edges=True, total_hops=10, node_dim=128, message_passing_layer='conv2', norm_msgs=False, nonlin_position=None, nonlin_type='relu', residuals=True, residual_dropout=True, residual_norm='layer_norm', final_collapse=True, aggreg_max=False, use_same_graph_nn_weights_for_def_training=True), tf_seed=42, tf_eager=False, enable_op_determinism=False, batch_size=50, num_epochs=300, num_proc=None)"
      ]
     },
     "execution_count": 7,
     "metadata": {},
     "output_type": "execute_result"
    }
   ],
   "source": [
    "params"
   ]
  },
  {
   "cell_type": "code",
   "execution_count": 8,
   "id": "d89fa12c-3681-467b-bc55-4f12eb3a0701",
   "metadata": {},
   "outputs": [],
   "source": [
    "import os\n",
    "os.environ[\"G2T_LOG_LEVEL\"] = \"40\""
   ]
  },
  {
   "cell_type": "code",
   "execution_count": 9,
   "id": "7816efb0-3a10-4fb0-b378-dd52aad185c4",
   "metadata": {
    "scrolled": true,
    "tags": []
   },
   "outputs": [
    {
     "name": "stdout",
     "output_type": "stream",
     "text": [
      "LOADING | indexing and top sorting bin files in /home/mirek/data-local/stdlib-lgraph-intermediate-v11-global...done.\n",
      "LOADING | preparing data from 526 files.\n",
      "LOADING | constructing file reference table...done.\n",
      "LOADING | indexing all definitions...Indexed 73595 definitions in 0.537760 seconds.\n",
      "LOADING | indexing all tactical action-outcomes in 526 files..."
     ]
    },
    {
     "name": "stderr",
     "output_type": "stream",
     "text": [
      "526it [00:00, 2174.74it/s]\n"
     ]
    },
    {
     "name": "stdout",
     "output_type": "stream",
     "text": [
      "LOADING | Indexed 567329 tactical action-outcomes in 2.300030 seconds.\n",
      "LOADING | mmaping all capnp files and building data loader hash tables...done in 0.079705 seconds.\n",
      "LOADING | in def_dependencies: max_subgraph_size=1024 bfs_option=False\n",
      "LOADING | constructing shallow expansions of all definitions to build the graph of definition dependencies...done in 1.304275 seconds.\n",
      "LOADING | NOTICE: the graph of definition dependencies should be precomputed and recorded to capnp bin files at the time of generation of the dataset. It is inefficient to recompute this graph every time dataserver is initialized.\n",
      "LOADING | building strongly connected components (def clusters) in the meta graph of definition dependencies...done in 0.611645 seconds. Constructed 71179 def clusters.\n",
      "LOADING | DataServer is fully initialized in 4.902103 seconds and is ready to stream.\n"
     ]
    }
   ],
   "source": [
    "d = DataServer(\n",
    "    Path(dataset_path),\n",
    "    Path('.'),\n",
    "    cross_valid_fold=params.data_params.cv_fold,\n",
    "    bfs_option=params.data_params.bfs_option,\n",
    "    max_subgraph_size=params.data_params.max_subgraph_size,\n",
    "    split_random_seed=params.data_params.split_seed,\n",
    "    split=(0,1,0),\n",
    "#    global_args = True,\n",
    "    num_proc=params.num_proc,\n",
    "    restrict_to_spine = False,\n",
    ")"
   ]
  },
  {
   "cell_type": "code",
   "execution_count": 10,
   "id": "0dffff64-c2a8-4f4c-8b2b-d8f93c96db34",
   "metadata": {},
   "outputs": [],
   "source": [
    "predict = Predict(Path(weights_path))"
   ]
  },
  {
   "cell_type": "code",
   "execution_count": 11,
   "id": "912c4006-7ccb-46d0-ba35-e747cfe186db",
   "metadata": {},
   "outputs": [],
   "source": [
    "predict.initialize()"
   ]
  },
  {
   "cell_type": "code",
   "execution_count": 12,
   "id": "c9246948-292c-4fce-889e-1aafdd120dd9",
   "metadata": {},
   "outputs": [
    {
     "name": "stdout",
     "output_type": "stream",
     "text": [
      "LOADING | requested 71179\n"
     ]
    },
    {
     "name": "stderr",
     "output_type": "stream",
     "text": [
      "100%|███████████████████████████████████████████████████████████████████████████████████████████████████████████| 71179/71179 [00:07<00:00, 9534.64it/s]\n",
      "Check def loss: 100%|█████████████████████████████████████████████████████████████████████████████████████████████| 71179/71179 [33:00<00:00, 35.94it/s]\n"
     ]
    },
    {
     "name": "stdout",
     "output_type": "stream",
     "text": [
      "Def loss: 0.00031275675\n"
     ]
    }
   ],
   "source": [
    "check_def_loss(predict, d)"
   ]
  },
  {
   "cell_type": "code",
   "execution_count": 13,
   "id": "223f6f35-2150-46b6-850d-9244cd4d758f",
   "metadata": {},
   "outputs": [
    {
     "name": "stdout",
     "output_type": "stream",
     "text": [
      "Restrictions: tactics False, globargs False\n"
     ]
    },
    {
     "name": "stderr",
     "output_type": "stream",
     "text": [
      "Valid check: 100%|███████████████████████████████████████████████████████████████████████████████████████████| 567329/567329 [13:15:40<00:00, 11.88it/s]"
     ]
    },
    {
     "name": "stdout",
     "output_type": "stream",
     "text": [
      "Validation accuracy:\n",
      "  no_arg: 280336 / 317618\n",
      "  local: 59487 / 76910\n",
      "  global: 102502 / 150085\n",
      "  both: 8948 / 13556\n",
      "  none: 0 / 9160\n"
     ]
    },
    {
     "name": "stderr",
     "output_type": "stream",
     "text": [
      "\n"
     ]
    }
   ],
   "source": [
    "check_predict_accuracy(predict, d, restrict_tactics = False, restrict_globargs = False)"
   ]
  },
  {
   "cell_type": "code",
   "execution_count": null,
   "id": "0b0a5c83-ae4a-494a-85aa-fcecd6f0ba7c",
   "metadata": {},
   "outputs": [
    {
     "name": "stdout",
     "output_type": "stream",
     "text": [
      "Restrictions: tactics True, globargs True\n"
     ]
    },
    {
     "name": "stderr",
     "output_type": "stream",
     "text": [
      "Valid check:  68%|████████████████████████████████████████████████████████████▉                            | 388294/567329 [8:24:54<4:18:52, 11.53it/s]"
     ]
    }
   ],
   "source": [
    "check_predict_accuracy(predict, d, restrict_tactics = True, restrict_globargs = True)"
   ]
  },
  {
   "cell_type": "code",
   "execution_count": null,
   "id": "9011e4d4-57dc-4389-957e-6da5f2d5d9a4",
   "metadata": {},
   "outputs": [],
   "source": [
    "check_predict_accuracy(predict, d, restrict_tactics = True, restrict_globargs = False)"
   ]
  },
  {
   "cell_type": "code",
   "execution_count": null,
   "id": "500bc81f-26b9-43bd-98f2-2624b09e9e06",
   "metadata": {},
   "outputs": [],
   "source": [
    "check_predict_accuracy(predict, d, restrict_tactics = False, restrict_globargs = True)"
   ]
  },
  {
   "cell_type": "code",
   "execution_count": null,
   "id": "527c0626-274b-4099-9023-c8bce438b58c",
   "metadata": {},
   "outputs": [],
   "source": [
    "run_update_embeddings(predict, d)"
   ]
  },
  {
   "cell_type": "code",
   "execution_count": null,
   "id": "31622e87-aafb-46e6-8c7d-7f8253b477f2",
   "metadata": {},
   "outputs": [],
   "source": [
    "check_def_loss(predict, d)"
   ]
  },
  {
   "cell_type": "code",
   "execution_count": null,
   "id": "b298c583-f07f-44cf-aef8-f0b361323888",
   "metadata": {
    "scrolled": true,
    "tags": []
   },
   "outputs": [],
   "source": [
    "nt_to_name = predict.dataset_consts.node_type_to_name\n",
    "emb = np.array(predict.model_wrapper.node_and_def_emb._embedding_layer.embeddings.numpy())"
   ]
  },
  {
   "cell_type": "code",
   "execution_count": null,
   "id": "41c77a7e-2459-4b12-8dc0-780cda7763db",
   "metadata": {
    "scrolled": true,
    "tags": []
   },
   "outputs": [],
   "source": [
    "radius = 1e-6\n",
    "nt_to_eqc = np.arange(emb.shape[0])\n",
    "for n in tqdm(range(1, len(nt_to_eqc))):\n",
    "    dists = np.abs(emb[n] - emb[:n])\n",
    "    dists = np.max(dists, axis = 1)\n",
    "    min_dist_n = np.argmin(dists)\n",
    "    min_dist = dists[min_dist_n]\n",
    "    if min_dist <= radius:\n",
    "        nt_to_eqc[n] = nt_to_eqc[min_dist_n]"
   ]
  },
  {
   "cell_type": "code",
   "execution_count": null,
   "id": "b54cec92-668f-42ee-8764-a5a320cd3563",
   "metadata": {
    "scrolled": true,
    "tags": []
   },
   "outputs": [],
   "source": [
    "nt_to_eqc"
   ]
  },
  {
   "cell_type": "code",
   "execution_count": null,
   "id": "7df6a824-afd1-48f8-b781-52a120113489",
   "metadata": {},
   "outputs": [],
   "source": [
    "nt_eq_classes = dict()\n",
    "for n,c in enumerate(nt_to_eqc):\n",
    "    if c in nt_eq_classes: nt_eq_classes[c].append(n)\n",
    "    else: nt_eq_classes[c] = [n]\n",
    "nt_eq_classes = sorted(nt_eq_classes.values(), key = lambda x: (-len(x), x))\n",
    "len(nt_eq_classes)"
   ]
  },
  {
   "cell_type": "code",
   "execution_count": null,
   "id": "beed14fe-cc3e-405d-82e1-0f1eed7a3ebb",
   "metadata": {
    "scrolled": true,
    "tags": []
   },
   "outputs": [],
   "source": [
    "for cl in nt_eq_classes:\n",
    "    if len(cl) > 1: print([nt_to_name[x] for x in cl])"
   ]
  },
  {
   "cell_type": "code",
   "execution_count": null,
   "id": "8af8a805-c4f6-4344-a401-bfd2a551c018",
   "metadata": {},
   "outputs": [],
   "source": [
    "nt_to_name.index(\"Coq.Numbers.Cyclic.Abstract.CyclicAxioms.ZnZ.spec_div21\")"
   ]
  },
  {
   "cell_type": "code",
   "execution_count": null,
   "id": "e40d4089-2ff5-40dd-96a7-2a70cf480b41",
   "metadata": {},
   "outputs": [],
   "source": [
    "nt_to_name.index(\"Coq.Numbers.Cyclic.Abstract.CyclicAxioms.ZnZ.spec_add_carry_c\")"
   ]
  },
  {
   "cell_type": "code",
   "execution_count": null,
   "id": "6dc7c59a-99ca-4950-8e1b-6a9cd17245c6",
   "metadata": {
    "scrolled": true,
    "tags": []
   },
   "outputs": [],
   "source": [
    "emb[9766]"
   ]
  },
  {
   "cell_type": "code",
   "execution_count": null,
   "id": "a4a47cc3-27e2-4778-9a14-6f92114d4e83",
   "metadata": {
    "scrolled": true,
    "tags": []
   },
   "outputs": [],
   "source": [
    "emb[15741]"
   ]
  },
  {
   "cell_type": "code",
   "execution_count": null,
   "id": "48e83dd3-b8e2-4d95-acca-5e7f15e13030",
   "metadata": {},
   "outputs": [],
   "source": [
    "# how often an ambiguous definition appear in the dataset?\n",
    "global_ctx = predict.dataset_consts.global_context\n",
    "ambig_args = set()\n",
    "for cl in nt_eq_classes:\n",
    "    if len(cl) > 1: ambig_args.update(cl)\n",
    "data = d.data_valid()\n",
    "is_ambig_per_arg = []\n",
    "is_ambig_per_tac = []\n",
    "for state, action, _ in data:\n",
    "    _, args, mask_args = action\n",
    "    args = args[mask_args]\n",
    "    args_t, args_val = args.T\n",
    "    args_global = args_val[args_t == 1]\n",
    "    for arg in args_global:\n",
    "        is_ambig_per_arg.append(global_ctx[arg] in ambig_args)\n",
    "\n",
    "    ctx_len = len(state[3])\n",
    "    if ((args_t == 0) & (args_val == ctx_len)).any():\n",
    "        continue\n",
    "\n",
    "    if len(args_global) > 0:\n",
    "        is_ambig_per_tac.append(any(\n",
    "            global_ctx[arg] in ambig_args\n",
    "            for arg in args_global\n",
    "        ))"
   ]
  },
  {
   "cell_type": "code",
   "execution_count": null,
   "id": "237dda06-e05f-47ae-b273-c6ca58faab3d",
   "metadata": {},
   "outputs": [],
   "source": [
    "print(f\"ambiguous per argument: {np.sum(is_ambig_per_arg)} / {len(is_ambig_per_arg)} = {np.mean(is_ambig_per_arg)}\")\n",
    "print(f\"ambiguous per tactic: {np.sum(is_ambig_per_tac)} / {len(is_ambig_per_tac)} = {np.mean(is_ambig_per_tac)}\")"
   ]
  },
  {
   "cell_type": "code",
   "execution_count": null,
   "id": "adc847f1-0161-478d-a778-ebf3236521d2",
   "metadata": {},
   "outputs": [],
   "source": [
    "# TODO: find out why some particular classes (Lasse on Slack) are equal\n",
    "#  . check if the embedding is not close to zero\n",
    "#  . try to tweak epsilon\n",
    "#  . try random network\n",
    "#    . try a network without trained definition loss\n",
    "#  . try proper \"hashing\"\n",
    "# TODO:\n",
    "# . find which ambiguous classes occur the most in the dataset (calculate statistics)\n",
    "# TODO:\n",
    "# . check how the drop in accuracy relates to the difference between original a new embedding\n",
    "\n",
    "# TODO:\n",
    "# . top-k accuracy\n",
    "# . hyperparameters:\n",
    "#   . tactic_expand_bound = 10\n",
    "#   . total_expand_bound = try 10 / 100 / 1000 ... 10 000 000 000"
   ]
  },
  {
   "cell_type": "code",
   "execution_count": null,
   "id": "b0740975-7cc1-4eee-8c23-25ce36bed75f",
   "metadata": {},
   "outputs": [],
   "source": [
    "check_predict_accuracy(predict, d, global_equiv = nt_to_eqc, restrict_tactics = False, restrict_globargs = False)"
   ]
  },
  {
   "cell_type": "code",
   "execution_count": null,
   "id": "d730624d-3b72-48b0-96ff-d26d881c8fb0",
   "metadata": {},
   "outputs": [],
   "source": [
    "check_predict_accuracy(predict, d, global_equiv = nt_to_eqc, restrict_tactics = True, restrict_globargs = True)"
   ]
  },
  {
   "cell_type": "code",
   "execution_count": null,
   "id": "bdd96541-fdaf-474d-9ab8-b5fbd1e05e9c",
   "metadata": {},
   "outputs": [],
   "source": [
    "check_predict_accuracy(predict, d, global_equiv = nt_to_eqc, restrict_tactics = True, restrict_globargs = False)"
   ]
  },
  {
   "cell_type": "code",
   "execution_count": null,
   "id": "1b62dea2-614a-4ea2-b63d-019b558caf59",
   "metadata": {},
   "outputs": [],
   "source": [
    "check_predict_accuracy(predict, d, global_equiv = nt_to_eqc, restrict_tactics = False, restrict_globargs = True)"
   ]
  },
  {
   "cell_type": "code",
   "execution_count": null,
   "id": "ed0d3f5f-f5a7-4817-b21a-51994f223737",
   "metadata": {},
   "outputs": [],
   "source": []
  },
  {
   "cell_type": "code",
   "execution_count": null,
   "id": "ad83f150-75b6-4a10-b8f0-14d25426b195",
   "metadata": {},
   "outputs": [],
   "source": []
  }
 ],
 "metadata": {
  "kernelspec": {
   "display_name": "Python 3 (ipykernel)",
   "language": "python",
   "name": "python3"
  },
  "language_info": {
   "codemirror_mode": {
    "name": "ipython",
    "version": 3
   },
   "file_extension": ".py",
   "mimetype": "text/x-python",
   "name": "python",
   "nbconvert_exporter": "python",
   "pygments_lexer": "ipython3",
   "version": "3.9.7"
  }
 },
 "nbformat": 4,
 "nbformat_minor": 5
}
